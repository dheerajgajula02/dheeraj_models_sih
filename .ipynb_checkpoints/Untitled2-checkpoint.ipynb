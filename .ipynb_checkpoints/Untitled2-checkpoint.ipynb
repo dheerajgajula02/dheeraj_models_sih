{
 "cells": [
  {
   "cell_type": "code",
   "execution_count": 2,
   "id": "8a7696d7-0464-48d7-beff-b970dc5e625f",
   "metadata": {},
   "outputs": [],
   "source": [
    "import numpy as np\n",
    "import pandas as pd"
   ]
  },
  {
   "cell_type": "code",
   "execution_count": 3,
   "id": "17e1d7f4-d137-4410-be1d-1e475a80c499",
   "metadata": {},
   "outputs": [],
   "source": [
    "dataset = pd.read_csv(\"clean_1.csv\")\n"
   ]
  },
  {
   "cell_type": "code",
   "execution_count": 4,
   "id": "c5980439-f1a2-47e9-a8f7-d088a922cd63",
   "metadata": {},
   "outputs": [
    {
     "data": {
      "text/html": [
       "<div>\n",
       "<style scoped>\n",
       "    .dataframe tbody tr th:only-of-type {\n",
       "        vertical-align: middle;\n",
       "    }\n",
       "\n",
       "    .dataframe tbody tr th {\n",
       "        vertical-align: top;\n",
       "    }\n",
       "\n",
       "    .dataframe thead th {\n",
       "        text-align: right;\n",
       "    }\n",
       "</style>\n",
       "<table border=\"1\" class=\"dataframe\">\n",
       "  <thead>\n",
       "    <tr style=\"text-align: right;\">\n",
       "      <th></th>\n",
       "      <th>Unnamed: 0.1</th>\n",
       "      <th>Unnamed: 0</th>\n",
       "      <th>Date</th>\n",
       "      <th>KeyWord</th>\n",
       "      <th>ActSubCase</th>\n",
       "      <th>Stage</th>\n",
       "      <th>Type</th>\n",
       "      <th>Date_new</th>\n",
       "      <th>days</th>\n",
       "    </tr>\n",
       "  </thead>\n",
       "  <tbody>\n",
       "    <tr>\n",
       "      <th>0</th>\n",
       "      <td>0</td>\n",
       "      <td>0</td>\n",
       "      <td>2021-05-01 00:00:00</td>\n",
       "      <td>recoveryofmoney</td>\n",
       "      <td>370</td>\n",
       "      <td>misccases/purpose</td>\n",
       "      <td>cs(comm)</td>\n",
       "      <td>2021-05-01</td>\n",
       "      <td>466</td>\n",
       "    </tr>\n",
       "    <tr>\n",
       "      <th>1</th>\n",
       "      <td>1</td>\n",
       "      <td>1</td>\n",
       "      <td>2021-07-09 00:00:00</td>\n",
       "      <td>permanentinjuction</td>\n",
       "      <td>730</td>\n",
       "      <td>misccases/purpose</td>\n",
       "      <td>csdj</td>\n",
       "      <td>2021-07-09</td>\n",
       "      <td>397</td>\n",
       "    </tr>\n",
       "    <tr>\n",
       "      <th>2</th>\n",
       "      <td>2</td>\n",
       "      <td>2</td>\n",
       "      <td>22-9-2021</td>\n",
       "      <td>executionact1990</td>\n",
       "      <td>10</td>\n",
       "      <td>misccases/purpose</td>\n",
       "      <td>ex</td>\n",
       "      <td>2021-09-22</td>\n",
       "      <td>322</td>\n",
       "    </tr>\n",
       "    <tr>\n",
       "      <th>3</th>\n",
       "      <td>3</td>\n",
       "      <td>3</td>\n",
       "      <td>23-9-2021</td>\n",
       "      <td>recoveryofmoney</td>\n",
       "      <td>2(1)(c)(i)</td>\n",
       "      <td>plaintiff/petitionerevidence</td>\n",
       "      <td>cs(comm)</td>\n",
       "      <td>2021-09-23</td>\n",
       "      <td>321</td>\n",
       "    </tr>\n",
       "    <tr>\n",
       "      <th>4</th>\n",
       "      <td>4</td>\n",
       "      <td>4</td>\n",
       "      <td>29-9-2021</td>\n",
       "      <td>recoveryofmoney</td>\n",
       "      <td>1510</td>\n",
       "      <td>misccases/purpose</td>\n",
       "      <td>cs(comm)</td>\n",
       "      <td>2021-09-29</td>\n",
       "      <td>315</td>\n",
       "    </tr>\n",
       "    <tr>\n",
       "      <th>...</th>\n",
       "      <td>...</td>\n",
       "      <td>...</td>\n",
       "      <td>...</td>\n",
       "      <td>...</td>\n",
       "      <td>...</td>\n",
       "      <td>...</td>\n",
       "      <td>...</td>\n",
       "      <td>...</td>\n",
       "      <td>...</td>\n",
       "    </tr>\n",
       "    <tr>\n",
       "      <th>219</th>\n",
       "      <td>219</td>\n",
       "      <td>219</td>\n",
       "      <td>2017-06-05 00:00:00</td>\n",
       "      <td>industrialdisputesact,1947</td>\n",
       "      <td>100</td>\n",
       "      <td>miscarguments</td>\n",
       "      <td>lir</td>\n",
       "      <td>2017-06-05</td>\n",
       "      <td>1892</td>\n",
       "    </tr>\n",
       "    <tr>\n",
       "      <th>220</th>\n",
       "      <td>220</td>\n",
       "      <td>220</td>\n",
       "      <td>2017-11-08 00:00:00</td>\n",
       "      <td>industrialdisputesact,1947</td>\n",
       "      <td>10(1)c</td>\n",
       "      <td>misc/appearance</td>\n",
       "      <td>lir</td>\n",
       "      <td>2017-11-08</td>\n",
       "      <td>1736</td>\n",
       "    </tr>\n",
       "    <tr>\n",
       "      <th>221</th>\n",
       "      <td>221</td>\n",
       "      <td>221</td>\n",
       "      <td>16-01-2017</td>\n",
       "      <td>industrialdisputesact,1947</td>\n",
       "      <td>120</td>\n",
       "      <td>plaintiff/petitionerevidence</td>\n",
       "      <td>lir</td>\n",
       "      <td>2017-01-16</td>\n",
       "      <td>2032</td>\n",
       "    </tr>\n",
       "    <tr>\n",
       "      <th>222</th>\n",
       "      <td>222</td>\n",
       "      <td>222</td>\n",
       "      <td>20-01-2017</td>\n",
       "      <td>industrialdisputesact,1947</td>\n",
       "      <td>100</td>\n",
       "      <td>miscarguments</td>\n",
       "      <td>lir</td>\n",
       "      <td>2017-01-20</td>\n",
       "      <td>2028</td>\n",
       "    </tr>\n",
       "    <tr>\n",
       "      <th>223</th>\n",
       "      <td>223</td>\n",
       "      <td>223</td>\n",
       "      <td>29-05-2017</td>\n",
       "      <td>industrialdisputesact,1947</td>\n",
       "      <td>2a</td>\n",
       "      <td>plaintiff/petitionerevidence</td>\n",
       "      <td>lir</td>\n",
       "      <td>2017-05-29</td>\n",
       "      <td>1899</td>\n",
       "    </tr>\n",
       "  </tbody>\n",
       "</table>\n",
       "<p>224 rows × 9 columns</p>\n",
       "</div>"
      ],
      "text/plain": [
       "     Unnamed: 0.1  Unnamed: 0                 Date  \\\n",
       "0               0           0  2021-05-01 00:00:00   \n",
       "1               1           1  2021-07-09 00:00:00   \n",
       "2               2           2            22-9-2021   \n",
       "3               3           3            23-9-2021   \n",
       "4               4           4            29-9-2021   \n",
       "..            ...         ...                  ...   \n",
       "219           219         219  2017-06-05 00:00:00   \n",
       "220           220         220  2017-11-08 00:00:00   \n",
       "221           221         221           16-01-2017   \n",
       "222           222         222           20-01-2017   \n",
       "223           223         223           29-05-2017   \n",
       "\n",
       "                        KeyWord  ActSubCase                         Stage  \\\n",
       "0               recoveryofmoney         370             misccases/purpose   \n",
       "1            permanentinjuction         730             misccases/purpose   \n",
       "2              executionact1990          10             misccases/purpose   \n",
       "3               recoveryofmoney  2(1)(c)(i)  plaintiff/petitionerevidence   \n",
       "4               recoveryofmoney        1510             misccases/purpose   \n",
       "..                          ...         ...                           ...   \n",
       "219  industrialdisputesact,1947         100                 miscarguments   \n",
       "220  industrialdisputesact,1947      10(1)c               misc/appearance   \n",
       "221  industrialdisputesact,1947         120  plaintiff/petitionerevidence   \n",
       "222  industrialdisputesact,1947         100                 miscarguments   \n",
       "223  industrialdisputesact,1947          2a  plaintiff/petitionerevidence   \n",
       "\n",
       "         Type    Date_new  days  \n",
       "0    cs(comm)  2021-05-01   466  \n",
       "1        csdj  2021-07-09   397  \n",
       "2          ex  2021-09-22   322  \n",
       "3    cs(comm)  2021-09-23   321  \n",
       "4    cs(comm)  2021-09-29   315  \n",
       "..        ...         ...   ...  \n",
       "219       lir  2017-06-05  1892  \n",
       "220       lir  2017-11-08  1736  \n",
       "221       lir  2017-01-16  2032  \n",
       "222       lir  2017-01-20  2028  \n",
       "223       lir  2017-05-29  1899  \n",
       "\n",
       "[224 rows x 9 columns]"
      ]
     },
     "execution_count": 4,
     "metadata": {},
     "output_type": "execute_result"
    }
   ],
   "source": [
    "dataset"
   ]
  },
  {
   "cell_type": "code",
   "execution_count": 5,
   "id": "db1c7037-605b-40a8-b940-9a40eb0ec3c0",
   "metadata": {},
   "outputs": [],
   "source": [
    "del dataset['Unnamed: 0']"
   ]
  },
  {
   "cell_type": "code",
   "execution_count": 6,
   "id": "63d8a528-b231-4a2d-97d6-1c21d324b9e4",
   "metadata": {},
   "outputs": [],
   "source": [
    "del dataset['Unnamed: 0.1']"
   ]
  },
  {
   "cell_type": "code",
   "execution_count": 7,
   "id": "92209037-8487-4350-a371-7f730844849b",
   "metadata": {},
   "outputs": [],
   "source": [
    "del dataset['Date']"
   ]
  },
  {
   "cell_type": "code",
   "execution_count": 97,
   "id": "7f58eb50-fde6-474e-89b4-0292fee7f2ff",
   "metadata": {},
   "outputs": [
    {
     "name": "stdout",
     "output_type": "stream",
     "text": [
      "hello\n"
     ]
    }
   ],
   "source": [
    "print('hello')"
   ]
  },
  {
   "cell_type": "code",
   "execution_count": null,
   "id": "540cbdd7-22d4-46d9-a849-ed3221410105",
   "metadata": {},
   "outputs": [],
   "source": []
  },
  {
   "cell_type": "code",
   "execution_count": 8,
   "id": "9eda7cd1-461f-44e2-812e-5d556124cafe",
   "metadata": {},
   "outputs": [],
   "source": [
    "x= dataset.values"
   ]
  },
  {
   "cell_type": "code",
   "execution_count": 52,
   "id": "fc7b0f52-8be1-4cfb-93e6-56746723c488",
   "metadata": {},
   "outputs": [
    {
     "data": {
      "text/plain": [
       "array([['recoveryofmoney', '370', 'misccases/purpose', 'cs(comm)',\n",
       "        '2021-05-01', 466],\n",
       "       ['permanentinjuction', '730', 'misccases/purpose', 'csdj',\n",
       "        '2021-07-09', 397],\n",
       "       ['executionact1990', '10', 'misccases/purpose', 'ex',\n",
       "        '2021-09-22', 322],\n",
       "       ...,\n",
       "       ['industrialdisputesact,1947', '120',\n",
       "        'plaintiff/petitionerevidence', 'lir', '2017-01-16', 2032],\n",
       "       ['industrialdisputesact,1947', '100', 'miscarguments', 'lir',\n",
       "        '2017-01-20', 2028],\n",
       "       ['industrialdisputesact,1947', '2a',\n",
       "        'plaintiff/petitionerevidence', 'lir', '2017-05-29', 1899]],\n",
       "      dtype=object)"
      ]
     },
     "execution_count": 52,
     "metadata": {},
     "output_type": "execute_result"
    }
   ],
   "source": [
    "x"
   ]
  },
  {
   "cell_type": "code",
   "execution_count": 9,
   "id": "0a4d864c-e7dc-4bd6-8744-3665ab4deb79",
   "metadata": {},
   "outputs": [
    {
     "data": {
      "text/plain": [
       "numpy.ndarray"
      ]
     },
     "execution_count": 9,
     "metadata": {},
     "output_type": "execute_result"
    }
   ],
   "source": [
    "type(x[:,0])"
   ]
  },
  {
   "cell_type": "code",
   "execution_count": 10,
   "id": "71704b42-f5b0-4e1c-9b7b-53cda6e7c1d0",
   "metadata": {},
   "outputs": [],
   "source": [
    "from sklearn.compose import ColumnTransformer\n",
    "from sklearn.preprocessing import OneHotEncoder\n",
    "\n",
    "ct = ColumnTransformer(transformers=[('encoder',OneHotEncoder(),[0])], remainder='passthrough')"
   ]
  },
  {
   "cell_type": "code",
   "execution_count": 11,
   "id": "ace35881-7ab6-4089-82fd-458fce295a0e",
   "metadata": {},
   "outputs": [
    {
     "data": {
      "text/plain": [
       "str"
      ]
     },
     "execution_count": 11,
     "metadata": {},
     "output_type": "execute_result"
    }
   ],
   "source": [
    "type(x[1,0])"
   ]
  },
  {
   "cell_type": "code",
   "execution_count": 12,
   "id": "ff51dc4a-6ae4-48a0-9e3b-0a59672620be",
   "metadata": {},
   "outputs": [],
   "source": [
    "tempx= x[:, 0]"
   ]
  },
  {
   "cell_type": "code",
   "execution_count": 27,
   "id": "a978ee27-47a9-4771-8f1e-12579404092c",
   "metadata": {},
   "outputs": [
    {
     "data": {
      "text/plain": [
       "224"
      ]
     },
     "execution_count": 27,
     "metadata": {},
     "output_type": "execute_result"
    }
   ],
   "source": [
    "len(tempx)"
   ]
  },
  {
   "cell_type": "code",
   "execution_count": 13,
   "id": "60d8b9db-fa1d-4e75-ae2b-6a7e930bf38d",
   "metadata": {},
   "outputs": [],
   "source": [
    "tempx.shape = (len(tempx), 1)"
   ]
  },
  {
   "cell_type": "code",
   "execution_count": 14,
   "id": "72d89955-c759-49bc-a55a-fb10d5df1a30",
   "metadata": {},
   "outputs": [],
   "source": [
    "k=(ct.fit_transform(tempx))"
   ]
  },
  {
   "cell_type": "code",
   "execution_count": 15,
   "id": "e12ad994-11ca-479e-9f36-cb85a15feaca",
   "metadata": {},
   "outputs": [
    {
     "data": {
      "text/plain": [
       "(224, 37)"
      ]
     },
     "execution_count": 15,
     "metadata": {},
     "output_type": "execute_result"
    }
   ],
   "source": [
    "k.shape"
   ]
  },
  {
   "cell_type": "code",
   "execution_count": 16,
   "id": "03f0533c-e654-4b2f-8fef-5204b6c5c7bd",
   "metadata": {},
   "outputs": [
    {
     "data": {
      "text/plain": [
       "<224x37 sparse matrix of type '<class 'numpy.float64'>'\n",
       "\twith 224 stored elements in Compressed Sparse Row format>"
      ]
     },
     "execution_count": 16,
     "metadata": {},
     "output_type": "execute_result"
    }
   ],
   "source": [
    "k"
   ]
  },
  {
   "cell_type": "code",
   "execution_count": 103,
   "id": "574e6d4e-ca02-4720-a64c-b961979d9b51",
   "metadata": {},
   "outputs": [
    {
     "data": {
      "text/plain": [
       "array(['encoder__x0_arbitration&conciliationact,199,civilprocedurecode1908',\n",
       "       'encoder__x0_arbitration&conciliationact,1996',\n",
       "       'encoder__x0_arbitration&conciliationact,1996,civilprocedurecode1908',\n",
       "       'encoder__x0_arbitrationapplicationsu/s9',\n",
       "       'encoder__x0_civilcases', 'encoder__x0_civilprocedurecode',\n",
       "       'encoder__x0_codeofcriminalprocedure', 'encoder__x0_companiesact',\n",
       "       'encoder__x0_crpc', 'encoder__x0_declarationandmandatoryinjuction',\n",
       "       'encoder__x0_declarationandmnadatoryinjuction',\n",
       "       'encoder__x0_executionact1990', 'encoder__x0_incometaxact',\n",
       "       'encoder__x0_indianelectricityact', 'encoder__x0_indianpenalcode',\n",
       "       'encoder__x0_industrialdisputesact,1947',\n",
       "       'encoder__x0_injuctions-bothpermanentandmandatory',\n",
       "       'encoder__x0_ipc', 'encoder__x0_motorvehicleact',\n",
       "       'encoder__x0_narcoticdrugsandpsychotropicsubstancesact1985',\n",
       "       'encoder__x0_negotiableinstrumentsact', 'encoder__x0_partition',\n",
       "       'encoder__x0_paymentandsettlementact',\n",
       "       'encoder__x0_permanentinjuction',\n",
       "       'encoder__x0_permanentinjuction,renditionsofaccounts',\n",
       "       'encoder__x0_possession&perpetual&mandatoryinjuction',\n",
       "       'encoder__x0_possessionandpermanentinjuction',\n",
       "       'encoder__x0_possessionandrecoveryofrent/damages/mesneprofit',\n",
       "       'encoder__x0_publicpremisesact1971', 'encoder__x0_recoveryofmoney',\n",
       "       'encoder__x0_regularcivilappeal', 'encoder__x0_suitfordeclaration',\n",
       "       'encoder__x0_suitfordeclaratuon',\n",
       "       'encoder__x0_suitsforrecoveryanddamages',\n",
       "       'encoder__x0_theindiansuccessionact1925',\n",
       "       'encoder__x0_theindiansuccessionact1926',\n",
       "       'encoder__x0_trademarkact1999'], dtype=object)"
      ]
     },
     "execution_count": 103,
     "metadata": {},
     "output_type": "execute_result"
    }
   ],
   "source": [
    "ct.get_feature_names_out()"
   ]
  },
  {
   "cell_type": "code",
   "execution_count": 104,
   "id": "ff4e2cb0-b2da-4467-beb0-61c086f3e646",
   "metadata": {},
   "outputs": [
    {
     "data": {
      "text/plain": [
       "{'n_jobs': None,\n",
       " 'remainder': 'passthrough',\n",
       " 'sparse_threshold': 0.3,\n",
       " 'transformer_weights': None,\n",
       " 'transformers': [('encoder', OneHotEncoder(), [0])],\n",
       " 'verbose': False,\n",
       " 'verbose_feature_names_out': True,\n",
       " 'encoder': OneHotEncoder(),\n",
       " 'encoder__categories': 'auto',\n",
       " 'encoder__drop': None,\n",
       " 'encoder__dtype': numpy.float64,\n",
       " 'encoder__handle_unknown': 'error',\n",
       " 'encoder__max_categories': None,\n",
       " 'encoder__min_frequency': None,\n",
       " 'encoder__sparse': True}"
      ]
     },
     "execution_count": 104,
     "metadata": {},
     "output_type": "execute_result"
    }
   ],
   "source": [
    "ct.get_params(['permanentinjuction'])"
   ]
  },
  {
   "cell_type": "code",
   "execution_count": 108,
   "id": "5cae6dd0-895e-4504-8411-48b884d0abd5",
   "metadata": {},
   "outputs": [],
   "source": [
    "s=ct.transform([['permanentinjuction']])"
   ]
  },
  {
   "cell_type": "code",
   "execution_count": 109,
   "id": "45a87db3-d212-4e9c-b2a2-cb2b8c7428a6",
   "metadata": {},
   "outputs": [
    {
     "data": {
      "text/plain": [
       "scipy.sparse.csr.csr_matrix"
      ]
     },
     "execution_count": 109,
     "metadata": {},
     "output_type": "execute_result"
    }
   ],
   "source": [
    "type(s)"
   ]
  },
  {
   "cell_type": "code",
   "execution_count": 114,
   "id": "a01dcb7f-7a6c-4db4-bddd-8aa4ac3ce63f",
   "metadata": {},
   "outputs": [
    {
     "data": {
      "text/plain": [
       "numpy.float64"
      ]
     },
     "execution_count": 114,
     "metadata": {},
     "output_type": "execute_result"
    }
   ],
   "source": [
    "type(s.toarray()[0][0])"
   ]
  },
  {
   "cell_type": "code",
   "execution_count": 25,
   "id": "036dcb8d-68e5-46d7-a0b9-5eefbe3ed5d3",
   "metadata": {},
   "outputs": [
    {
     "ename": "NameError",
     "evalue": "name 's' is not defined",
     "output_type": "error",
     "traceback": [
      "\u001b[1;31m---------------------------------------------------------------------------\u001b[0m",
      "\u001b[1;31mNameError\u001b[0m                                 Traceback (most recent call last)",
      "\u001b[1;32m~\\AppData\\Local\\Temp\\ipykernel_14936\\926740265.py\u001b[0m in \u001b[0;36m<module>\u001b[1;34m\u001b[0m\n\u001b[1;32m----> 1\u001b[1;33m \u001b[0mprint\u001b[0m\u001b[1;33m(\u001b[0m\u001b[0ms\u001b[0m\u001b[1;33m)\u001b[0m\u001b[1;33m\u001b[0m\u001b[1;33m\u001b[0m\u001b[0m\n\u001b[0m",
      "\u001b[1;31mNameError\u001b[0m: name 's' is not defined"
     ]
    }
   ],
   "source": [
    "print(s)"
   ]
  },
  {
   "cell_type": "code",
   "execution_count": null,
   "id": "261e9150-7e94-4f95-95c6-704f5bc619c9",
   "metadata": {},
   "outputs": [],
   "source": []
  },
  {
   "cell_type": "code",
   "execution_count": null,
   "id": "ac2b5938-98fb-4db2-8abb-bb80cb472b28",
   "metadata": {},
   "outputs": [],
   "source": []
  },
  {
   "cell_type": "code",
   "execution_count": null,
   "id": "ba1f844d-1167-4e0a-b24c-9637709b1fc6",
   "metadata": {},
   "outputs": [],
   "source": []
  },
  {
   "cell_type": "code",
   "execution_count": 90,
   "id": "4583fa03-9223-4b78-a2db-f9e38fb66a2a",
   "metadata": {},
   "outputs": [
    {
     "name": "stdout",
     "output_type": "stream",
     "text": [
      "[0. 0. 1.]\n"
     ]
    }
   ],
   "source": [
    "print(k[0, :])"
   ]
  },
  {
   "cell_type": "code",
   "execution_count": 91,
   "id": "5e5c18a9-4dc4-4205-abfd-78058e0dcba4",
   "metadata": {},
   "outputs": [
    {
     "name": "stdout",
     "output_type": "stream",
     "text": [
      "[[0. 0. 1.]\n",
      " [0. 1. 0.]\n",
      " [1. 0. 0.]\n",
      " [0. 0. 1.]\n",
      " [0. 0. 1.]]\n"
     ]
    }
   ],
   "source": [
    "print(k)"
   ]
  },
  {
   "cell_type": "code",
   "execution_count": null,
   "id": "54042aba-c989-4d19-8517-7307a0186319",
   "metadata": {},
   "outputs": [],
   "source": []
  },
  {
   "cell_type": "code",
   "execution_count": null,
   "id": "2178bd02-74a0-4d67-afd8-83ce4b4ece98",
   "metadata": {},
   "outputs": [],
   "source": []
  },
  {
   "cell_type": "code",
   "execution_count": 17,
   "id": "056724de-2608-4621-a48a-d6f6991bc587",
   "metadata": {},
   "outputs": [],
   "source": [
    "temp = x[0:63, :]"
   ]
  },
  {
   "cell_type": "code",
   "execution_count": 18,
   "id": "62cf0a6f-278b-40cd-acae-7c8295e33dc8",
   "metadata": {},
   "outputs": [
    {
     "data": {
      "text/plain": [
       "(63, 6)"
      ]
     },
     "execution_count": 18,
     "metadata": {},
     "output_type": "execute_result"
    }
   ],
   "source": [
    "temp.shape"
   ]
  },
  {
   "cell_type": "code",
   "execution_count": 19,
   "id": "afeb72f8-3c1b-4d1f-bd1d-ed2f47b8aa0b",
   "metadata": {},
   "outputs": [
    {
     "ename": "ValueError",
     "evalue": "For a sparse output, all columns should be a numeric or convertible to a numeric.",
     "output_type": "error",
     "traceback": [
      "\u001b[1;31m---------------------------------------------------------------------------\u001b[0m",
      "\u001b[1;31mValueError\u001b[0m                                Traceback (most recent call last)",
      "\u001b[1;32m~\\anaconda3\\lib\\site-packages\\sklearn\\compose\\_column_transformer.py\u001b[0m in \u001b[0;36m_hstack\u001b[1;34m(self, Xs)\u001b[0m\n\u001b[0;32m    775\u001b[0m                 \u001b[1;31m# dtype conversion if necessary.\u001b[0m\u001b[1;33m\u001b[0m\u001b[1;33m\u001b[0m\u001b[0m\n\u001b[1;32m--> 776\u001b[1;33m                 converted_Xs = [\n\u001b[0m\u001b[0;32m    777\u001b[0m                     \u001b[0mcheck_array\u001b[0m\u001b[1;33m(\u001b[0m\u001b[0mX\u001b[0m\u001b[1;33m,\u001b[0m \u001b[0maccept_sparse\u001b[0m\u001b[1;33m=\u001b[0m\u001b[1;32mTrue\u001b[0m\u001b[1;33m,\u001b[0m \u001b[0mforce_all_finite\u001b[0m\u001b[1;33m=\u001b[0m\u001b[1;32mFalse\u001b[0m\u001b[1;33m)\u001b[0m\u001b[1;33m\u001b[0m\u001b[1;33m\u001b[0m\u001b[0m\n",
      "\u001b[1;32m~\\anaconda3\\lib\\site-packages\\sklearn\\compose\\_column_transformer.py\u001b[0m in \u001b[0;36m<listcomp>\u001b[1;34m(.0)\u001b[0m\n\u001b[0;32m    776\u001b[0m                 converted_Xs = [\n\u001b[1;32m--> 777\u001b[1;33m                     \u001b[0mcheck_array\u001b[0m\u001b[1;33m(\u001b[0m\u001b[0mX\u001b[0m\u001b[1;33m,\u001b[0m \u001b[0maccept_sparse\u001b[0m\u001b[1;33m=\u001b[0m\u001b[1;32mTrue\u001b[0m\u001b[1;33m,\u001b[0m \u001b[0mforce_all_finite\u001b[0m\u001b[1;33m=\u001b[0m\u001b[1;32mFalse\u001b[0m\u001b[1;33m)\u001b[0m\u001b[1;33m\u001b[0m\u001b[1;33m\u001b[0m\u001b[0m\n\u001b[0m\u001b[0;32m    778\u001b[0m                     \u001b[1;32mfor\u001b[0m \u001b[0mX\u001b[0m \u001b[1;32min\u001b[0m \u001b[0mXs\u001b[0m\u001b[1;33m\u001b[0m\u001b[1;33m\u001b[0m\u001b[0m\n",
      "\u001b[1;32m~\\anaconda3\\lib\\site-packages\\sklearn\\utils\\validation.py\u001b[0m in \u001b[0;36mcheck_array\u001b[1;34m(array, accept_sparse, accept_large_sparse, dtype, order, copy, force_all_finite, ensure_2d, allow_nd, ensure_min_samples, ensure_min_features, estimator, input_name)\u001b[0m\n\u001b[0;32m    855\u001b[0m                 \u001b[1;32melse\u001b[0m\u001b[1;33m:\u001b[0m\u001b[1;33m\u001b[0m\u001b[1;33m\u001b[0m\u001b[0m\n\u001b[1;32m--> 856\u001b[1;33m                     \u001b[0marray\u001b[0m \u001b[1;33m=\u001b[0m \u001b[0mnp\u001b[0m\u001b[1;33m.\u001b[0m\u001b[0masarray\u001b[0m\u001b[1;33m(\u001b[0m\u001b[0marray\u001b[0m\u001b[1;33m,\u001b[0m \u001b[0morder\u001b[0m\u001b[1;33m=\u001b[0m\u001b[0morder\u001b[0m\u001b[1;33m,\u001b[0m \u001b[0mdtype\u001b[0m\u001b[1;33m=\u001b[0m\u001b[0mdtype\u001b[0m\u001b[1;33m)\u001b[0m\u001b[1;33m\u001b[0m\u001b[1;33m\u001b[0m\u001b[0m\n\u001b[0m\u001b[0;32m    857\u001b[0m             \u001b[1;32mexcept\u001b[0m \u001b[0mComplexWarning\u001b[0m \u001b[1;32mas\u001b[0m \u001b[0mcomplex_warning\u001b[0m\u001b[1;33m:\u001b[0m\u001b[1;33m\u001b[0m\u001b[1;33m\u001b[0m\u001b[0m\n",
      "\u001b[1;31mValueError\u001b[0m: could not convert string to float: '2(1)(c)(i)'",
      "\nThe above exception was the direct cause of the following exception:\n",
      "\u001b[1;31mValueError\u001b[0m                                Traceback (most recent call last)",
      "\u001b[1;32m~\\AppData\\Local\\Temp\\ipykernel_14936\\861991256.py\u001b[0m in \u001b[0;36m<module>\u001b[1;34m\u001b[0m\n\u001b[1;32m----> 1\u001b[1;33m \u001b[0mtemp\u001b[0m\u001b[1;33m=\u001b[0m\u001b[0mnp\u001b[0m\u001b[1;33m.\u001b[0m\u001b[0marray\u001b[0m\u001b[1;33m(\u001b[0m\u001b[0mct\u001b[0m\u001b[1;33m.\u001b[0m\u001b[0mfit_transform\u001b[0m\u001b[1;33m(\u001b[0m\u001b[0mtemp\u001b[0m\u001b[1;33m)\u001b[0m\u001b[1;33m)\u001b[0m\u001b[1;33m\u001b[0m\u001b[1;33m\u001b[0m\u001b[0m\n\u001b[0m\u001b[0;32m      2\u001b[0m \u001b[0mprint\u001b[0m\u001b[1;33m(\u001b[0m\u001b[0mtemp\u001b[0m\u001b[1;33m)\u001b[0m\u001b[1;33m\u001b[0m\u001b[1;33m\u001b[0m\u001b[0m\n",
      "\u001b[1;32m~\\anaconda3\\lib\\site-packages\\sklearn\\compose\\_column_transformer.py\u001b[0m in \u001b[0;36mfit_transform\u001b[1;34m(self, X, y)\u001b[0m\n\u001b[0;32m    695\u001b[0m         \u001b[0mself\u001b[0m\u001b[1;33m.\u001b[0m\u001b[0m_record_output_indices\u001b[0m\u001b[1;33m(\u001b[0m\u001b[0mXs\u001b[0m\u001b[1;33m)\u001b[0m\u001b[1;33m\u001b[0m\u001b[1;33m\u001b[0m\u001b[0m\n\u001b[0;32m    696\u001b[0m \u001b[1;33m\u001b[0m\u001b[0m\n\u001b[1;32m--> 697\u001b[1;33m         \u001b[1;32mreturn\u001b[0m \u001b[0mself\u001b[0m\u001b[1;33m.\u001b[0m\u001b[0m_hstack\u001b[0m\u001b[1;33m(\u001b[0m\u001b[0mlist\u001b[0m\u001b[1;33m(\u001b[0m\u001b[0mXs\u001b[0m\u001b[1;33m)\u001b[0m\u001b[1;33m)\u001b[0m\u001b[1;33m\u001b[0m\u001b[1;33m\u001b[0m\u001b[0m\n\u001b[0m\u001b[0;32m    698\u001b[0m \u001b[1;33m\u001b[0m\u001b[0m\n\u001b[0;32m    699\u001b[0m     \u001b[1;32mdef\u001b[0m \u001b[0mtransform\u001b[0m\u001b[1;33m(\u001b[0m\u001b[0mself\u001b[0m\u001b[1;33m,\u001b[0m \u001b[0mX\u001b[0m\u001b[1;33m)\u001b[0m\u001b[1;33m:\u001b[0m\u001b[1;33m\u001b[0m\u001b[1;33m\u001b[0m\u001b[0m\n",
      "\u001b[1;32m~\\anaconda3\\lib\\site-packages\\sklearn\\compose\\_column_transformer.py\u001b[0m in \u001b[0;36m_hstack\u001b[1;34m(self, Xs)\u001b[0m\n\u001b[0;32m    779\u001b[0m                 ]\n\u001b[0;32m    780\u001b[0m             \u001b[1;32mexcept\u001b[0m \u001b[0mValueError\u001b[0m \u001b[1;32mas\u001b[0m \u001b[0me\u001b[0m\u001b[1;33m:\u001b[0m\u001b[1;33m\u001b[0m\u001b[1;33m\u001b[0m\u001b[0m\n\u001b[1;32m--> 781\u001b[1;33m                 raise ValueError(\n\u001b[0m\u001b[0;32m    782\u001b[0m                     \u001b[1;34m\"For a sparse output, all columns should \"\u001b[0m\u001b[1;33m\u001b[0m\u001b[1;33m\u001b[0m\u001b[0m\n\u001b[0;32m    783\u001b[0m                     \u001b[1;34m\"be a numeric or convertible to a numeric.\"\u001b[0m\u001b[1;33m\u001b[0m\u001b[1;33m\u001b[0m\u001b[0m\n",
      "\u001b[1;31mValueError\u001b[0m: For a sparse output, all columns should be a numeric or convertible to a numeric."
     ]
    }
   ],
   "source": [
    "temp=np.array(ct.fit_transform(temp))\n",
    "print(temp)"
   ]
  },
  {
   "cell_type": "code",
   "execution_count": 61,
   "id": "bff52603-655f-4792-868a-cba3bc813129",
   "metadata": {},
   "outputs": [
    {
     "data": {
      "text/plain": [
       "array(['indianpenalcode', '340', 'prosecutionevidence', 'sc',\n",
       "       '2021-05-03', 464], dtype=object)"
      ]
     },
     "execution_count": 61,
     "metadata": {},
     "output_type": "execute_result"
    }
   ],
   "source": [
    "x[63,:]"
   ]
  },
  {
   "cell_type": "code",
   "execution_count": 54,
   "id": "678c1d45-9967-4d6d-b556-59e102adef5b",
   "metadata": {},
   "outputs": [
    {
     "data": {
      "text/plain": [
       "array(['indianpenalcode', '365/412/395', 'prosecutionevidence', 'sc',\n",
       "       '2021-07-04', 402], dtype=object)"
      ]
     },
     "execution_count": 54,
     "metadata": {},
     "output_type": "execute_result"
    }
   ],
   "source": [
    "x[62,:]"
   ]
  },
  {
   "cell_type": "code",
   "execution_count": 62,
   "id": "91e2896b-e528-4364-a1fa-3f5cf8208ca7",
   "metadata": {},
   "outputs": [
    {
     "data": {
      "text/plain": [
       "array(['negotiableinstrumentsact', '1380', 'issues', 'ccniact',\n",
       "       '2022-04-04', 128], dtype=object)"
      ]
     },
     "execution_count": 62,
     "metadata": {},
     "output_type": "execute_result"
    }
   ],
   "source": [
    "x[61,:]"
   ]
  },
  {
   "cell_type": "code",
   "execution_count": 66,
   "id": "d3239f0f-367e-47b3-9721-6d0e67d54a8b",
   "metadata": {},
   "outputs": [
    {
     "data": {
      "text/plain": [
       "array(['narcoticdrugsandpsychotropicsubstancesact1985', '20/61/85',\n",
       "       'prosecutionevidence', 'sc', '2021-06-12', 424], dtype=object)"
      ]
     },
     "execution_count": 66,
     "metadata": {},
     "output_type": "execute_result"
    }
   ],
   "source": [
    "x[64,:]"
   ]
  },
  {
   "cell_type": "code",
   "execution_count": 15,
   "id": "6b93a837-c929-4933-9c9d-5bd982564a93",
   "metadata": {},
   "outputs": [
    {
     "ename": "ValueError",
     "evalue": "For a sparse output, all columns should be a numeric or convertible to a numeric.",
     "output_type": "error",
     "traceback": [
      "\u001b[1;31m---------------------------------------------------------------------------\u001b[0m",
      "\u001b[1;31mValueError\u001b[0m                                Traceback (most recent call last)",
      "\u001b[1;32m~\\anaconda3\\lib\\site-packages\\sklearn\\compose\\_column_transformer.py\u001b[0m in \u001b[0;36m_hstack\u001b[1;34m(self, Xs)\u001b[0m\n\u001b[0;32m    775\u001b[0m                 \u001b[1;31m# dtype conversion if necessary.\u001b[0m\u001b[1;33m\u001b[0m\u001b[1;33m\u001b[0m\u001b[0m\n\u001b[1;32m--> 776\u001b[1;33m                 converted_Xs = [\n\u001b[0m\u001b[0;32m    777\u001b[0m                     \u001b[0mcheck_array\u001b[0m\u001b[1;33m(\u001b[0m\u001b[0mX\u001b[0m\u001b[1;33m,\u001b[0m \u001b[0maccept_sparse\u001b[0m\u001b[1;33m=\u001b[0m\u001b[1;32mTrue\u001b[0m\u001b[1;33m,\u001b[0m \u001b[0mforce_all_finite\u001b[0m\u001b[1;33m=\u001b[0m\u001b[1;32mFalse\u001b[0m\u001b[1;33m)\u001b[0m\u001b[1;33m\u001b[0m\u001b[1;33m\u001b[0m\u001b[0m\n",
      "\u001b[1;32m~\\anaconda3\\lib\\site-packages\\sklearn\\compose\\_column_transformer.py\u001b[0m in \u001b[0;36m<listcomp>\u001b[1;34m(.0)\u001b[0m\n\u001b[0;32m    776\u001b[0m                 converted_Xs = [\n\u001b[1;32m--> 777\u001b[1;33m                     \u001b[0mcheck_array\u001b[0m\u001b[1;33m(\u001b[0m\u001b[0mX\u001b[0m\u001b[1;33m,\u001b[0m \u001b[0maccept_sparse\u001b[0m\u001b[1;33m=\u001b[0m\u001b[1;32mTrue\u001b[0m\u001b[1;33m,\u001b[0m \u001b[0mforce_all_finite\u001b[0m\u001b[1;33m=\u001b[0m\u001b[1;32mFalse\u001b[0m\u001b[1;33m)\u001b[0m\u001b[1;33m\u001b[0m\u001b[1;33m\u001b[0m\u001b[0m\n\u001b[0m\u001b[0;32m    778\u001b[0m                     \u001b[1;32mfor\u001b[0m \u001b[0mX\u001b[0m \u001b[1;32min\u001b[0m \u001b[0mXs\u001b[0m\u001b[1;33m\u001b[0m\u001b[1;33m\u001b[0m\u001b[0m\n",
      "\u001b[1;32m~\\anaconda3\\lib\\site-packages\\sklearn\\utils\\validation.py\u001b[0m in \u001b[0;36mcheck_array\u001b[1;34m(array, accept_sparse, accept_large_sparse, dtype, order, copy, force_all_finite, ensure_2d, allow_nd, ensure_min_samples, ensure_min_features, estimator, input_name)\u001b[0m\n\u001b[0;32m    855\u001b[0m                 \u001b[1;32melse\u001b[0m\u001b[1;33m:\u001b[0m\u001b[1;33m\u001b[0m\u001b[1;33m\u001b[0m\u001b[0m\n\u001b[1;32m--> 856\u001b[1;33m                     \u001b[0marray\u001b[0m \u001b[1;33m=\u001b[0m \u001b[0mnp\u001b[0m\u001b[1;33m.\u001b[0m\u001b[0masarray\u001b[0m\u001b[1;33m(\u001b[0m\u001b[0marray\u001b[0m\u001b[1;33m,\u001b[0m \u001b[0morder\u001b[0m\u001b[1;33m=\u001b[0m\u001b[0morder\u001b[0m\u001b[1;33m,\u001b[0m \u001b[0mdtype\u001b[0m\u001b[1;33m=\u001b[0m\u001b[0mdtype\u001b[0m\u001b[1;33m)\u001b[0m\u001b[1;33m\u001b[0m\u001b[1;33m\u001b[0m\u001b[0m\n\u001b[0m\u001b[0;32m    857\u001b[0m             \u001b[1;32mexcept\u001b[0m \u001b[0mComplexWarning\u001b[0m \u001b[1;32mas\u001b[0m \u001b[0mcomplex_warning\u001b[0m\u001b[1;33m:\u001b[0m\u001b[1;33m\u001b[0m\u001b[1;33m\u001b[0m\u001b[0m\n",
      "\u001b[1;31mValueError\u001b[0m: could not convert string to float: '2(1)(c)(i)'",
      "\nThe above exception was the direct cause of the following exception:\n",
      "\u001b[1;31mValueError\u001b[0m                                Traceback (most recent call last)",
      "\u001b[1;32m~\\AppData\\Local\\Temp\\ipykernel_500\\2699515895.py\u001b[0m in \u001b[0;36m<module>\u001b[1;34m\u001b[0m\n\u001b[1;32m----> 1\u001b[1;33m \u001b[0mx\u001b[0m\u001b[1;33m=\u001b[0m\u001b[0mnp\u001b[0m\u001b[1;33m.\u001b[0m\u001b[0marray\u001b[0m\u001b[1;33m(\u001b[0m\u001b[0mct\u001b[0m\u001b[1;33m.\u001b[0m\u001b[0mfit_transform\u001b[0m\u001b[1;33m(\u001b[0m\u001b[0mx\u001b[0m\u001b[1;33m)\u001b[0m\u001b[1;33m)\u001b[0m\u001b[1;33m\u001b[0m\u001b[1;33m\u001b[0m\u001b[0m\n\u001b[0m\u001b[0;32m      2\u001b[0m \u001b[0mprint\u001b[0m\u001b[1;33m(\u001b[0m\u001b[0mx\u001b[0m\u001b[1;33m)\u001b[0m\u001b[1;33m\u001b[0m\u001b[1;33m\u001b[0m\u001b[0m\n",
      "\u001b[1;32m~\\anaconda3\\lib\\site-packages\\sklearn\\compose\\_column_transformer.py\u001b[0m in \u001b[0;36mfit_transform\u001b[1;34m(self, X, y)\u001b[0m\n\u001b[0;32m    695\u001b[0m         \u001b[0mself\u001b[0m\u001b[1;33m.\u001b[0m\u001b[0m_record_output_indices\u001b[0m\u001b[1;33m(\u001b[0m\u001b[0mXs\u001b[0m\u001b[1;33m)\u001b[0m\u001b[1;33m\u001b[0m\u001b[1;33m\u001b[0m\u001b[0m\n\u001b[0;32m    696\u001b[0m \u001b[1;33m\u001b[0m\u001b[0m\n\u001b[1;32m--> 697\u001b[1;33m         \u001b[1;32mreturn\u001b[0m \u001b[0mself\u001b[0m\u001b[1;33m.\u001b[0m\u001b[0m_hstack\u001b[0m\u001b[1;33m(\u001b[0m\u001b[0mlist\u001b[0m\u001b[1;33m(\u001b[0m\u001b[0mXs\u001b[0m\u001b[1;33m)\u001b[0m\u001b[1;33m)\u001b[0m\u001b[1;33m\u001b[0m\u001b[1;33m\u001b[0m\u001b[0m\n\u001b[0m\u001b[0;32m    698\u001b[0m \u001b[1;33m\u001b[0m\u001b[0m\n\u001b[0;32m    699\u001b[0m     \u001b[1;32mdef\u001b[0m \u001b[0mtransform\u001b[0m\u001b[1;33m(\u001b[0m\u001b[0mself\u001b[0m\u001b[1;33m,\u001b[0m \u001b[0mX\u001b[0m\u001b[1;33m)\u001b[0m\u001b[1;33m:\u001b[0m\u001b[1;33m\u001b[0m\u001b[1;33m\u001b[0m\u001b[0m\n",
      "\u001b[1;32m~\\anaconda3\\lib\\site-packages\\sklearn\\compose\\_column_transformer.py\u001b[0m in \u001b[0;36m_hstack\u001b[1;34m(self, Xs)\u001b[0m\n\u001b[0;32m    779\u001b[0m                 ]\n\u001b[0;32m    780\u001b[0m             \u001b[1;32mexcept\u001b[0m \u001b[0mValueError\u001b[0m \u001b[1;32mas\u001b[0m \u001b[0me\u001b[0m\u001b[1;33m:\u001b[0m\u001b[1;33m\u001b[0m\u001b[1;33m\u001b[0m\u001b[0m\n\u001b[1;32m--> 781\u001b[1;33m                 raise ValueError(\n\u001b[0m\u001b[0;32m    782\u001b[0m                     \u001b[1;34m\"For a sparse output, all columns should \"\u001b[0m\u001b[1;33m\u001b[0m\u001b[1;33m\u001b[0m\u001b[0m\n\u001b[0;32m    783\u001b[0m                     \u001b[1;34m\"be a numeric or convertible to a numeric.\"\u001b[0m\u001b[1;33m\u001b[0m\u001b[1;33m\u001b[0m\u001b[0m\n",
      "\u001b[1;31mValueError\u001b[0m: For a sparse output, all columns should be a numeric or convertible to a numeric."
     ]
    }
   ],
   "source": [
    "x=np.array(ct.fit_transform(x))\n",
    "print(x)"
   ]
  },
  {
   "cell_type": "code",
   "execution_count": 20,
   "id": "1519f768-2f15-42bc-99fb-039fa697d5b6",
   "metadata": {},
   "outputs": [],
   "source": [
    "rough = x[:,1]"
   ]
  },
  {
   "cell_type": "code",
   "execution_count": 53,
   "id": "e75c15f8-3fc6-4f80-89f4-5719ff4c09e9",
   "metadata": {},
   "outputs": [
    {
     "data": {
      "text/plain": [
       "array([['370'],\n",
       "       ['730'],\n",
       "       ['10'],\n",
       "       ['2(1)(c)(i)'],\n",
       "       ['1510'],\n",
       "       ['execution\\n'],\n",
       "       ['840'],\n",
       "       ['iv'],\n",
       "       ['740'],\n",
       "       ['civil,suit'],\n",
       "       ['80'],\n",
       "       ['80'],\n",
       "       ['1660'],\n",
       "       ['2(1)(c)(i)'],\n",
       "       ['2(1)(c)(i)'],\n",
       "       ['740'],\n",
       "       ['90'],\n",
       "       ['recovery'],\n",
       "       ['800'],\n",
       "       ['90'],\n",
       "       ['civil,suit'],\n",
       "       ['80'],\n",
       "       ['permtinjct'],\n",
       "       ['340'],\n",
       "       ['petition'],\n",
       "       ['184expl(a)'],\n",
       "       ['184expl(a)'],\n",
       "       ['188(5)'],\n",
       "       ['343794110'],\n",
       "       ['1380'],\n",
       "       ['3790'],\n",
       "       ['3790'],\n",
       "       ['3790'],\n",
       "       ['184expl(a)'],\n",
       "       ['184expl(a)'],\n",
       "       ['188(5)'],\n",
       "       ['1380'],\n",
       "       ['3790'],\n",
       "       ['3790'],\n",
       "       ['379/411'],\n",
       "       ['3790'],\n",
       "       ['3790'],\n",
       "       ['1810'],\n",
       "       ['379,'],\n",
       "       ['356,379,'],\n",
       "       ['250'],\n",
       "       ['420,120b,468,471'],\n",
       "       ['1380'],\n",
       "       ['1380'],\n",
       "       ['1380'],\n",
       "       ['1560'],\n",
       "       ['3804114570'],\n",
       "       ['section,25'],\n",
       "       ['250'],\n",
       "       ['250'],\n",
       "       ['3400'],\n",
       "       ['1380'],\n",
       "       ['356,379,411,34'],\n",
       "       ['1381420'],\n",
       "       ['379411340'],\n",
       "       ['section99'],\n",
       "       ['1380'],\n",
       "       ['365/412/395'],\n",
       "       ['340'],\n",
       "       ['20/61/85'],\n",
       "       ['1350'],\n",
       "       ['18/29'],\n",
       "       ['20/21/23/29'],\n",
       "       ['1350'],\n",
       "       ['20/61/85\\n'],\n",
       "       ['340'],\n",
       "       ['1250'],\n",
       "       ['execution\\n'],\n",
       "       ['1250'],\n",
       "       ['1250'],\n",
       "       ['exe125'],\n",
       "       ['1380'],\n",
       "       ['276b,278b,278e'],\n",
       "       ['1380'],\n",
       "       ['1380'],\n",
       "       ['188,34'],\n",
       "       ['1380'],\n",
       "       ['1380'],\n",
       "       ['3790'],\n",
       "       ['1380'],\n",
       "       ['1380'],\n",
       "       ['1380'],\n",
       "       ['1380'],\n",
       "       ['188,34'],\n",
       "       ['1380'],\n",
       "       ['1380'],\n",
       "       ['1380'],\n",
       "       ['3790'],\n",
       "       ['1380'],\n",
       "       ['1380'],\n",
       "       ['1380'],\n",
       "       ['188,34'],\n",
       "       ['1380'],\n",
       "       ['1380'],\n",
       "       ['suit'],\n",
       "       ['recovery'],\n",
       "       ['commercial'],\n",
       "       ['award'],\n",
       "       ['5170'],\n",
       "       ['1070'],\n",
       "       ['740'],\n",
       "       ['1510'],\n",
       "       ['340'],\n",
       "       ['740'],\n",
       "       ['60'],\n",
       "       ['740'],\n",
       "       ['10'],\n",
       "       ['1070'],\n",
       "       ['2780'],\n",
       "       ['1660'],\n",
       "       ['5170'],\n",
       "       ['recovery'],\n",
       "       ['10'],\n",
       "       ['970'],\n",
       "       ['1360'],\n",
       "       ['370'],\n",
       "       ['900'],\n",
       "       ['90'],\n",
       "       ['390'],\n",
       "       ['cpc'],\n",
       "       ['90'],\n",
       "       ['740'],\n",
       "       ['1660'],\n",
       "       ['1630'],\n",
       "       ['210'],\n",
       "       ['36,order,21'],\n",
       "       ['380'],\n",
       "       ['340'],\n",
       "       ['1360'],\n",
       "       ['740'],\n",
       "       ['1660'],\n",
       "       ['1630'],\n",
       "       ['1630'],\n",
       "       ['a'],\n",
       "       ['210'],\n",
       "       ['36,order,21'],\n",
       "       ['380'],\n",
       "       ['340'],\n",
       "       ['1360'],\n",
       "       ['740'],\n",
       "       ['1660'],\n",
       "       ['1630'],\n",
       "       ['1630'],\n",
       "       ['a'],\n",
       "       ['210'],\n",
       "       ['36,order,21'],\n",
       "       ['380'],\n",
       "       ['340'],\n",
       "       ['1360'],\n",
       "       ['740'],\n",
       "       ['1660'],\n",
       "       ['1630'],\n",
       "       ['1630'],\n",
       "       ['a'],\n",
       "       ['210'],\n",
       "       ['36,order,21'],\n",
       "       ['380'],\n",
       "       ['340'],\n",
       "       ['1360'],\n",
       "       ['740'],\n",
       "       ['1660'],\n",
       "       ['1630'],\n",
       "       ['1630'],\n",
       "       ['a'],\n",
       "       ['1630'],\n",
       "       ['1630'],\n",
       "       ['340'],\n",
       "       ['1630'],\n",
       "       ['90'],\n",
       "       ['970'],\n",
       "       ['1360'],\n",
       "       ['1510'],\n",
       "       ['170'],\n",
       "       ['740'],\n",
       "       ['340'],\n",
       "       ['960'],\n",
       "       ['1630'],\n",
       "       ['1630'],\n",
       "       ['1630'],\n",
       "       ['740'],\n",
       "       ['cpc'],\n",
       "       ['1630'],\n",
       "       ['850'],\n",
       "       ['90'],\n",
       "       ['1360'],\n",
       "       ['1660'],\n",
       "       ['1340'],\n",
       "       ['1310'],\n",
       "       ['340'],\n",
       "       ['1340'],\n",
       "       ['700'],\n",
       "       ['3400'],\n",
       "       ['1340'],\n",
       "       ['210'],\n",
       "       ['1510'],\n",
       "       ['1340'],\n",
       "       ['340'],\n",
       "       ['cpc'],\n",
       "       ['1660'],\n",
       "       ['appeal'],\n",
       "       ['1510'],\n",
       "       ['1510'],\n",
       "       ['2760'],\n",
       "       ['recovery'],\n",
       "       ['cpc'],\n",
       "       ['5340000'],\n",
       "       ['10(1)c'],\n",
       "       ['12(4)'],\n",
       "       ['100'],\n",
       "       ['10(1)(c)'],\n",
       "       ['10(1)(d)'],\n",
       "       ['10(1)(c)'],\n",
       "       ['120'],\n",
       "       ['10(1)(c)'],\n",
       "       ['100'],\n",
       "       ['10(1)c'],\n",
       "       ['120'],\n",
       "       ['100'],\n",
       "       ['2a']], dtype=object)"
      ]
     },
     "execution_count": 53,
     "metadata": {},
     "output_type": "execute_result"
    }
   ],
   "source": [
    "rough"
   ]
  },
  {
   "cell_type": "code",
   "execution_count": 22,
   "id": "d536d973-5bbe-40c7-9087-216cfc0b4f59",
   "metadata": {},
   "outputs": [],
   "source": [
    "for i in rough:\n",
    "    if type(i)!= str:\n",
    "        print('found yaa..!!')"
   ]
  },
  {
   "cell_type": "code",
   "execution_count": 23,
   "id": "f2fbd33f-9d5a-48ca-b89d-45411ae550cf",
   "metadata": {},
   "outputs": [
    {
     "data": {
      "text/plain": [
       "(224,)"
      ]
     },
     "execution_count": 23,
     "metadata": {},
     "output_type": "execute_result"
    }
   ],
   "source": [
    "rough.shape"
   ]
  },
  {
   "cell_type": "code",
   "execution_count": 24,
   "id": "e812f069-2051-4798-bf5c-522d86959db1",
   "metadata": {},
   "outputs": [],
   "source": [
    "rough.shape = (len(rough), 1)"
   ]
  },
  {
   "cell_type": "code",
   "execution_count": 28,
   "id": "2c04f074-a592-434a-9124-636455dcc8ee",
   "metadata": {},
   "outputs": [],
   "source": [
    "from sklearn.compose import ColumnTransformer\n",
    "from sklearn.preprocessing import OneHotEncoder\n",
    "\n",
    "ct1 = ColumnTransformer(transformers=[('encoder',OneHotEncoder(),[0])], remainder='passthrough')"
   ]
  },
  {
   "cell_type": "code",
   "execution_count": 29,
   "id": "26b806de-44bf-49e1-ba95-4ea5535a8dd7",
   "metadata": {},
   "outputs": [],
   "source": [
    "k1=(ct.fit_transform(rough))"
   ]
  },
  {
   "cell_type": "code",
   "execution_count": 30,
   "id": "9467ecfa-ab72-430b-9695-8e5faefc1c22",
   "metadata": {},
   "outputs": [
    {
     "data": {
      "text/plain": [
       "<224x80 sparse matrix of type '<class 'numpy.float64'>'\n",
       "\twith 224 stored elements in Compressed Sparse Row format>"
      ]
     },
     "execution_count": 30,
     "metadata": {},
     "output_type": "execute_result"
    }
   ],
   "source": [
    "k1"
   ]
  },
  {
   "cell_type": "code",
   "execution_count": 31,
   "id": "0e6d5e3c-1963-4874-901e-c5cee6e977e7",
   "metadata": {},
   "outputs": [],
   "source": [
    "rough1 = x[:, 2]"
   ]
  },
  {
   "cell_type": "code",
   "execution_count": 33,
   "id": "0db487af-c3e9-4e69-a3f9-5e4c1fc03962",
   "metadata": {},
   "outputs": [],
   "source": [
    "rough1.shape = (len(rough1),1)"
   ]
  },
  {
   "cell_type": "code",
   "execution_count": 34,
   "id": "d52c2883-3878-43af-a439-75c5685c2d1c",
   "metadata": {},
   "outputs": [],
   "source": [
    "from sklearn.compose import ColumnTransformer\n",
    "from sklearn.preprocessing import OneHotEncoder\n",
    "\n",
    "ct2 = ColumnTransformer(transformers=[('encoder',OneHotEncoder(),[0])], remainder='passthrough')"
   ]
  },
  {
   "cell_type": "code",
   "execution_count": 35,
   "id": "83490535-571d-4603-b24d-e28bc9abd5c9",
   "metadata": {},
   "outputs": [],
   "source": [
    "k2 = ct.fit_transform(rough1)"
   ]
  },
  {
   "cell_type": "code",
   "execution_count": 36,
   "id": "0a4d9128-571e-46d7-a903-d775cf5ec2e1",
   "metadata": {},
   "outputs": [
    {
     "data": {
      "text/plain": [
       "<224x18 sparse matrix of type '<class 'numpy.float64'>'\n",
       "\twith 224 stored elements in Compressed Sparse Row format>"
      ]
     },
     "execution_count": 36,
     "metadata": {},
     "output_type": "execute_result"
    }
   ],
   "source": [
    "k2"
   ]
  },
  {
   "cell_type": "code",
   "execution_count": 37,
   "id": "2a6850d8-dd5f-4185-a4bc-b7de20fcaa96",
   "metadata": {},
   "outputs": [],
   "source": [
    "rough2 = x[:, 3]"
   ]
  },
  {
   "cell_type": "code",
   "execution_count": 38,
   "id": "46b66098-7743-49f4-97cf-b5205048aec4",
   "metadata": {},
   "outputs": [
    {
     "data": {
      "text/plain": [
       "array(['cs(comm)', 'csdj', 'ex', 'cs(comm)', 'cs(comm)', 'ex', 'csdj',\n",
       "       'cs(comm)', 'cs(comm)', 'cs(comm)', 'cs(comm)', 'cs(comm)', 'mact',\n",
       "       'cs(comm)', 'cs(comm)', 'cs(comm)', 'arbtn', 'cs(comm)', 'csdj',\n",
       "       'omp(i)(comm)', 'cs(comm)', 'cs(comm)', 'csdj', 'arbtn', 'ex',\n",
       "       'crcase', 'tc', 'ctcases', 'crcase', 'ccniact', 'crcase', 'crcase',\n",
       "       'crcase', 'tc', 'tc', 'ctcases', 'ccniact', 'crcase', 'crcase',\n",
       "       'crcase', 'crcase', 'crcase', 'trafficchalan', 'crcases',\n",
       "       'crcases', 'ccniact', 'crcases', 'ccniact', 'ccniact', 'ccniact',\n",
       "       'ctcases', 'crcases', 'ccniact', 'ccniact', 'ccniact', 'm',\n",
       "       'ccniact', 'crcase', 'ccniact', 'courtcomplaint', 'ctcases',\n",
       "       'ccniact', 'sc', 'sc', 'sc', 'ctcases', 'sc', 'sc', 'ctcases',\n",
       "       'sc', 'sc', 'mtcase', 'ex', 'mtcase', 'mtcase', 'ex', 'ctcases',\n",
       "       'ctcases', 'ctcases', 'ctcases', 'ctcases', 'ctcases', 'ctcases',\n",
       "       'crcases', 'ctcases', 'ctcases', 'ctcases', 'ctcases', 'crcases',\n",
       "       'ctcases', 'ctcases', 'ctcases', 'crcases', 'ctcases', 'ctcases',\n",
       "       'ctcases', 'crcases', 'ctcases', 'ctcases', 'csdj', 'csdj',\n",
       "       '(cscomm)', 'ex', 'ex', 'pc', 'cs(comm)', 'mcadj', 'omp(comm)',\n",
       "       'csdj', 'csdj', 'cs(comm)', 'cs(comm)', 'pc', 'pc', 'mact', 'ex',\n",
       "       'csdj', 'cs(comm)', 'csdj', 'cs', 'cs', 'cs', 'rcadj', 'miscdj',\n",
       "       'cs', 'ppa', 'ex', 'mact', 'dar', 'ex', 'ex', 'ex', 'omp(comm)',\n",
       "       'cs', 'cs', 'mact', 'dar', 'dar', 'cs(comm)', 'ex', 'ex', 'ex',\n",
       "       'omp(comm)', 'cs', 'cs', 'mact', 'dar', 'dar', 'cs(comm)', 'ex',\n",
       "       'ex', 'ex', 'omp(comm)', 'cs', 'cs', 'mact', 'dar', 'dar',\n",
       "       'cs(comm)', 'ex', 'ex', 'ex', 'omp(comm)', 'cs', 'cs', 'mact',\n",
       "       'dar', 'dar', 'cs(comm)', 'dar', 'dar', 'arbtn', 'dar', 'ppa',\n",
       "       'rcadj', 'ex', 'cs(comm)', 'cs', 'cs', 'arbtn', 'rcadj', 'dar',\n",
       "       'dar', 'dar', 'cs', 'ex', 'dar', 'rcadj', 'ppa', 'rcadj', 'mact',\n",
       "       'tm', 'tm', 'arbtn', 'tm', 'counterclaim', 'miscdj', 'tm', 'ex',\n",
       "       'cs', 'tm', 'arbtn', 'ex', 'mex', 'rcadj', 'csdj', 'csdj', 'pc',\n",
       "       'csdj', 'cs(comm)', 'csdj', 'lir', 'lir', 'lir', 'lir', 'poit',\n",
       "       'lir', 'lir', 'lir', 'lir', 'lir', 'lir', 'lir', 'lir'],\n",
       "      dtype=object)"
      ]
     },
     "execution_count": 38,
     "metadata": {},
     "output_type": "execute_result"
    }
   ],
   "source": [
    "rough2"
   ]
  },
  {
   "cell_type": "code",
   "execution_count": 39,
   "id": "86a206fa-0f94-4197-b06d-9f6d3865961c",
   "metadata": {},
   "outputs": [],
   "source": [
    "ct3 = ColumnTransformer(transformers=[('encoder',OneHotEncoder(),[0])], remainder='passthrough')"
   ]
  },
  {
   "cell_type": "code",
   "execution_count": 40,
   "id": "c6de5fae-9ebb-40b1-8772-ecbb8531eef4",
   "metadata": {},
   "outputs": [],
   "source": [
    "rough2.shape = (len(rough2), 1)"
   ]
  },
  {
   "cell_type": "code",
   "execution_count": 41,
   "id": "5009135b-23ee-4ec1-9623-14b33fd1d96a",
   "metadata": {},
   "outputs": [],
   "source": [
    "k3=ct3.fit_transform(rough2)"
   ]
  },
  {
   "cell_type": "code",
   "execution_count": 42,
   "id": "cd2a443d-34d6-45fd-803a-b0ff4dfea1de",
   "metadata": {},
   "outputs": [
    {
     "data": {
      "text/plain": [
       "<224x30 sparse matrix of type '<class 'numpy.float64'>'\n",
       "\twith 224 stored elements in Compressed Sparse Row format>"
      ]
     },
     "execution_count": 42,
     "metadata": {},
     "output_type": "execute_result"
    }
   ],
   "source": [
    "k3"
   ]
  },
  {
   "cell_type": "code",
   "execution_count": 43,
   "id": "fe849168-5354-408a-b6fa-e4a977fa8444",
   "metadata": {},
   "outputs": [
    {
     "data": {
      "text/plain": [
       "scipy.sparse.csr.csr_matrix"
      ]
     },
     "execution_count": 43,
     "metadata": {},
     "output_type": "execute_result"
    }
   ],
   "source": [
    "type(k1)"
   ]
  },
  {
   "cell_type": "code",
   "execution_count": 44,
   "id": "5bb980f7-ac95-41bd-9bf4-5a5503f7bfd1",
   "metadata": {},
   "outputs": [
    {
     "data": {
      "text/plain": [
       "scipy.sparse.csr.csr_matrix"
      ]
     },
     "execution_count": 44,
     "metadata": {},
     "output_type": "execute_result"
    }
   ],
   "source": [
    "type(k)"
   ]
  },
  {
   "cell_type": "code",
   "execution_count": 45,
   "id": "914cf0c9-c1ca-4415-a871-7cdf2a6fe038",
   "metadata": {},
   "outputs": [
    {
     "data": {
      "text/plain": [
       "scipy.sparse.csr.csr_matrix"
      ]
     },
     "execution_count": 45,
     "metadata": {},
     "output_type": "execute_result"
    }
   ],
   "source": [
    "type(k2)"
   ]
  },
  {
   "cell_type": "code",
   "execution_count": 46,
   "id": "255b26a0-aaa8-4a0a-93ba-48d9bd66ff3b",
   "metadata": {},
   "outputs": [
    {
     "data": {
      "text/plain": [
       "scipy.sparse.csr.csr_matrix"
      ]
     },
     "execution_count": 46,
     "metadata": {},
     "output_type": "execute_result"
    }
   ],
   "source": [
    "type(k3)"
   ]
  },
  {
   "cell_type": "code",
   "execution_count": 47,
   "id": "7670f3ac-48a5-4332-9865-26d9ce23113a",
   "metadata": {},
   "outputs": [
    {
     "data": {
      "text/plain": [
       "(224, 80)"
      ]
     },
     "execution_count": 47,
     "metadata": {},
     "output_type": "execute_result"
    }
   ],
   "source": [
    "k1.shape"
   ]
  },
  {
   "cell_type": "code",
   "execution_count": 48,
   "id": "b6356132-7511-491a-8d09-935a6cb0f5a3",
   "metadata": {},
   "outputs": [
    {
     "data": {
      "text/plain": [
       "(224, 18)"
      ]
     },
     "execution_count": 48,
     "metadata": {},
     "output_type": "execute_result"
    }
   ],
   "source": [
    "k2.shape"
   ]
  },
  {
   "cell_type": "code",
   "execution_count": 49,
   "id": "fdcc987a-75b3-4a55-b576-bd5c27bb8891",
   "metadata": {},
   "outputs": [
    {
     "data": {
      "text/plain": [
       "(224, 37)"
      ]
     },
     "execution_count": 50,
     "metadata": {},
     "output_type": "execute_result"
    }
   ],
   "source": [
    "k.shape"
   ]
  },
  {
   "cell_type": "code",
   "execution_count": 51,
   "id": "b17e365b-7029-48cc-8723-68909f726a68",
   "metadata": {},
   "outputs": [
    {
     "data": {
      "text/plain": [
       "(224, 30)"
      ]
     },
     "execution_count": 51,
     "metadata": {},
     "output_type": "execute_result"
    }
   ],
   "source": [
    "k3.shape"
   ]
  },
  {
   "cell_type": "code",
   "execution_count": 56,
   "id": "91788029-fb5c-49a3-a8cd-d5c131250afe",
   "metadata": {},
   "outputs": [],
   "source": [
    "from scipy.sparse import csr_matrix"
   ]
  },
  {
   "cell_type": "code",
   "execution_count": 59,
   "id": "bd40dac7-852c-4ba2-9fe8-dff5cf942111",
   "metadata": {},
   "outputs": [],
   "source": [
    "def concatenate_csc_matrices_by_columns(matrix1, matrix2):\n",
    "    new_data = np.concatenate((matrix1.data, matrix2.data))\n",
    "    new_indices = np.concatenate((matrix1.indices, matrix2.indices))\n",
    "    new_ind_ptr = matrix2.indptr + len(matrix1.data)\n",
    "    new_ind_ptr = new_ind_ptr[1:]\n",
    "    new_ind_ptr = np.concatenate((matrix1.indptr, new_ind_ptr))\n",
    "\n",
    "    return csr_matrix((new_data, new_indices, new_ind_ptr))"
   ]
  },
  {
   "cell_type": "code",
   "execution_count": 60,
   "id": "62cda2d1-6d8b-41f2-b6c2-5dd53a95538e",
   "metadata": {},
   "outputs": [],
   "source": [
    "m_final = concatenate_csc_matrices_by_columns(k,k1)"
   ]
  },
  {
   "cell_type": "code",
   "execution_count": 61,
   "id": "81355780-2fc7-405d-85dc-2c3c83663af9",
   "metadata": {},
   "outputs": [
    {
     "data": {
      "text/plain": [
       "<448x80 sparse matrix of type '<class 'numpy.float64'>'\n",
       "\twith 448 stored elements in Compressed Sparse Row format>"
      ]
     },
     "execution_count": 61,
     "metadata": {},
     "output_type": "execute_result"
    }
   ],
   "source": [
    "m_final"
   ]
  },
  {
   "cell_type": "code",
   "execution_count": 62,
   "id": "21c81d01-4ed8-44c9-9ded-4f5277e868d1",
   "metadata": {},
   "outputs": [],
   "source": [
    "from scipy.sparse import hstack"
   ]
  },
  {
   "cell_type": "code",
   "execution_count": 64,
   "id": "be679c9c-5de0-4f08-b46a-733bec9a57bb",
   "metadata": {},
   "outputs": [],
   "source": [
    "m_final=hstack((k, k1))"
   ]
  },
  {
   "cell_type": "code",
   "execution_count": 65,
   "id": "53e9aa08-43cc-446b-94c5-ed946b57a098",
   "metadata": {},
   "outputs": [],
   "source": [
    "m_final = hstack((m_final, k2))"
   ]
  },
  {
   "cell_type": "code",
   "execution_count": 66,
   "id": "bfabe7a6-67e6-4756-8546-c7e3e30b7926",
   "metadata": {},
   "outputs": [],
   "source": [
    "m_final= hstack((m_final, k3))"
   ]
  },
  {
   "cell_type": "code",
   "execution_count": 67,
   "id": "3c34731f-2607-4bc2-8ae0-32b529d00637",
   "metadata": {},
   "outputs": [
    {
     "data": {
      "text/plain": [
       "<224x165 sparse matrix of type '<class 'numpy.float64'>'\n",
       "\twith 896 stored elements in COOrdinate format>"
      ]
     },
     "execution_count": 67,
     "metadata": {},
     "output_type": "execute_result"
    }
   ],
   "source": [
    "m_final"
   ]
  },
  {
   "cell_type": "code",
   "execution_count": 70,
   "id": "de5c3f96-2e02-4853-8879-b642f53e282a",
   "metadata": {},
   "outputs": [
    {
     "data": {
      "text/plain": [
       "<bound method coo_matrix.getnnz of <224x165 sparse matrix of type '<class 'numpy.float64'>'\n",
       "\twith 896 stored elements in COOrdinate format>>"
      ]
     },
     "execution_count": 70,
     "metadata": {},
     "output_type": "execute_result"
    }
   ],
   "source": [
    "kss=[]\n",
    "\n",
    "m_final.getnnz"
   ]
  },
  {
   "cell_type": "code",
   "execution_count": 72,
   "id": "54a5044d-a17e-422f-ba01-860717152caf",
   "metadata": {},
   "outputs": [
    {
     "data": {
      "text/plain": [
       "224"
      ]
     },
     "execution_count": 72,
     "metadata": {},
     "output_type": "execute_result"
    }
   ],
   "source": [
    "m_final.shape[0]"
   ]
  },
  {
   "cell_type": "code",
   "execution_count": 73,
   "id": "0539e5cc-a014-4487-9731-64018686120e",
   "metadata": {},
   "outputs": [],
   "source": [
    "import random"
   ]
  },
  {
   "cell_type": "code",
   "execution_count": 75,
   "id": "2fcfc111-6f30-4e42-83a0-0da662e2ab50",
   "metadata": {},
   "outputs": [],
   "source": [
    "for i in range(0, m_final.shape[0]):\n",
    "    kss.append(random.randint(1,100))"
   ]
  },
  {
   "cell_type": "code",
   "execution_count": 77,
   "id": "223b613a-f017-4050-b4b0-bdea896bbf0a",
   "metadata": {},
   "outputs": [],
   "source": [
    "import tensorflow as tf"
   ]
  },
  {
   "cell_type": "code",
   "execution_count": 78,
   "id": "f91ffa08-e8db-4588-95e6-5c4dad4a7266",
   "metadata": {},
   "outputs": [],
   "source": [
    "ann = tf.keras.Sequential()"
   ]
  },
  {
   "cell_type": "code",
   "execution_count": 79,
   "id": "2550bc13-977f-48d1-8fae-802757ff5b83",
   "metadata": {},
   "outputs": [],
   "source": [
    "ann.add(tf.keras.layers.Dense(units=6, activation='relu'))"
   ]
  },
  {
   "cell_type": "code",
   "execution_count": 80,
   "id": "28fe6a59-4f9d-42fa-9b8d-95d132563935",
   "metadata": {},
   "outputs": [],
   "source": [
    "ann.add(tf.keras.layers.Dense(units=6, activation='relu'))\n"
   ]
  },
  {
   "cell_type": "code",
   "execution_count": 81,
   "id": "8c5c5820-a604-4943-b300-80649790e0a4",
   "metadata": {},
   "outputs": [],
   "source": [
    "ann.add(tf.keras.layers.Dense(units=1))"
   ]
  },
  {
   "cell_type": "code",
   "execution_count": 82,
   "id": "5fd7650c-2076-42ab-9ca1-a496bfb44cd3",
   "metadata": {},
   "outputs": [],
   "source": [
    "ann.compile(optimizer= 'adam' , loss='mean_squared_error' )"
   ]
  },
  {
   "cell_type": "code",
   "execution_count": 85,
   "id": "79c37bb5-bb91-437b-9583-fdb09135dba4",
   "metadata": {},
   "outputs": [],
   "source": [
    "m_final_a = m_final.toarray()"
   ]
  },
  {
   "cell_type": "code",
   "execution_count": 86,
   "id": "10d4f098-16a7-4559-bdec-140de28d1c9d",
   "metadata": {},
   "outputs": [
    {
     "data": {
      "text/plain": [
       "numpy.ndarray"
      ]
     },
     "execution_count": 86,
     "metadata": {},
     "output_type": "execute_result"
    }
   ],
   "source": [
    "type(m_final_a)"
   ]
  },
  {
   "cell_type": "code",
   "execution_count": 87,
   "id": "05164db6-54d7-463f-a82e-82b630418441",
   "metadata": {},
   "outputs": [
    {
     "data": {
      "text/plain": [
       "numpy.float64"
      ]
     },
     "execution_count": 87,
     "metadata": {},
     "output_type": "execute_result"
    }
   ],
   "source": [
    "type(m_final_a[0][0])"
   ]
  },
  {
   "cell_type": "code",
   "execution_count": 84,
   "id": "f5c93f54-fbe7-41ad-b0c4-0e4c2deca558",
   "metadata": {},
   "outputs": [
    {
     "ename": "TypeError",
     "evalue": "'coo_matrix' object is not subscriptable",
     "output_type": "error",
     "traceback": [
      "\u001b[1;31m---------------------------------------------------------------------------\u001b[0m",
      "\u001b[1;31mTypeError\u001b[0m                                 Traceback (most recent call last)",
      "\u001b[1;32m~\\AppData\\Local\\Temp\\ipykernel_14936\\360304886.py\u001b[0m in \u001b[0;36m<module>\u001b[1;34m\u001b[0m\n\u001b[1;32m----> 1\u001b[1;33m \u001b[0mtype\u001b[0m\u001b[1;33m(\u001b[0m\u001b[0mm_final\u001b[0m\u001b[1;33m[\u001b[0m\u001b[1;36m0\u001b[0m\u001b[1;33m]\u001b[0m\u001b[1;33m[\u001b[0m\u001b[1;36m0\u001b[0m\u001b[1;33m]\u001b[0m\u001b[1;33m)\u001b[0m\u001b[1;33m\u001b[0m\u001b[1;33m\u001b[0m\u001b[0m\n\u001b[0m",
      "\u001b[1;31mTypeError\u001b[0m: 'coo_matrix' object is not subscriptable"
     ]
    }
   ],
   "source": [
    "type(m_final[0][0])"
   ]
  },
  {
   "cell_type": "code",
   "execution_count": null,
   "id": "904d8a6c-b66d-4b01-bd38-5d15cea9172c",
   "metadata": {},
   "outputs": [],
   "source": []
  },
  {
   "cell_type": "code",
   "execution_count": null,
   "id": "63f2e10d-4ffb-4008-8ede-7995e8ed151e",
   "metadata": {},
   "outputs": [],
   "source": []
  },
  {
   "cell_type": "code",
   "execution_count": 96,
   "id": "4c7e2ff6-e067-4b30-9b8c-82d0083ca728",
   "metadata": {},
   "outputs": [
    {
     "name": "stdout",
     "output_type": "stream",
     "text": [
      "Epoch 1/100\n",
      "7/7 [==============================] - 1s 4ms/step - loss: 3550.5110\n",
      "Epoch 2/100\n",
      "7/7 [==============================] - 0s 4ms/step - loss: 3546.6602\n",
      "Epoch 3/100\n",
      "7/7 [==============================] - 0s 3ms/step - loss: 3542.7759\n",
      "Epoch 4/100\n",
      "7/7 [==============================] - 0s 4ms/step - loss: 3538.9565\n",
      "Epoch 5/100\n",
      "7/7 [==============================] - 0s 4ms/step - loss: 3534.5552\n",
      "Epoch 6/100\n",
      "7/7 [==============================] - 0s 5ms/step - loss: 3529.6316\n",
      "Epoch 7/100\n",
      "7/7 [==============================] - 0s 5ms/step - loss: 3524.0100\n",
      "Epoch 8/100\n",
      "7/7 [==============================] - 0s 4ms/step - loss: 3517.8079\n",
      "Epoch 9/100\n",
      "7/7 [==============================] - 0s 5ms/step - loss: 3511.0442\n",
      "Epoch 10/100\n",
      "7/7 [==============================] - 0s 4ms/step - loss: 3503.4939\n",
      "Epoch 11/100\n",
      "7/7 [==============================] - 0s 4ms/step - loss: 3495.2622\n",
      "Epoch 12/100\n",
      "7/7 [==============================] - 0s 3ms/step - loss: 3485.8689\n",
      "Epoch 13/100\n",
      "7/7 [==============================] - 0s 3ms/step - loss: 3476.0002\n",
      "Epoch 14/100\n",
      "7/7 [==============================] - 0s 4ms/step - loss: 3464.3188\n",
      "Epoch 15/100\n",
      "7/7 [==============================] - 0s 4ms/step - loss: 3451.7834\n",
      "Epoch 16/100\n",
      "7/7 [==============================] - 0s 5ms/step - loss: 3437.6479\n",
      "Epoch 17/100\n",
      "7/7 [==============================] - 0s 3ms/step - loss: 3421.6111\n",
      "Epoch 18/100\n",
      "7/7 [==============================] - 0s 4ms/step - loss: 3404.2583\n",
      "Epoch 19/100\n",
      "7/7 [==============================] - 0s 3ms/step - loss: 3385.6775\n",
      "Epoch 20/100\n",
      "7/7 [==============================] - 0s 4ms/step - loss: 3363.8452\n",
      "Epoch 21/100\n",
      "7/7 [==============================] - 0s 4ms/step - loss: 3340.4624\n",
      "Epoch 22/100\n",
      "7/7 [==============================] - 0s 4ms/step - loss: 3315.0623\n",
      "Epoch 23/100\n",
      "7/7 [==============================] - 0s 9ms/step - loss: 3286.3926\n",
      "Epoch 24/100\n",
      "7/7 [==============================] - 0s 4ms/step - loss: 3255.5586\n",
      "Epoch 25/100\n",
      "7/7 [==============================] - 0s 3ms/step - loss: 3222.2410\n",
      "Epoch 26/100\n",
      "7/7 [==============================] - 0s 3ms/step - loss: 3187.7971\n",
      "Epoch 27/100\n",
      "7/7 [==============================] - 0s 3ms/step - loss: 3150.3970\n",
      "Epoch 28/100\n",
      "7/7 [==============================] - 0s 3ms/step - loss: 3111.4224\n",
      "Epoch 29/100\n",
      "7/7 [==============================] - 0s 4ms/step - loss: 3068.6191\n",
      "Epoch 30/100\n",
      "7/7 [==============================] - 0s 5ms/step - loss: 3024.1917\n",
      "Epoch 31/100\n",
      "7/7 [==============================] - 0s 2ms/step - loss: 2979.3655\n",
      "Epoch 32/100\n",
      "7/7 [==============================] - 0s 3ms/step - loss: 2931.8633\n",
      "Epoch 33/100\n",
      "7/7 [==============================] - 0s 3ms/step - loss: 2880.9121\n",
      "Epoch 34/100\n",
      "7/7 [==============================] - 0s 5ms/step - loss: 2830.5632\n",
      "Epoch 35/100\n",
      "7/7 [==============================] - 0s 5ms/step - loss: 2778.2864\n",
      "Epoch 36/100\n",
      "7/7 [==============================] - 0s 3ms/step - loss: 2723.1113\n",
      "Epoch 37/100\n",
      "7/7 [==============================] - 0s 4ms/step - loss: 2666.4822\n",
      "Epoch 38/100\n",
      "7/7 [==============================] - 0s 4ms/step - loss: 2609.9509\n",
      "Epoch 39/100\n",
      "7/7 [==============================] - 0s 3ms/step - loss: 2552.9246\n",
      "Epoch 40/100\n",
      "7/7 [==============================] - 0s 3ms/step - loss: 2491.8132\n",
      "Epoch 41/100\n",
      "7/7 [==============================] - 0s 4ms/step - loss: 2431.8586\n",
      "Epoch 42/100\n",
      "7/7 [==============================] - 0s 3ms/step - loss: 2370.9343\n",
      "Epoch 43/100\n",
      "7/7 [==============================] - 0s 3ms/step - loss: 2308.9763\n",
      "Epoch 44/100\n",
      "7/7 [==============================] - 0s 3ms/step - loss: 2246.0190\n",
      "Epoch 45/100\n",
      "7/7 [==============================] - 0s 4ms/step - loss: 2182.9700\n",
      "Epoch 46/100\n",
      "7/7 [==============================] - 0s 4ms/step - loss: 2122.5305\n",
      "Epoch 47/100\n",
      "7/7 [==============================] - 0s 4ms/step - loss: 2056.4937\n",
      "Epoch 48/100\n",
      "7/7 [==============================] - 0s 4ms/step - loss: 1997.5291\n",
      "Epoch 49/100\n",
      "7/7 [==============================] - 0s 4ms/step - loss: 1933.1641\n",
      "Epoch 50/100\n",
      "7/7 [==============================] - 0s 4ms/step - loss: 1872.3610\n",
      "Epoch 51/100\n",
      "7/7 [==============================] - 0s 3ms/step - loss: 1810.5524\n",
      "Epoch 52/100\n",
      "7/7 [==============================] - 0s 4ms/step - loss: 1752.9579\n",
      "Epoch 53/100\n",
      "7/7 [==============================] - 0s 3ms/step - loss: 1693.3524\n",
      "Epoch 54/100\n",
      "7/7 [==============================] - 0s 3ms/step - loss: 1635.7725\n",
      "Epoch 55/100\n",
      "7/7 [==============================] - 0s 3ms/step - loss: 1579.6410\n",
      "Epoch 56/100\n",
      "7/7 [==============================] - 0s 3ms/step - loss: 1526.1412\n",
      "Epoch 57/100\n",
      "7/7 [==============================] - 0s 4ms/step - loss: 1473.7047\n",
      "Epoch 58/100\n",
      "7/7 [==============================] - 0s 4ms/step - loss: 1420.8408\n",
      "Epoch 59/100\n",
      "7/7 [==============================] - 0s 3ms/step - loss: 1373.1780\n",
      "Epoch 60/100\n",
      "7/7 [==============================] - 0s 2ms/step - loss: 1324.7706\n",
      "Epoch 61/100\n",
      "7/7 [==============================] - 0s 3ms/step - loss: 1280.1328\n",
      "Epoch 62/100\n",
      "7/7 [==============================] - 0s 3ms/step - loss: 1238.4832\n",
      "Epoch 63/100\n",
      "7/7 [==============================] - 0s 5ms/step - loss: 1196.4846\n",
      "Epoch 64/100\n",
      "7/7 [==============================] - 0s 4ms/step - loss: 1157.3236\n",
      "Epoch 65/100\n",
      "7/7 [==============================] - 0s 3ms/step - loss: 1122.4425\n",
      "Epoch 66/100\n",
      "7/7 [==============================] - 0s 3ms/step - loss: 1086.5126\n",
      "Epoch 67/100\n",
      "7/7 [==============================] - 0s 4ms/step - loss: 1056.7394\n",
      "Epoch 68/100\n",
      "7/7 [==============================] - 0s 2ms/step - loss: 1025.4734\n",
      "Epoch 69/100\n",
      "7/7 [==============================] - 0s 4ms/step - loss: 996.8975\n",
      "Epoch 70/100\n",
      "7/7 [==============================] - 0s 3ms/step - loss: 972.3129\n",
      "Epoch 71/100\n",
      "7/7 [==============================] - 0s 3ms/step - loss: 949.3990\n",
      "Epoch 72/100\n",
      "7/7 [==============================] - 0s 3ms/step - loss: 925.4890\n",
      "Epoch 73/100\n",
      "7/7 [==============================] - 0s 3ms/step - loss: 905.8646\n",
      "Epoch 74/100\n",
      "7/7 [==============================] - 0s 3ms/step - loss: 887.4081\n",
      "Epoch 75/100\n",
      "7/7 [==============================] - 0s 3ms/step - loss: 870.5760\n",
      "Epoch 76/100\n",
      "7/7 [==============================] - 0s 3ms/step - loss: 856.3652\n",
      "Epoch 77/100\n",
      "7/7 [==============================] - 0s 3ms/step - loss: 841.0087\n",
      "Epoch 78/100\n",
      "7/7 [==============================] - 0s 3ms/step - loss: 828.1291\n",
      "Epoch 79/100\n",
      "7/7 [==============================] - 0s 3ms/step - loss: 816.5795\n",
      "Epoch 80/100\n",
      "7/7 [==============================] - 0s 3ms/step - loss: 805.4190\n",
      "Epoch 81/100\n",
      "7/7 [==============================] - 0s 3ms/step - loss: 796.7888\n",
      "Epoch 82/100\n",
      "7/7 [==============================] - 0s 3ms/step - loss: 787.6844\n",
      "Epoch 83/100\n",
      "7/7 [==============================] - 0s 3ms/step - loss: 780.2643\n",
      "Epoch 84/100\n",
      "7/7 [==============================] - 0s 3ms/step - loss: 772.2710\n",
      "Epoch 85/100\n",
      "7/7 [==============================] - 0s 3ms/step - loss: 765.0648\n",
      "Epoch 86/100\n",
      "7/7 [==============================] - 0s 3ms/step - loss: 758.6943\n",
      "Epoch 87/100\n",
      "7/7 [==============================] - 0s 3ms/step - loss: 753.7026\n",
      "Epoch 88/100\n",
      "7/7 [==============================] - 0s 3ms/step - loss: 747.7174\n",
      "Epoch 89/100\n",
      "7/7 [==============================] - 0s 4ms/step - loss: 742.9811\n",
      "Epoch 90/100\n",
      "7/7 [==============================] - 0s 3ms/step - loss: 738.2817\n",
      "Epoch 91/100\n",
      "7/7 [==============================] - 0s 4ms/step - loss: 733.7577\n",
      "Epoch 92/100\n",
      "7/7 [==============================] - 0s 5ms/step - loss: 730.5815\n",
      "Epoch 93/100\n",
      "7/7 [==============================] - 0s 3ms/step - loss: 725.9996\n",
      "Epoch 94/100\n",
      "7/7 [==============================] - 0s 3ms/step - loss: 721.7479\n",
      "Epoch 95/100\n",
      "7/7 [==============================] - 0s 3ms/step - loss: 718.1454\n",
      "Epoch 96/100\n",
      "7/7 [==============================] - 0s 3ms/step - loss: 715.0171\n",
      "Epoch 97/100\n",
      "7/7 [==============================] - 0s 3ms/step - loss: 711.4374\n",
      "Epoch 98/100\n",
      "7/7 [==============================] - 0s 4ms/step - loss: 708.3589\n",
      "Epoch 99/100\n",
      "7/7 [==============================] - 0s 3ms/step - loss: 705.0413\n",
      "Epoch 100/100\n",
      "7/7 [==============================] - 0s 3ms/step - loss: 702.1245\n"
     ]
    },
    {
     "data": {
      "text/plain": [
       "<keras.callbacks.History at 0x1347cb415b0>"
      ]
     },
     "execution_count": 96,
     "metadata": {},
     "output_type": "execute_result"
    }
   ],
   "source": [
    "ann.fit(m_final_a, kss, batch_size=32, epochs=100)\n"
   ]
  },
  {
   "cell_type": "code",
   "execution_count": 89,
   "id": "e9e725d6-7888-4032-9945-b61f0861b2d2",
   "metadata": {},
   "outputs": [
    {
     "data": {
      "text/plain": [
       "list"
      ]
     },
     "execution_count": 89,
     "metadata": {},
     "output_type": "execute_result"
    }
   ],
   "source": [
    "type(kss)"
   ]
  },
  {
   "cell_type": "code",
   "execution_count": 92,
   "id": "5326d442-dfd1-4a57-83fd-4a83bd1dc4de",
   "metadata": {},
   "outputs": [
    {
     "data": {
      "text/plain": [
       "224"
      ]
     },
     "execution_count": 92,
     "metadata": {},
     "output_type": "execute_result"
    }
   ],
   "source": [
    "len(kss)"
   ]
  },
  {
   "cell_type": "code",
   "execution_count": 94,
   "id": "ddfed58e-1b7c-48e3-81d3-9780132a4575",
   "metadata": {},
   "outputs": [],
   "source": [
    "kss = np.array(kss)"
   ]
  },
  {
   "cell_type": "code",
   "execution_count": 95,
   "id": "ef60346d-05ed-4c88-91b4-1b36697fb121",
   "metadata": {},
   "outputs": [
    {
     "data": {
      "text/plain": [
       "(224,)"
      ]
     },
     "execution_count": 95,
     "metadata": {},
     "output_type": "execute_result"
    }
   ],
   "source": [
    "kss.shape"
   ]
  },
  {
   "cell_type": "code",
   "execution_count": 1,
   "id": "c0abf4e2-6b55-450b-b59b-a96796284388",
   "metadata": {},
   "outputs": [],
   "source": [
    "import pandas as pd"
   ]
  },
  {
   "cell_type": "code",
   "execution_count": 2,
   "id": "656831f1-1987-41d0-99db-cdce7fdca2a2",
   "metadata": {},
   "outputs": [],
   "source": [
    "data = pd.read_csv(\"clean_2.csv\")"
   ]
  },
  {
   "cell_type": "code",
   "execution_count": 3,
   "id": "bb20a0c9-a45a-45ce-b1ed-de93395d8161",
   "metadata": {},
   "outputs": [
    {
     "data": {
      "text/html": [
       "<div>\n",
       "<style scoped>\n",
       "    .dataframe tbody tr th:only-of-type {\n",
       "        vertical-align: middle;\n",
       "    }\n",
       "\n",
       "    .dataframe tbody tr th {\n",
       "        vertical-align: top;\n",
       "    }\n",
       "\n",
       "    .dataframe thead th {\n",
       "        text-align: right;\n",
       "    }\n",
       "</style>\n",
       "<table border=\"1\" class=\"dataframe\">\n",
       "  <thead>\n",
       "    <tr style=\"text-align: right;\">\n",
       "      <th></th>\n",
       "      <th>Unnamed: 0</th>\n",
       "      <th>Date</th>\n",
       "      <th>KeyWord</th>\n",
       "      <th>ActSubCase</th>\n",
       "      <th>Stage</th>\n",
       "      <th>Type</th>\n",
       "      <th>Date_new</th>\n",
       "      <th>days</th>\n",
       "    </tr>\n",
       "  </thead>\n",
       "  <tbody>\n",
       "    <tr>\n",
       "      <th>0</th>\n",
       "      <td>0</td>\n",
       "      <td>2021-05-01 00:00:00</td>\n",
       "      <td>recoveryofmoney</td>\n",
       "      <td>370</td>\n",
       "      <td>misccases/purpose</td>\n",
       "      <td>cs(comm)</td>\n",
       "      <td>2021-05-01</td>\n",
       "      <td>466</td>\n",
       "    </tr>\n",
       "    <tr>\n",
       "      <th>1</th>\n",
       "      <td>1</td>\n",
       "      <td>2021-07-09 00:00:00</td>\n",
       "      <td>permanentinjuction</td>\n",
       "      <td>730</td>\n",
       "      <td>misccases/purpose</td>\n",
       "      <td>csdj</td>\n",
       "      <td>2021-07-09</td>\n",
       "      <td>397</td>\n",
       "    </tr>\n",
       "    <tr>\n",
       "      <th>2</th>\n",
       "      <td>2</td>\n",
       "      <td>22-9-2021</td>\n",
       "      <td>executionact1990</td>\n",
       "      <td>10</td>\n",
       "      <td>misccases/purpose</td>\n",
       "      <td>ex</td>\n",
       "      <td>2021-09-22</td>\n",
       "      <td>322</td>\n",
       "    </tr>\n",
       "    <tr>\n",
       "      <th>3</th>\n",
       "      <td>3</td>\n",
       "      <td>23-9-2021</td>\n",
       "      <td>recoveryofmoney</td>\n",
       "      <td>2(1)(c)(i)</td>\n",
       "      <td>plaintiff/petitionerevidence</td>\n",
       "      <td>cs(comm)</td>\n",
       "      <td>2021-09-23</td>\n",
       "      <td>321</td>\n",
       "    </tr>\n",
       "    <tr>\n",
       "      <th>4</th>\n",
       "      <td>4</td>\n",
       "      <td>29-9-2021</td>\n",
       "      <td>recoveryofmoney</td>\n",
       "      <td>1510</td>\n",
       "      <td>misccases/purpose</td>\n",
       "      <td>cs(comm)</td>\n",
       "      <td>2021-09-29</td>\n",
       "      <td>315</td>\n",
       "    </tr>\n",
       "  </tbody>\n",
       "</table>\n",
       "</div>"
      ],
      "text/plain": [
       "   Unnamed: 0                 Date             KeyWord  ActSubCase  \\\n",
       "0           0  2021-05-01 00:00:00     recoveryofmoney         370   \n",
       "1           1  2021-07-09 00:00:00  permanentinjuction         730   \n",
       "2           2            22-9-2021    executionact1990          10   \n",
       "3           3            23-9-2021     recoveryofmoney  2(1)(c)(i)   \n",
       "4           4            29-9-2021     recoveryofmoney        1510   \n",
       "\n",
       "                          Stage      Type    Date_new  days  \n",
       "0             misccases/purpose  cs(comm)  2021-05-01   466  \n",
       "1             misccases/purpose      csdj  2021-07-09   397  \n",
       "2             misccases/purpose        ex  2021-09-22   322  \n",
       "3  plaintiff/petitionerevidence  cs(comm)  2021-09-23   321  \n",
       "4             misccases/purpose  cs(comm)  2021-09-29   315  "
      ]
     },
     "execution_count": 3,
     "metadata": {},
     "output_type": "execute_result"
    }
   ],
   "source": [
    "data.head()"
   ]
  },
  {
   "cell_type": "code",
   "execution_count": null,
   "id": "8e1f06d7-0ea0-43a4-be3e-a2772e81b485",
   "metadata": {},
   "outputs": [],
   "source": []
  }
 ],
 "metadata": {
  "kernelspec": {
   "display_name": "Python 3 (ipykernel)",
   "language": "python",
   "name": "python3"
  },
  "language_info": {
   "codemirror_mode": {
    "name": "ipython",
    "version": 3
   },
   "file_extension": ".py",
   "mimetype": "text/x-python",
   "name": "python",
   "nbconvert_exporter": "python",
   "pygments_lexer": "ipython3",
   "version": "3.9.7"
  },
  "widgets": {
   "application/vnd.jupyter.widget-state+json": {
    "state": {},
    "version_major": 2,
    "version_minor": 0
   }
  }
 },
 "nbformat": 4,
 "nbformat_minor": 5
}
