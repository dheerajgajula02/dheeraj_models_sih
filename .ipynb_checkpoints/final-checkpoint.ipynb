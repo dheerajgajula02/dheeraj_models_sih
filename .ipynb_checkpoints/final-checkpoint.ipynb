{
 "cells": [
  {
   "cell_type": "code",
   "execution_count": 1,
   "id": "6b295be1-f24d-49c7-a3a8-26c1f10a1e20",
   "metadata": {},
   "outputs": [],
   "source": [
    "import numpy as np\n",
    "import pandas as pd"
   ]
  },
  {
   "cell_type": "code",
   "execution_count": 2,
   "id": "d6e170f8-8d6d-49d4-94ce-64c4e58f9687",
   "metadata": {},
   "outputs": [],
   "source": [
    "data = pd.read_csv('clean_2.csv')"
   ]
  },
  {
   "cell_type": "code",
   "execution_count": 3,
   "id": "be5b25fb-1dbf-471b-acd9-2daadf55281c",
   "metadata": {},
   "outputs": [
    {
     "data": {
      "text/html": [
       "<div>\n",
       "<style scoped>\n",
       "    .dataframe tbody tr th:only-of-type {\n",
       "        vertical-align: middle;\n",
       "    }\n",
       "\n",
       "    .dataframe tbody tr th {\n",
       "        vertical-align: top;\n",
       "    }\n",
       "\n",
       "    .dataframe thead th {\n",
       "        text-align: right;\n",
       "    }\n",
       "</style>\n",
       "<table border=\"1\" class=\"dataframe\">\n",
       "  <thead>\n",
       "    <tr style=\"text-align: right;\">\n",
       "      <th></th>\n",
       "      <th>Unnamed: 0</th>\n",
       "      <th>Date</th>\n",
       "      <th>KeyWord</th>\n",
       "      <th>ActSubCase</th>\n",
       "      <th>Stage</th>\n",
       "      <th>Type</th>\n",
       "      <th>Date_new</th>\n",
       "      <th>days</th>\n",
       "    </tr>\n",
       "  </thead>\n",
       "  <tbody>\n",
       "    <tr>\n",
       "      <th>0</th>\n",
       "      <td>0</td>\n",
       "      <td>2021-05-01 00:00:00</td>\n",
       "      <td>recoveryofmoney</td>\n",
       "      <td>370</td>\n",
       "      <td>misccases/purpose</td>\n",
       "      <td>cs(comm)</td>\n",
       "      <td>2021-05-01</td>\n",
       "      <td>466</td>\n",
       "    </tr>\n",
       "    <tr>\n",
       "      <th>1</th>\n",
       "      <td>1</td>\n",
       "      <td>2021-07-09 00:00:00</td>\n",
       "      <td>permanentinjuction</td>\n",
       "      <td>730</td>\n",
       "      <td>misccases/purpose</td>\n",
       "      <td>csdj</td>\n",
       "      <td>2021-07-09</td>\n",
       "      <td>397</td>\n",
       "    </tr>\n",
       "    <tr>\n",
       "      <th>2</th>\n",
       "      <td>2</td>\n",
       "      <td>22-9-2021</td>\n",
       "      <td>executionact1990</td>\n",
       "      <td>10</td>\n",
       "      <td>misccases/purpose</td>\n",
       "      <td>ex</td>\n",
       "      <td>2021-09-22</td>\n",
       "      <td>322</td>\n",
       "    </tr>\n",
       "    <tr>\n",
       "      <th>3</th>\n",
       "      <td>3</td>\n",
       "      <td>23-9-2021</td>\n",
       "      <td>recoveryofmoney</td>\n",
       "      <td>2(1)(c)(i)</td>\n",
       "      <td>plaintiff/petitionerevidence</td>\n",
       "      <td>cs(comm)</td>\n",
       "      <td>2021-09-23</td>\n",
       "      <td>321</td>\n",
       "    </tr>\n",
       "    <tr>\n",
       "      <th>4</th>\n",
       "      <td>4</td>\n",
       "      <td>29-9-2021</td>\n",
       "      <td>recoveryofmoney</td>\n",
       "      <td>1510</td>\n",
       "      <td>misccases/purpose</td>\n",
       "      <td>cs(comm)</td>\n",
       "      <td>2021-09-29</td>\n",
       "      <td>315</td>\n",
       "    </tr>\n",
       "  </tbody>\n",
       "</table>\n",
       "</div>"
      ],
      "text/plain": [
       "   Unnamed: 0                 Date             KeyWord  ActSubCase  \\\n",
       "0           0  2021-05-01 00:00:00     recoveryofmoney         370   \n",
       "1           1  2021-07-09 00:00:00  permanentinjuction         730   \n",
       "2           2            22-9-2021    executionact1990          10   \n",
       "3           3            23-9-2021     recoveryofmoney  2(1)(c)(i)   \n",
       "4           4            29-9-2021     recoveryofmoney        1510   \n",
       "\n",
       "                          Stage      Type    Date_new  days  \n",
       "0             misccases/purpose  cs(comm)  2021-05-01   466  \n",
       "1             misccases/purpose      csdj  2021-07-09   397  \n",
       "2             misccases/purpose        ex  2021-09-22   322  \n",
       "3  plaintiff/petitionerevidence  cs(comm)  2021-09-23   321  \n",
       "4             misccases/purpose  cs(comm)  2021-09-29   315  "
      ]
     },
     "execution_count": 3,
     "metadata": {},
     "output_type": "execute_result"
    }
   ],
   "source": [
    "data.head()"
   ]
  },
  {
   "cell_type": "code",
   "execution_count": 4,
   "id": "e22415a0-747b-4008-ae63-6b6106490258",
   "metadata": {},
   "outputs": [],
   "source": [
    "score=[]\n",
    "for i in range(0, len(data)):\n",
    "    if data['Stage'][i]=='misccases/purpose':\n",
    "      score.append(round(np.random.uniform(4,5), 2))\n",
    "    elif data['Stage'][i]=='plaintiff/petitionerevidence':\n",
    "      score.append(round(np.random.uniform(9,10),2))\n",
    "    elif data['Stage'][i]=='misc/appearance':\n",
    "      score.append(round(np.random.uniform(5,6), 2))\n",
    "    elif data['Stage'][i]=='miscarguments':\n",
    "      score.append(round(np.random.uniform(7,8),2))\n",
    "    elif data['Stage'][i]=='trafficchallan':\n",
    "      score.append(round(np.random.uniform(1,2),2))\n",
    "    elif data['Stage'][i]=='trafficchalan':\n",
    "      score.append(round(np.random.uniform(1, 2), 2))\n",
    "    elif data['Stage'][i]=='issues':\n",
    "      score.append(round(np.random.uniform(4,5),2))\n",
    "    elif data['Stage'][i]=='prosecutionevidence':\n",
    "      score.append(round(np.random.uniform(9, 10), 2))\n",
    "    elif data['Stage'][i]=='charge':\n",
    "      score.append(round(np.random.uniform(3,4),2))\n",
    "    elif data['Stage'][i]=='arguments':\n",
    "      score.append(round(np.random.uniform(7,8), 2))\n",
    "    elif data['Stage'][i]=='misccases/appearance':\n",
    "      score.append(round(np.random.uniform(5,6),2))\n",
    "    elif data['Stage'][i]=='miscargument':\n",
    "      score.append(round(np.random.uniform(7,8), 2))\n",
    "    elif data['Stage'][i]=='misccase':\n",
    "      score.append(round(np.random.uniform(6,7),2))\n",
    "    elif data['Stage'][i]=='finalarguments':\n",
    "      score.append(round(np.random.uniform(7,8),2))\n",
    "    elif data['Stage'][i]=='misccases':\n",
    "      score.append(round(np.random.uniform(6, 7), 2))\n",
    "    elif data['Stage'][i]=='miscarguements':\n",
    "      score.append(round(np.random.uniform(7,8),2))\n",
    "    elif data['Stage'][i]=='order':\n",
    "      score.append(round(np.random.uniform(8,9), 2))\n",
    "    elif data['Stage'][i]=='defendant/respondentevidence':\n",
    "      score.append(round(np.random.uniform(9,10), 2))"
   ]
  },
  {
   "cell_type": "code",
   "execution_count": 5,
   "id": "6fd41b11-9f58-4701-af86-0a4b694b2299",
   "metadata": {},
   "outputs": [
    {
     "data": {
      "text/plain": [
       "224"
      ]
     },
     "execution_count": 5,
     "metadata": {},
     "output_type": "execute_result"
    }
   ],
   "source": [
    "len(score)"
   ]
  },
  {
   "cell_type": "code",
   "execution_count": 6,
   "id": "6e4b0e13-9a19-413e-81f9-559465e3d257",
   "metadata": {},
   "outputs": [
    {
     "data": {
      "text/plain": [
       "list"
      ]
     },
     "execution_count": 6,
     "metadata": {},
     "output_type": "execute_result"
    }
   ],
   "source": [
    "type(score)"
   ]
  },
  {
   "cell_type": "code",
   "execution_count": 7,
   "id": "7da3651e-1b34-432d-8768-8a5d3c224b6f",
   "metadata": {},
   "outputs": [],
   "source": [
    "score = np.array(score)"
   ]
  },
  {
   "cell_type": "code",
   "execution_count": 8,
   "id": "d341df30-62e5-4e27-8cab-03fbb7ca2382",
   "metadata": {},
   "outputs": [
    {
     "data": {
      "text/plain": [
       "numpy.ndarray"
      ]
     },
     "execution_count": 8,
     "metadata": {},
     "output_type": "execute_result"
    }
   ],
   "source": [
    "type(score)"
   ]
  },
  {
   "cell_type": "code",
   "execution_count": 9,
   "id": "9f4a8644-bdb8-47a5-b9b8-9e42effc55eb",
   "metadata": {},
   "outputs": [
    {
     "data": {
      "text/plain": [
       "numpy.float64"
      ]
     },
     "execution_count": 9,
     "metadata": {},
     "output_type": "execute_result"
    }
   ],
   "source": [
    "type(score[0])"
   ]
  },
  {
   "cell_type": "code",
   "execution_count": 10,
   "id": "ddd11c08-9ec4-4972-abf7-7ff9ed0c33fd",
   "metadata": {},
   "outputs": [],
   "source": [
    "del data['Unnamed: 0']"
   ]
  },
  {
   "cell_type": "code",
   "execution_count": 11,
   "id": "3074a20b-c000-4b53-91c2-64212dcfb037",
   "metadata": {},
   "outputs": [
    {
     "data": {
      "text/html": [
       "<div>\n",
       "<style scoped>\n",
       "    .dataframe tbody tr th:only-of-type {\n",
       "        vertical-align: middle;\n",
       "    }\n",
       "\n",
       "    .dataframe tbody tr th {\n",
       "        vertical-align: top;\n",
       "    }\n",
       "\n",
       "    .dataframe thead th {\n",
       "        text-align: right;\n",
       "    }\n",
       "</style>\n",
       "<table border=\"1\" class=\"dataframe\">\n",
       "  <thead>\n",
       "    <tr style=\"text-align: right;\">\n",
       "      <th></th>\n",
       "      <th>Date</th>\n",
       "      <th>KeyWord</th>\n",
       "      <th>ActSubCase</th>\n",
       "      <th>Stage</th>\n",
       "      <th>Type</th>\n",
       "      <th>Date_new</th>\n",
       "      <th>days</th>\n",
       "    </tr>\n",
       "  </thead>\n",
       "  <tbody>\n",
       "    <tr>\n",
       "      <th>0</th>\n",
       "      <td>2021-05-01 00:00:00</td>\n",
       "      <td>recoveryofmoney</td>\n",
       "      <td>370</td>\n",
       "      <td>misccases/purpose</td>\n",
       "      <td>cs(comm)</td>\n",
       "      <td>2021-05-01</td>\n",
       "      <td>466</td>\n",
       "    </tr>\n",
       "    <tr>\n",
       "      <th>1</th>\n",
       "      <td>2021-07-09 00:00:00</td>\n",
       "      <td>permanentinjuction</td>\n",
       "      <td>730</td>\n",
       "      <td>misccases/purpose</td>\n",
       "      <td>csdj</td>\n",
       "      <td>2021-07-09</td>\n",
       "      <td>397</td>\n",
       "    </tr>\n",
       "    <tr>\n",
       "      <th>2</th>\n",
       "      <td>22-9-2021</td>\n",
       "      <td>executionact1990</td>\n",
       "      <td>10</td>\n",
       "      <td>misccases/purpose</td>\n",
       "      <td>ex</td>\n",
       "      <td>2021-09-22</td>\n",
       "      <td>322</td>\n",
       "    </tr>\n",
       "    <tr>\n",
       "      <th>3</th>\n",
       "      <td>23-9-2021</td>\n",
       "      <td>recoveryofmoney</td>\n",
       "      <td>2(1)(c)(i)</td>\n",
       "      <td>plaintiff/petitionerevidence</td>\n",
       "      <td>cs(comm)</td>\n",
       "      <td>2021-09-23</td>\n",
       "      <td>321</td>\n",
       "    </tr>\n",
       "    <tr>\n",
       "      <th>4</th>\n",
       "      <td>29-9-2021</td>\n",
       "      <td>recoveryofmoney</td>\n",
       "      <td>1510</td>\n",
       "      <td>misccases/purpose</td>\n",
       "      <td>cs(comm)</td>\n",
       "      <td>2021-09-29</td>\n",
       "      <td>315</td>\n",
       "    </tr>\n",
       "  </tbody>\n",
       "</table>\n",
       "</div>"
      ],
      "text/plain": [
       "                  Date             KeyWord  ActSubCase  \\\n",
       "0  2021-05-01 00:00:00     recoveryofmoney         370   \n",
       "1  2021-07-09 00:00:00  permanentinjuction         730   \n",
       "2            22-9-2021    executionact1990          10   \n",
       "3            23-9-2021     recoveryofmoney  2(1)(c)(i)   \n",
       "4            29-9-2021     recoveryofmoney        1510   \n",
       "\n",
       "                          Stage      Type    Date_new  days  \n",
       "0             misccases/purpose  cs(comm)  2021-05-01   466  \n",
       "1             misccases/purpose      csdj  2021-07-09   397  \n",
       "2             misccases/purpose        ex  2021-09-22   322  \n",
       "3  plaintiff/petitionerevidence  cs(comm)  2021-09-23   321  \n",
       "4             misccases/purpose  cs(comm)  2021-09-29   315  "
      ]
     },
     "execution_count": 11,
     "metadata": {},
     "output_type": "execute_result"
    }
   ],
   "source": [
    "data.head()"
   ]
  },
  {
   "cell_type": "code",
   "execution_count": 12,
   "id": "02eac27a-8eb1-41a2-b7dd-21f7ced80c6c",
   "metadata": {},
   "outputs": [],
   "source": [
    "x=data.values"
   ]
  },
  {
   "cell_type": "code",
   "execution_count": 13,
   "id": "b444c63d-4507-4c7a-9773-030ffaaa257b",
   "metadata": {},
   "outputs": [],
   "source": [
    "from sklearn.compose import ColumnTransformer\n",
    "from sklearn.preprocessing import OneHotEncoder"
   ]
  },
  {
   "cell_type": "code",
   "execution_count": 14,
   "id": "390a0c4c-f0eb-4a3a-a076-7f9b17c56636",
   "metadata": {},
   "outputs": [],
   "source": [
    "ctkw = ColumnTransformer(transformers=[('encoder', OneHotEncoder(),[0])], remainder='passthrough')"
   ]
  },
  {
   "cell_type": "code",
   "execution_count": 17,
   "id": "49b7e6c3-6e12-45b9-b61d-274f6f6b76d0",
   "metadata": {},
   "outputs": [],
   "source": [
    "tempkw = x[:, 1]"
   ]
  },
  {
   "cell_type": "code",
   "execution_count": 20,
   "id": "d17d679c-ec64-459c-ad54-6a2e07d667e4",
   "metadata": {},
   "outputs": [],
   "source": [
    "tempkw.shape= (len(tempkw), 1)"
   ]
  },
  {
   "cell_type": "code",
   "execution_count": 21,
   "id": "cdbe0e54-afd8-4cb3-844e-fd6fd7bd29e6",
   "metadata": {},
   "outputs": [
    {
     "data": {
      "text/plain": [
       "(224, 1)"
      ]
     },
     "execution_count": 21,
     "metadata": {},
     "output_type": "execute_result"
    }
   ],
   "source": [
    "tempkw.shape"
   ]
  },
  {
   "cell_type": "code",
   "execution_count": 22,
   "id": "1e1d8331-c99b-42bc-9b9f-883f6ec4f41e",
   "metadata": {},
   "outputs": [],
   "source": [
    "k1 = ctkw.fit_transform(tempkw)"
   ]
  },
  {
   "cell_type": "code",
   "execution_count": 26,
   "id": "4f107809-c540-4586-88d8-0267967412e2",
   "metadata": {},
   "outputs": [
    {
     "data": {
      "text/plain": [
       "(224, 37)"
      ]
     },
     "execution_count": 26,
     "metadata": {},
     "output_type": "execute_result"
    }
   ],
   "source": [
    "k1.shape"
   ]
  },
  {
   "cell_type": "code",
   "execution_count": 25,
   "id": "08fb7f6a-ced9-4e67-a5aa-80c32a2fd65d",
   "metadata": {},
   "outputs": [],
   "source": [
    "tempacs= x[:, 2]"
   ]
  },
  {
   "cell_type": "code",
   "execution_count": 29,
   "id": "7d014c77-e1a9-4373-9df4-fe2d6ccbfdfb",
   "metadata": {},
   "outputs": [
    {
     "data": {
      "text/plain": [
       "numpy.ndarray"
      ]
     },
     "execution_count": 29,
     "metadata": {},
     "output_type": "execute_result"
    }
   ],
   "source": [
    "type(tempacs)"
   ]
  },
  {
   "cell_type": "code",
   "execution_count": 30,
   "id": "0ebc8098-068d-44eb-a4d4-20c9861e989c",
   "metadata": {},
   "outputs": [
    {
     "data": {
      "text/plain": [
       "(224,)"
      ]
     },
     "execution_count": 30,
     "metadata": {},
     "output_type": "execute_result"
    }
   ],
   "source": [
    "tempacs.shape"
   ]
  },
  {
   "cell_type": "code",
   "execution_count": 31,
   "id": "a9817ffa-c846-457e-a7b3-7e0402035f8c",
   "metadata": {},
   "outputs": [],
   "source": [
    "tempacs.shape=(len(tempacs),1 )"
   ]
  },
  {
   "cell_type": "code",
   "execution_count": 32,
   "id": "e9606c34-647b-4dba-a3e6-2d98f3c72477",
   "metadata": {},
   "outputs": [
    {
     "data": {
      "text/plain": [
       "(224, 1)"
      ]
     },
     "execution_count": 32,
     "metadata": {},
     "output_type": "execute_result"
    }
   ],
   "source": [
    "tempacs.shape"
   ]
  },
  {
   "cell_type": "code",
   "execution_count": 27,
   "id": "ec255e3f-e354-4250-8593-d01a1ac927cf",
   "metadata": {},
   "outputs": [],
   "source": [
    "ctacs = ColumnTransformer(transformers=[('encoder', OneHotEncoder(),[0])], remainder='passthrough')"
   ]
  },
  {
   "cell_type": "code",
   "execution_count": 33,
   "id": "5ebb7af8-8821-48b6-bf3c-aed0023beacd",
   "metadata": {},
   "outputs": [],
   "source": [
    "k2 = ctacs.fit_transform(tempacs)"
   ]
  },
  {
   "cell_type": "code",
   "execution_count": 34,
   "id": "805d6aa8-f90f-4291-b29b-9eef1f7bed18",
   "metadata": {},
   "outputs": [
    {
     "data": {
      "text/plain": [
       "(224, 80)"
      ]
     },
     "execution_count": 34,
     "metadata": {},
     "output_type": "execute_result"
    }
   ],
   "source": [
    "k2.shape"
   ]
  },
  {
   "cell_type": "code",
   "execution_count": 35,
   "id": "f6655c06-9a4c-4ead-be9a-5807d398a360",
   "metadata": {},
   "outputs": [],
   "source": [
    "ctst = ColumnTransformer(transformers=[('encoder', OneHotEncoder(),[0])], remainder='passthrough')"
   ]
  },
  {
   "cell_type": "code",
   "execution_count": 36,
   "id": "a9fd8bb1-7fb9-4097-9e3c-912ff2a091a2",
   "metadata": {},
   "outputs": [],
   "source": [
    "tempst = x[:, 3]"
   ]
  },
  {
   "cell_type": "code",
   "execution_count": 37,
   "id": "02c50b79-f9dc-484c-b18c-5aa86680986e",
   "metadata": {},
   "outputs": [],
   "source": [
    "tempst.shape= (len(tempst), 1)"
   ]
  },
  {
   "cell_type": "code",
   "execution_count": 39,
   "id": "7a292803-1d6a-4c24-8c08-f20024faf919",
   "metadata": {},
   "outputs": [],
   "source": [
    "k3=ctst.fit_transform(tempst)"
   ]
  },
  {
   "cell_type": "code",
   "execution_count": 40,
   "id": "fe72247e-8485-43ea-971d-c5cbc39b2b17",
   "metadata": {},
   "outputs": [
    {
     "data": {
      "text/plain": [
       "(224, 18)"
      ]
     },
     "execution_count": 40,
     "metadata": {},
     "output_type": "execute_result"
    }
   ],
   "source": [
    "k3.shape"
   ]
  },
  {
   "cell_type": "code",
   "execution_count": 41,
   "id": "9af5fa5d-6884-48e4-8911-7a1a588d2827",
   "metadata": {},
   "outputs": [],
   "source": [
    "ctty = ColumnTransformer(transformers=[('encoder', OneHotEncoder(),[0])], remainder='passthrough')"
   ]
  },
  {
   "cell_type": "code",
   "execution_count": 42,
   "id": "588807c7-63b9-4ccf-94ea-130edd3724d7",
   "metadata": {},
   "outputs": [],
   "source": [
    "tempty = x[:, 4]"
   ]
  },
  {
   "cell_type": "code",
   "execution_count": 43,
   "id": "0e546142-f63b-4d9a-8451-db0de95dbe4b",
   "metadata": {},
   "outputs": [
    {
     "data": {
      "text/plain": [
       "(224,)"
      ]
     },
     "execution_count": 43,
     "metadata": {},
     "output_type": "execute_result"
    }
   ],
   "source": [
    "tempty.shape"
   ]
  },
  {
   "cell_type": "code",
   "execution_count": 44,
   "id": "7ec85a51-464a-425b-b8bf-bf5b202e538d",
   "metadata": {},
   "outputs": [],
   "source": [
    "tempty.shape = (len(tempty), 1)"
   ]
  },
  {
   "cell_type": "code",
   "execution_count": 45,
   "id": "dee85463-3996-4c28-bcea-2b7b827d41d6",
   "metadata": {},
   "outputs": [],
   "source": [
    "k4=ctty.fit_transform(tempty)"
   ]
  },
  {
   "cell_type": "code",
   "execution_count": 46,
   "id": "4748dd36-39d4-462f-8d46-0c767e8cd5bd",
   "metadata": {},
   "outputs": [
    {
     "data": {
      "text/plain": [
       "(224, 30)"
      ]
     },
     "execution_count": 46,
     "metadata": {},
     "output_type": "execute_result"
    }
   ],
   "source": [
    "k4.shape"
   ]
  },
  {
   "cell_type": "code",
   "execution_count": 47,
   "id": "eb33ab73-df3f-49fb-b5b6-7df779c94087",
   "metadata": {},
   "outputs": [],
   "source": [
    "from scipy.sparse import hstack"
   ]
  },
  {
   "cell_type": "code",
   "execution_count": 48,
   "id": "c14fde4b-f936-4699-b40e-fb0dcdedae32",
   "metadata": {},
   "outputs": [],
   "source": [
    "final = hstack((k1,k2))"
   ]
  },
  {
   "cell_type": "code",
   "execution_count": 49,
   "id": "586a8291-4561-46da-a41e-9ec6f53eeb17",
   "metadata": {},
   "outputs": [],
   "source": [
    "final = hstack((final, k3))"
   ]
  },
  {
   "cell_type": "code",
   "execution_count": 50,
   "id": "6b6b47f4-5553-4534-a5b0-9127246df87e",
   "metadata": {},
   "outputs": [],
   "source": [
    "final = hstack((final, k4))"
   ]
  },
  {
   "cell_type": "code",
   "execution_count": 51,
   "id": "c033b1c6-9ccf-4d28-a43a-035a7b7ad923",
   "metadata": {},
   "outputs": [
    {
     "data": {
      "text/plain": [
       "(224, 165)"
      ]
     },
     "execution_count": 51,
     "metadata": {},
     "output_type": "execute_result"
    }
   ],
   "source": [
    "final.shape"
   ]
  },
  {
   "cell_type": "code",
   "execution_count": 53,
   "id": "b839b5f5-70c8-460b-9388-c53d8bd0f106",
   "metadata": {},
   "outputs": [],
   "source": [
    "score.shape= (len(score), 1)"
   ]
  },
  {
   "cell_type": "code",
   "execution_count": 54,
   "id": "bfc69945-a5d0-4588-b2d1-d9f2f9183e3b",
   "metadata": {},
   "outputs": [
    {
     "data": {
      "text/plain": [
       "(224, 1)"
      ]
     },
     "execution_count": 54,
     "metadata": {},
     "output_type": "execute_result"
    }
   ],
   "source": [
    "score.shape"
   ]
  },
  {
   "cell_type": "code",
   "execution_count": 55,
   "id": "4d506255-2c38-47fd-9635-05d1d02debd1",
   "metadata": {},
   "outputs": [],
   "source": [
    "final = final.toarray()"
   ]
  },
  {
   "cell_type": "code",
   "execution_count": 56,
   "id": "a68666bf-3144-4edf-b657-74aa9932fdfd",
   "metadata": {},
   "outputs": [
    {
     "data": {
      "text/plain": [
       "(224, 165)"
      ]
     },
     "execution_count": 56,
     "metadata": {},
     "output_type": "execute_result"
    }
   ],
   "source": [
    "final.shape"
   ]
  },
  {
   "cell_type": "code",
   "execution_count": 57,
   "id": "da2121e0-9a14-4b0c-bc3c-975f91726f4c",
   "metadata": {},
   "outputs": [],
   "source": [
    "import tensorflow as tf"
   ]
  },
  {
   "cell_type": "code",
   "execution_count": 69,
   "id": "92778ce2-aad3-4772-9956-e639e0b1fdd1",
   "metadata": {},
   "outputs": [],
   "source": [
    "ann = tf.keras.Sequential()"
   ]
  },
  {
   "cell_type": "code",
   "execution_count": 70,
   "id": "e3937ad4-97e0-4d89-bc64-be5d9f323454",
   "metadata": {},
   "outputs": [],
   "source": [
    "ann.add(tf.keras.layers.Dense(units=100, activation='relu'))"
   ]
  },
  {
   "cell_type": "code",
   "execution_count": 71,
   "id": "52d0acb0-68aa-469e-a93f-07432c9873fc",
   "metadata": {},
   "outputs": [],
   "source": [
    "ann.add(tf.keras.layers.Dense(units=100, activation='relu'))"
   ]
  },
  {
   "cell_type": "code",
   "execution_count": 72,
   "id": "66aeea8e-9ccd-4b1a-9fef-42fe2dec91f7",
   "metadata": {},
   "outputs": [],
   "source": [
    "ann.add(tf.keras.layers.Dense(units=100, activation='relu'))\n"
   ]
  },
  {
   "cell_type": "code",
   "execution_count": 73,
   "id": "203d6384-3119-4766-8dbd-f02099b83d78",
   "metadata": {},
   "outputs": [],
   "source": [
    "for i in range(0, 20):\n",
    "    ann.add(tf.keras.layers.Dense(units=100, activation='relu'))"
   ]
  },
  {
   "cell_type": "code",
   "execution_count": 74,
   "id": "81158eec-5693-4202-9048-a63c59fa368e",
   "metadata": {},
   "outputs": [],
   "source": [
    "ann.compile(optimizer= 'adam' , loss='mean_squared_error' )"
   ]
  },
  {
   "cell_type": "code",
   "execution_count": 75,
   "id": "dc9ecf7b-9fad-4ee1-99c1-9abae3b3440a",
   "metadata": {},
   "outputs": [],
   "source": [
    "ann.add(tf.keras.layers.Dense(units=1))"
   ]
  },
  {
   "cell_type": "code",
   "execution_count": 76,
   "id": "7611f977-b9bf-4362-a728-2347871053a4",
   "metadata": {},
   "outputs": [
    {
     "name": "stdout",
     "output_type": "stream",
     "text": [
      "Epoch 1/100\n",
      "7/7 [==============================] - 3s 8ms/step - loss: 44.0898\n",
      "Epoch 2/100\n",
      "7/7 [==============================] - 0s 8ms/step - loss: 39.8826\n",
      "Epoch 3/100\n",
      "7/7 [==============================] - 0s 7ms/step - loss: 10.9126\n",
      "Epoch 4/100\n",
      "7/7 [==============================] - 0s 7ms/step - loss: 3.9167\n",
      "Epoch 5/100\n",
      "7/7 [==============================] - 0s 8ms/step - loss: 2.7576\n",
      "Epoch 6/100\n",
      "7/7 [==============================] - 0s 7ms/step - loss: 1.6072\n",
      "Epoch 7/100\n",
      "7/7 [==============================] - 0s 7ms/step - loss: 1.1173\n",
      "Epoch 8/100\n",
      "7/7 [==============================] - 0s 7ms/step - loss: 0.6358\n",
      "Epoch 9/100\n",
      "7/7 [==============================] - 0s 7ms/step - loss: 0.4392\n",
      "Epoch 10/100\n",
      "7/7 [==============================] - 0s 7ms/step - loss: 0.3655\n",
      "Epoch 11/100\n",
      "7/7 [==============================] - 0s 7ms/step - loss: 0.3013\n",
      "Epoch 12/100\n",
      "7/7 [==============================] - 0s 7ms/step - loss: 0.2362\n",
      "Epoch 13/100\n",
      "7/7 [==============================] - 0s 7ms/step - loss: 0.1943\n",
      "Epoch 14/100\n",
      "7/7 [==============================] - 0s 8ms/step - loss: 0.1592\n",
      "Epoch 15/100\n",
      "7/7 [==============================] - 0s 7ms/step - loss: 0.1359\n",
      "Epoch 16/100\n",
      "7/7 [==============================] - 0s 7ms/step - loss: 0.1231\n",
      "Epoch 17/100\n",
      "7/7 [==============================] - 0s 8ms/step - loss: 0.1083\n",
      "Epoch 18/100\n",
      "7/7 [==============================] - 0s 7ms/step - loss: 0.0943\n",
      "Epoch 19/100\n",
      "7/7 [==============================] - 0s 7ms/step - loss: 0.0905\n",
      "Epoch 20/100\n",
      "7/7 [==============================] - 0s 7ms/step - loss: 0.0839\n",
      "Epoch 21/100\n",
      "7/7 [==============================] - 0s 7ms/step - loss: 0.0750\n",
      "Epoch 22/100\n",
      "7/7 [==============================] - 0s 7ms/step - loss: 0.0735\n",
      "Epoch 23/100\n",
      "7/7 [==============================] - 0s 7ms/step - loss: 0.0663\n",
      "Epoch 24/100\n",
      "7/7 [==============================] - 0s 7ms/step - loss: 0.0637\n",
      "Epoch 25/100\n",
      "7/7 [==============================] - 0s 7ms/step - loss: 0.0501\n",
      "Epoch 26/100\n",
      "7/7 [==============================] - 0s 7ms/step - loss: 0.0491\n",
      "Epoch 27/100\n",
      "7/7 [==============================] - 0s 7ms/step - loss: 0.0470\n",
      "Epoch 28/100\n",
      "7/7 [==============================] - 0s 8ms/step - loss: 0.0467\n",
      "Epoch 29/100\n",
      "7/7 [==============================] - 0s 7ms/step - loss: 0.0418\n",
      "Epoch 30/100\n",
      "7/7 [==============================] - 0s 7ms/step - loss: 0.0663\n",
      "Epoch 31/100\n",
      "7/7 [==============================] - 0s 7ms/step - loss: 0.0497\n",
      "Epoch 32/100\n",
      "7/7 [==============================] - 0s 8ms/step - loss: 0.0406\n",
      "Epoch 33/100\n",
      "7/7 [==============================] - 0s 7ms/step - loss: 0.0451\n",
      "Epoch 34/100\n",
      "7/7 [==============================] - 0s 7ms/step - loss: 0.0412\n",
      "Epoch 35/100\n",
      "7/7 [==============================] - 0s 8ms/step - loss: 0.0386\n",
      "Epoch 36/100\n",
      "7/7 [==============================] - 0s 8ms/step - loss: 0.0360\n",
      "Epoch 37/100\n",
      "7/7 [==============================] - 0s 8ms/step - loss: 0.0374\n",
      "Epoch 38/100\n",
      "7/7 [==============================] - 0s 7ms/step - loss: 0.0500\n",
      "Epoch 39/100\n",
      "7/7 [==============================] - 0s 7ms/step - loss: 0.0503\n",
      "Epoch 40/100\n",
      "7/7 [==============================] - 0s 8ms/step - loss: 0.0373\n",
      "Epoch 41/100\n",
      "7/7 [==============================] - 0s 7ms/step - loss: 0.0373\n",
      "Epoch 42/100\n",
      "7/7 [==============================] - 0s 7ms/step - loss: 0.0390\n",
      "Epoch 43/100\n",
      "7/7 [==============================] - 0s 9ms/step - loss: 0.0386\n",
      "Epoch 44/100\n",
      "7/7 [==============================] - 0s 8ms/step - loss: 0.0453\n",
      "Epoch 45/100\n",
      "7/7 [==============================] - 0s 8ms/step - loss: 0.0550\n",
      "Epoch 46/100\n",
      "7/7 [==============================] - 0s 7ms/step - loss: 0.0484\n",
      "Epoch 47/100\n",
      "7/7 [==============================] - 0s 7ms/step - loss: 0.0414\n",
      "Epoch 48/100\n",
      "7/7 [==============================] - 0s 7ms/step - loss: 0.0398\n",
      "Epoch 49/100\n",
      "7/7 [==============================] - 0s 7ms/step - loss: 0.0373\n",
      "Epoch 50/100\n",
      "7/7 [==============================] - 0s 7ms/step - loss: 0.0449\n",
      "Epoch 51/100\n",
      "7/7 [==============================] - 0s 7ms/step - loss: 0.0387\n",
      "Epoch 52/100\n",
      "7/7 [==============================] - 0s 8ms/step - loss: 0.0453\n",
      "Epoch 53/100\n",
      "7/7 [==============================] - 0s 7ms/step - loss: 0.0526\n",
      "Epoch 54/100\n",
      "7/7 [==============================] - 0s 6ms/step - loss: 0.0450\n",
      "Epoch 55/100\n",
      "7/7 [==============================] - 0s 7ms/step - loss: 0.0541\n",
      "Epoch 56/100\n",
      "7/7 [==============================] - 0s 9ms/step - loss: 0.0487\n",
      "Epoch 57/100\n",
      "7/7 [==============================] - 0s 8ms/step - loss: 0.0568\n",
      "Epoch 58/100\n",
      "7/7 [==============================] - 0s 9ms/step - loss: 0.0673\n",
      "Epoch 59/100\n",
      "7/7 [==============================] - 0s 8ms/step - loss: 0.0471\n",
      "Epoch 60/100\n",
      "7/7 [==============================] - 0s 7ms/step - loss: 0.0563\n",
      "Epoch 61/100\n",
      "7/7 [==============================] - 0s 9ms/step - loss: 0.0646\n",
      "Epoch 62/100\n",
      "7/7 [==============================] - 0s 7ms/step - loss: 0.0654\n",
      "Epoch 63/100\n",
      "7/7 [==============================] - 0s 9ms/step - loss: 0.1308\n",
      "Epoch 64/100\n",
      "7/7 [==============================] - 0s 8ms/step - loss: 0.1154\n",
      "Epoch 65/100\n",
      "7/7 [==============================] - 0s 7ms/step - loss: 0.0942\n",
      "Epoch 66/100\n",
      "7/7 [==============================] - 0s 7ms/step - loss: 0.0764\n",
      "Epoch 67/100\n",
      "7/7 [==============================] - 0s 6ms/step - loss: 0.0506\n",
      "Epoch 68/100\n",
      "7/7 [==============================] - 0s 7ms/step - loss: 0.0675\n",
      "Epoch 69/100\n",
      "7/7 [==============================] - 0s 8ms/step - loss: 0.0567\n",
      "Epoch 70/100\n",
      "7/7 [==============================] - 0s 7ms/step - loss: 0.0460\n",
      "Epoch 71/100\n",
      "7/7 [==============================] - 0s 7ms/step - loss: 0.0480\n",
      "Epoch 72/100\n",
      "7/7 [==============================] - 0s 6ms/step - loss: 0.0384\n",
      "Epoch 73/100\n",
      "7/7 [==============================] - 0s 6ms/step - loss: 0.0431\n",
      "Epoch 74/100\n",
      "7/7 [==============================] - 0s 7ms/step - loss: 0.0432\n",
      "Epoch 75/100\n",
      "7/7 [==============================] - 0s 8ms/step - loss: 0.0401\n",
      "Epoch 76/100\n",
      "7/7 [==============================] - 0s 8ms/step - loss: 0.0444\n",
      "Epoch 77/100\n",
      "7/7 [==============================] - 0s 8ms/step - loss: 0.0424\n",
      "Epoch 78/100\n",
      "7/7 [==============================] - 0s 8ms/step - loss: 0.0410\n",
      "Epoch 79/100\n",
      "7/7 [==============================] - 0s 7ms/step - loss: 0.0410\n",
      "Epoch 80/100\n",
      "7/7 [==============================] - 0s 8ms/step - loss: 0.0454\n",
      "Epoch 81/100\n",
      "7/7 [==============================] - 0s 8ms/step - loss: 0.0807\n",
      "Epoch 82/100\n",
      "7/7 [==============================] - 0s 8ms/step - loss: 0.0834\n",
      "Epoch 83/100\n",
      "7/7 [==============================] - 0s 8ms/step - loss: 0.0616\n",
      "Epoch 84/100\n",
      "7/7 [==============================] - 0s 7ms/step - loss: 0.0446\n",
      "Epoch 85/100\n",
      "7/7 [==============================] - 0s 7ms/step - loss: 0.0422\n",
      "Epoch 86/100\n",
      "7/7 [==============================] - 0s 11ms/step - loss: 0.0419\n",
      "Epoch 87/100\n",
      "7/7 [==============================] - 0s 8ms/step - loss: 0.0441\n",
      "Epoch 88/100\n",
      "7/7 [==============================] - 0s 8ms/step - loss: 0.0394\n",
      "Epoch 89/100\n",
      "7/7 [==============================] - 0s 8ms/step - loss: 0.0526\n",
      "Epoch 90/100\n",
      "7/7 [==============================] - 0s 8ms/step - loss: 0.0463\n",
      "Epoch 91/100\n",
      "7/7 [==============================] - 0s 8ms/step - loss: 0.0577\n",
      "Epoch 92/100\n",
      "7/7 [==============================] - 0s 8ms/step - loss: 0.1011\n",
      "Epoch 93/100\n",
      "7/7 [==============================] - 0s 7ms/step - loss: 0.1871\n",
      "Epoch 94/100\n",
      "7/7 [==============================] - 0s 7ms/step - loss: 0.1146\n",
      "Epoch 95/100\n",
      "7/7 [==============================] - 0s 7ms/step - loss: 0.0831\n",
      "Epoch 96/100\n",
      "7/7 [==============================] - 0s 7ms/step - loss: 0.0661\n",
      "Epoch 97/100\n",
      "7/7 [==============================] - 0s 7ms/step - loss: 0.0568\n",
      "Epoch 98/100\n",
      "7/7 [==============================] - 0s 8ms/step - loss: 0.0455\n",
      "Epoch 99/100\n",
      "7/7 [==============================] - 0s 8ms/step - loss: 0.0424\n",
      "Epoch 100/100\n",
      "7/7 [==============================] - 0s 7ms/step - loss: 0.0446\n"
     ]
    },
    {
     "data": {
      "text/plain": [
       "<keras.callbacks.History at 0x1c62ad81c70>"
      ]
     },
     "execution_count": 76,
     "metadata": {},
     "output_type": "execute_result"
    }
   ],
   "source": [
    "ann.fit(final, score, batch_size=32, epochs=100)\n"
   ]
  },
  {
   "cell_type": "code",
   "execution_count": 77,
   "id": "442baebe-96f6-4518-b81a-2318a5b57c1b",
   "metadata": {},
   "outputs": [],
   "source": [
    "kw = 'recoveryofmoney'"
   ]
  },
  {
   "cell_type": "code",
   "execution_count": 80,
   "id": "2979eedf-9036-4001-99d1-84f351455576",
   "metadata": {},
   "outputs": [],
   "source": [
    "p1=ctkw.transform([[kw]])"
   ]
  },
  {
   "cell_type": "code",
   "execution_count": 82,
   "id": "62313e14-a5dd-407e-9f6e-640522767589",
   "metadata": {},
   "outputs": [],
   "source": [
    "acs= '370'"
   ]
  },
  {
   "cell_type": "code",
   "execution_count": 83,
   "id": "3db9a740-5c63-4872-9fcb-7a74386eabee",
   "metadata": {},
   "outputs": [],
   "source": [
    "p2= ctacs.transform([[acs]])"
   ]
  },
  {
   "cell_type": "code",
   "execution_count": 85,
   "id": "045b88bd-daa5-4948-983c-8d3647e5c876",
   "metadata": {},
   "outputs": [
    {
     "data": {
      "text/plain": [
       "(1, 80)"
      ]
     },
     "execution_count": 85,
     "metadata": {},
     "output_type": "execute_result"
    }
   ],
   "source": [
    "p2.shape"
   ]
  },
  {
   "cell_type": "code",
   "execution_count": 86,
   "id": "7e436ed5-000b-46a3-80fa-52dd940e4813",
   "metadata": {},
   "outputs": [],
   "source": [
    "st = 'misccases/purpose'"
   ]
  },
  {
   "cell_type": "code",
   "execution_count": 92,
   "id": "ab75e949-83af-4f3a-b9e8-7d7fb7ba6211",
   "metadata": {},
   "outputs": [],
   "source": [
    "p3=ctst.transform([[st]])"
   ]
  },
  {
   "cell_type": "code",
   "execution_count": 89,
   "id": "dbef7bdf-114b-4bb9-9408-aba8595e0ce6",
   "metadata": {},
   "outputs": [],
   "source": [
    "cs = 'csdj'"
   ]
  },
  {
   "cell_type": "code",
   "execution_count": 93,
   "id": "47c37f12-78a3-455a-9c18-7fceb87250e2",
   "metadata": {},
   "outputs": [],
   "source": [
    "p4=ctty.transform([[cs]])"
   ]
  },
  {
   "cell_type": "code",
   "execution_count": 91,
   "id": "192ccef3-9eab-46b4-8ea0-602ab76e56a4",
   "metadata": {},
   "outputs": [],
   "source": [
    "from scipy.sparse import hstack"
   ]
  },
  {
   "cell_type": "code",
   "execution_count": 94,
   "id": "fee8636b-fbc3-4782-b06f-9cf2da0d68c8",
   "metadata": {},
   "outputs": [],
   "source": [
    "pre = hstack((p1,p2))"
   ]
  },
  {
   "cell_type": "code",
   "execution_count": 95,
   "id": "c530590a-32dd-49a0-a1d6-4f6eed037d1b",
   "metadata": {},
   "outputs": [],
   "source": [
    "pre= hstack((pre, p3))"
   ]
  },
  {
   "cell_type": "code",
   "execution_count": 96,
   "id": "24bc202c-e86c-4abd-923e-2601a4893ce2",
   "metadata": {},
   "outputs": [],
   "source": [
    "pre = hstack((pre, p4))"
   ]
  },
  {
   "cell_type": "code",
   "execution_count": 97,
   "id": "ce3dbd63-6932-46d7-bfc4-0c6cfe9e3912",
   "metadata": {},
   "outputs": [
    {
     "data": {
      "text/plain": [
       "(1, 165)"
      ]
     },
     "execution_count": 97,
     "metadata": {},
     "output_type": "execute_result"
    }
   ],
   "source": [
    "pre.shape"
   ]
  },
  {
   "cell_type": "code",
   "execution_count": 98,
   "id": "602f2754-7d63-466b-b8fe-52e217245b0a",
   "metadata": {},
   "outputs": [],
   "source": [
    "pre = pre.toarray()"
   ]
  },
  {
   "cell_type": "code",
   "execution_count": 99,
   "id": "ff818b72-5826-4f76-8760-778d795505e7",
   "metadata": {},
   "outputs": [
    {
     "data": {
      "text/plain": [
       "(1, 165)"
      ]
     },
     "execution_count": 99,
     "metadata": {},
     "output_type": "execute_result"
    }
   ],
   "source": [
    "pre.shape"
   ]
  },
  {
   "cell_type": "code",
   "execution_count": 100,
   "id": "33c07f37-ec60-4f94-bedd-401bd40fffc6",
   "metadata": {},
   "outputs": [
    {
     "name": "stdout",
     "output_type": "stream",
     "text": [
      "WARNING:tensorflow:Layers in a Sequential model should only have a single input tensor. Received: inputs=(<tf.Tensor 'IteratorGetNext:0' shape=(None, 165) dtype=float32>,). Consider rewriting this model with the Functional API.\n",
      "1/1 [==============================] - 1s 531ms/step\n"
     ]
    },
    {
     "data": {
      "text/plain": [
       "array([[4.8072166]], dtype=float32)"
      ]
     },
     "execution_count": 100,
     "metadata": {},
     "output_type": "execute_result"
    }
   ],
   "source": [
    "ann.predict([pre])"
   ]
  },
  {
   "cell_type": "code",
   "execution_count": null,
   "id": "fff7be81-42b2-4098-bb69-2c008c83af56",
   "metadata": {},
   "outputs": [],
   "source": []
  }
 ],
 "metadata": {
  "kernelspec": {
   "display_name": "Python 3 (ipykernel)",
   "language": "python",
   "name": "python3"
  },
  "language_info": {
   "codemirror_mode": {
    "name": "ipython",
    "version": 3
   },
   "file_extension": ".py",
   "mimetype": "text/x-python",
   "name": "python",
   "nbconvert_exporter": "python",
   "pygments_lexer": "ipython3",
   "version": "3.9.7"
  },
  "widgets": {
   "application/vnd.jupyter.widget-state+json": {
    "state": {},
    "version_major": 2,
    "version_minor": 0
   }
  }
 },
 "nbformat": 4,
 "nbformat_minor": 5
}
