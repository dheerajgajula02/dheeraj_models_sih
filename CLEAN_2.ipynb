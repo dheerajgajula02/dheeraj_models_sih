{
 "cells": [
  {
   "cell_type": "code",
   "execution_count": 1,
   "id": "c7e9ea32",
   "metadata": {},
   "outputs": [],
   "source": [
    "import numpy as np\n",
    "import pandas as pd"
   ]
  },
  {
   "cell_type": "code",
   "execution_count": 2,
   "id": "0e250e35",
   "metadata": {},
   "outputs": [],
   "source": [
    "data = pd.read_csv('clean_1.csv')"
   ]
  },
  {
   "cell_type": "code",
   "execution_count": 3,
   "id": "5da2c9c8",
   "metadata": {},
   "outputs": [
    {
     "data": {
      "text/html": [
       "<div>\n",
       "<style scoped>\n",
       "    .dataframe tbody tr th:only-of-type {\n",
       "        vertical-align: middle;\n",
       "    }\n",
       "\n",
       "    .dataframe tbody tr th {\n",
       "        vertical-align: top;\n",
       "    }\n",
       "\n",
       "    .dataframe thead th {\n",
       "        text-align: right;\n",
       "    }\n",
       "</style>\n",
       "<table border=\"1\" class=\"dataframe\">\n",
       "  <thead>\n",
       "    <tr style=\"text-align: right;\">\n",
       "      <th></th>\n",
       "      <th>Unnamed: 0.1</th>\n",
       "      <th>Unnamed: 0</th>\n",
       "      <th>Date</th>\n",
       "      <th>KeyWord</th>\n",
       "      <th>ActSubCase</th>\n",
       "      <th>Stage</th>\n",
       "      <th>Type</th>\n",
       "      <th>Date_new</th>\n",
       "      <th>days</th>\n",
       "    </tr>\n",
       "  </thead>\n",
       "  <tbody>\n",
       "    <tr>\n",
       "      <th>0</th>\n",
       "      <td>0</td>\n",
       "      <td>0</td>\n",
       "      <td>2021-05-01 00:00:00</td>\n",
       "      <td>recoveryofmoney</td>\n",
       "      <td>370</td>\n",
       "      <td>misccases/purpose</td>\n",
       "      <td>cs(comm)</td>\n",
       "      <td>2021-05-01</td>\n",
       "      <td>466</td>\n",
       "    </tr>\n",
       "    <tr>\n",
       "      <th>1</th>\n",
       "      <td>1</td>\n",
       "      <td>1</td>\n",
       "      <td>2021-07-09 00:00:00</td>\n",
       "      <td>permanentinjuction</td>\n",
       "      <td>730</td>\n",
       "      <td>misccases/purpose</td>\n",
       "      <td>csdj</td>\n",
       "      <td>2021-07-09</td>\n",
       "      <td>397</td>\n",
       "    </tr>\n",
       "    <tr>\n",
       "      <th>2</th>\n",
       "      <td>2</td>\n",
       "      <td>2</td>\n",
       "      <td>22-9-2021</td>\n",
       "      <td>executionact1990</td>\n",
       "      <td>10</td>\n",
       "      <td>misccases/purpose</td>\n",
       "      <td>ex</td>\n",
       "      <td>2021-09-22</td>\n",
       "      <td>322</td>\n",
       "    </tr>\n",
       "    <tr>\n",
       "      <th>3</th>\n",
       "      <td>3</td>\n",
       "      <td>3</td>\n",
       "      <td>23-9-2021</td>\n",
       "      <td>recoveryofmoney</td>\n",
       "      <td>2(1)(c)(i)</td>\n",
       "      <td>plaintiff/petitionerevidence</td>\n",
       "      <td>cs(comm)</td>\n",
       "      <td>2021-09-23</td>\n",
       "      <td>321</td>\n",
       "    </tr>\n",
       "    <tr>\n",
       "      <th>4</th>\n",
       "      <td>4</td>\n",
       "      <td>4</td>\n",
       "      <td>29-9-2021</td>\n",
       "      <td>recoveryofmoney</td>\n",
       "      <td>1510</td>\n",
       "      <td>misccases/purpose</td>\n",
       "      <td>cs(comm)</td>\n",
       "      <td>2021-09-29</td>\n",
       "      <td>315</td>\n",
       "    </tr>\n",
       "  </tbody>\n",
       "</table>\n",
       "</div>"
      ],
      "text/plain": [
       "   Unnamed: 0.1  Unnamed: 0                 Date             KeyWord  \\\n",
       "0             0           0  2021-05-01 00:00:00     recoveryofmoney   \n",
       "1             1           1  2021-07-09 00:00:00  permanentinjuction   \n",
       "2             2           2            22-9-2021    executionact1990   \n",
       "3             3           3            23-9-2021     recoveryofmoney   \n",
       "4             4           4            29-9-2021     recoveryofmoney   \n",
       "\n",
       "   ActSubCase                         Stage      Type    Date_new  days  \n",
       "0         370             misccases/purpose  cs(comm)  2021-05-01   466  \n",
       "1         730             misccases/purpose      csdj  2021-07-09   397  \n",
       "2          10             misccases/purpose        ex  2021-09-22   322  \n",
       "3  2(1)(c)(i)  plaintiff/petitionerevidence  cs(comm)  2021-09-23   321  \n",
       "4        1510             misccases/purpose  cs(comm)  2021-09-29   315  "
      ]
     },
     "execution_count": 3,
     "metadata": {},
     "output_type": "execute_result"
    }
   ],
   "source": [
    "data.head()"
   ]
  },
  {
   "cell_type": "code",
   "execution_count": 6,
   "id": "e5bc00e1",
   "metadata": {},
   "outputs": [
    {
     "data": {
      "text/plain": [
       "37"
      ]
     },
     "execution_count": 6,
     "metadata": {},
     "output_type": "execute_result"
    }
   ],
   "source": [
    "len(data['KeyWord'].drop_duplicates())"
   ]
  },
  {
   "cell_type": "code",
   "execution_count": 7,
   "id": "e8f43dc1",
   "metadata": {},
   "outputs": [
    {
     "data": {
      "text/plain": [
       "80"
      ]
     },
     "execution_count": 7,
     "metadata": {},
     "output_type": "execute_result"
    }
   ],
   "source": [
    "len(data['ActSubCase'].drop_duplicates())"
   ]
  },
  {
   "cell_type": "code",
   "execution_count": 8,
   "id": "cfa6b9aa",
   "metadata": {},
   "outputs": [
    {
     "data": {
      "text/plain": [
       "18"
      ]
     },
     "execution_count": 8,
     "metadata": {},
     "output_type": "execute_result"
    }
   ],
   "source": [
    "len(data['Stage'].drop_duplicateses())"
   ]
  },
  {
   "cell_type": "code",
   "execution_count": 9,
   "id": "5db94f1e",
   "metadata": {},
   "outputs": [
    {
     "data": {
      "text/plain": [
       "30"
      ]
     },
     "execution_count": 9,
     "metadata": {},
     "output_type": "execute_result"
    }
   ],
   "source": [
    "\n",
    "len(data['Type'].drop_duplicates())"
   ]
  },
  {
   "cell_type": "code",
   "execution_count": 10,
   "id": "b1a12169",
   "metadata": {},
   "outputs": [],
   "source": [
    "import sklearn"
   ]
  },
  {
   "cell_type": "code",
   "execution_count": 12,
   "id": "100d27dc",
   "metadata": {},
   "outputs": [],
   "source": [
    "from sklearn.preprocessing import OneHotEncoder"
   ]
  },
  {
   "cell_type": "code",
   "execution_count": 11,
   "id": "aa4cd808",
   "metadata": {},
   "outputs": [],
   "source": [
    "from sklearn.compose import ColumnTransformer"
   ]
  },
  {
   "cell_type": "code",
   "execution_count": 13,
   "id": "ddb969c8",
   "metadata": {},
   "outputs": [
    {
     "data": {
      "text/html": [
       "<div>\n",
       "<style scoped>\n",
       "    .dataframe tbody tr th:only-of-type {\n",
       "        vertical-align: middle;\n",
       "    }\n",
       "\n",
       "    .dataframe tbody tr th {\n",
       "        vertical-align: top;\n",
       "    }\n",
       "\n",
       "    .dataframe thead th {\n",
       "        text-align: right;\n",
       "    }\n",
       "</style>\n",
       "<table border=\"1\" class=\"dataframe\">\n",
       "  <thead>\n",
       "    <tr style=\"text-align: right;\">\n",
       "      <th></th>\n",
       "      <th>Unnamed: 0.1</th>\n",
       "      <th>Unnamed: 0</th>\n",
       "      <th>Date</th>\n",
       "      <th>KeyWord</th>\n",
       "      <th>ActSubCase</th>\n",
       "      <th>Stage</th>\n",
       "      <th>Type</th>\n",
       "      <th>Date_new</th>\n",
       "      <th>days</th>\n",
       "    </tr>\n",
       "  </thead>\n",
       "  <tbody>\n",
       "    <tr>\n",
       "      <th>0</th>\n",
       "      <td>0</td>\n",
       "      <td>0</td>\n",
       "      <td>2021-05-01 00:00:00</td>\n",
       "      <td>recoveryofmoney</td>\n",
       "      <td>370</td>\n",
       "      <td>misccases/purpose</td>\n",
       "      <td>cs(comm)</td>\n",
       "      <td>2021-05-01</td>\n",
       "      <td>466</td>\n",
       "    </tr>\n",
       "    <tr>\n",
       "      <th>1</th>\n",
       "      <td>1</td>\n",
       "      <td>1</td>\n",
       "      <td>2021-07-09 00:00:00</td>\n",
       "      <td>permanentinjuction</td>\n",
       "      <td>730</td>\n",
       "      <td>misccases/purpose</td>\n",
       "      <td>csdj</td>\n",
       "      <td>2021-07-09</td>\n",
       "      <td>397</td>\n",
       "    </tr>\n",
       "    <tr>\n",
       "      <th>2</th>\n",
       "      <td>2</td>\n",
       "      <td>2</td>\n",
       "      <td>22-9-2021</td>\n",
       "      <td>executionact1990</td>\n",
       "      <td>10</td>\n",
       "      <td>misccases/purpose</td>\n",
       "      <td>ex</td>\n",
       "      <td>2021-09-22</td>\n",
       "      <td>322</td>\n",
       "    </tr>\n",
       "    <tr>\n",
       "      <th>3</th>\n",
       "      <td>3</td>\n",
       "      <td>3</td>\n",
       "      <td>23-9-2021</td>\n",
       "      <td>recoveryofmoney</td>\n",
       "      <td>2(1)(c)(i)</td>\n",
       "      <td>plaintiff/petitionerevidence</td>\n",
       "      <td>cs(comm)</td>\n",
       "      <td>2021-09-23</td>\n",
       "      <td>321</td>\n",
       "    </tr>\n",
       "    <tr>\n",
       "      <th>4</th>\n",
       "      <td>4</td>\n",
       "      <td>4</td>\n",
       "      <td>29-9-2021</td>\n",
       "      <td>recoveryofmoney</td>\n",
       "      <td>1510</td>\n",
       "      <td>misccases/purpose</td>\n",
       "      <td>cs(comm)</td>\n",
       "      <td>2021-09-29</td>\n",
       "      <td>315</td>\n",
       "    </tr>\n",
       "  </tbody>\n",
       "</table>\n",
       "</div>"
      ],
      "text/plain": [
       "   Unnamed: 0.1  Unnamed: 0                 Date             KeyWord  \\\n",
       "0             0           0  2021-05-01 00:00:00     recoveryofmoney   \n",
       "1             1           1  2021-07-09 00:00:00  permanentinjuction   \n",
       "2             2           2            22-9-2021    executionact1990   \n",
       "3             3           3            23-9-2021     recoveryofmoney   \n",
       "4             4           4            29-9-2021     recoveryofmoney   \n",
       "\n",
       "   ActSubCase                         Stage      Type    Date_new  days  \n",
       "0         370             misccases/purpose  cs(comm)  2021-05-01   466  \n",
       "1         730             misccases/purpose      csdj  2021-07-09   397  \n",
       "2          10             misccases/purpose        ex  2021-09-22   322  \n",
       "3  2(1)(c)(i)  plaintiff/petitionerevidence  cs(comm)  2021-09-23   321  \n",
       "4        1510             misccases/purpose  cs(comm)  2021-09-29   315  "
      ]
     },
     "execution_count": 13,
     "metadata": {},
     "output_type": "execute_result"
    }
   ],
   "source": [
    "data.head()"
   ]
  },
  {
   "cell_type": "code",
   "execution_count": 14,
   "id": "7572c94a",
   "metadata": {},
   "outputs": [],
   "source": [
    "del data['Unnamed: 0.1']"
   ]
  },
  {
   "cell_type": "code",
   "execution_count": 15,
   "id": "4c6fcd84",
   "metadata": {},
   "outputs": [],
   "source": [
    "del data['Unnamed: 0']"
   ]
  },
  {
   "cell_type": "code",
   "execution_count": 16,
   "id": "cede4289",
   "metadata": {},
   "outputs": [
    {
     "data": {
      "text/html": [
       "<div>\n",
       "<style scoped>\n",
       "    .dataframe tbody tr th:only-of-type {\n",
       "        vertical-align: middle;\n",
       "    }\n",
       "\n",
       "    .dataframe tbody tr th {\n",
       "        vertical-align: top;\n",
       "    }\n",
       "\n",
       "    .dataframe thead th {\n",
       "        text-align: right;\n",
       "    }\n",
       "</style>\n",
       "<table border=\"1\" class=\"dataframe\">\n",
       "  <thead>\n",
       "    <tr style=\"text-align: right;\">\n",
       "      <th></th>\n",
       "      <th>Date</th>\n",
       "      <th>KeyWord</th>\n",
       "      <th>ActSubCase</th>\n",
       "      <th>Stage</th>\n",
       "      <th>Type</th>\n",
       "      <th>Date_new</th>\n",
       "      <th>days</th>\n",
       "    </tr>\n",
       "  </thead>\n",
       "  <tbody>\n",
       "    <tr>\n",
       "      <th>0</th>\n",
       "      <td>2021-05-01 00:00:00</td>\n",
       "      <td>recoveryofmoney</td>\n",
       "      <td>370</td>\n",
       "      <td>misccases/purpose</td>\n",
       "      <td>cs(comm)</td>\n",
       "      <td>2021-05-01</td>\n",
       "      <td>466</td>\n",
       "    </tr>\n",
       "    <tr>\n",
       "      <th>1</th>\n",
       "      <td>2021-07-09 00:00:00</td>\n",
       "      <td>permanentinjuction</td>\n",
       "      <td>730</td>\n",
       "      <td>misccases/purpose</td>\n",
       "      <td>csdj</td>\n",
       "      <td>2021-07-09</td>\n",
       "      <td>397</td>\n",
       "    </tr>\n",
       "    <tr>\n",
       "      <th>2</th>\n",
       "      <td>22-9-2021</td>\n",
       "      <td>executionact1990</td>\n",
       "      <td>10</td>\n",
       "      <td>misccases/purpose</td>\n",
       "      <td>ex</td>\n",
       "      <td>2021-09-22</td>\n",
       "      <td>322</td>\n",
       "    </tr>\n",
       "    <tr>\n",
       "      <th>3</th>\n",
       "      <td>23-9-2021</td>\n",
       "      <td>recoveryofmoney</td>\n",
       "      <td>2(1)(c)(i)</td>\n",
       "      <td>plaintiff/petitionerevidence</td>\n",
       "      <td>cs(comm)</td>\n",
       "      <td>2021-09-23</td>\n",
       "      <td>321</td>\n",
       "    </tr>\n",
       "    <tr>\n",
       "      <th>4</th>\n",
       "      <td>29-9-2021</td>\n",
       "      <td>recoveryofmoney</td>\n",
       "      <td>1510</td>\n",
       "      <td>misccases/purpose</td>\n",
       "      <td>cs(comm)</td>\n",
       "      <td>2021-09-29</td>\n",
       "      <td>315</td>\n",
       "    </tr>\n",
       "  </tbody>\n",
       "</table>\n",
       "</div>"
      ],
      "text/plain": [
       "                  Date             KeyWord  ActSubCase  \\\n",
       "0  2021-05-01 00:00:00     recoveryofmoney         370   \n",
       "1  2021-07-09 00:00:00  permanentinjuction         730   \n",
       "2            22-9-2021    executionact1990          10   \n",
       "3            23-9-2021     recoveryofmoney  2(1)(c)(i)   \n",
       "4            29-9-2021     recoveryofmoney        1510   \n",
       "\n",
       "                          Stage      Type    Date_new  days  \n",
       "0             misccases/purpose  cs(comm)  2021-05-01   466  \n",
       "1             misccases/purpose      csdj  2021-07-09   397  \n",
       "2             misccases/purpose        ex  2021-09-22   322  \n",
       "3  plaintiff/petitionerevidence  cs(comm)  2021-09-23   321  \n",
       "4             misccases/purpose  cs(comm)  2021-09-29   315  "
      ]
     },
     "execution_count": 16,
     "metadata": {},
     "output_type": "execute_result"
    }
   ],
   "source": [
    "data.head()"
   ]
  },
  {
   "cell_type": "code",
   "execution_count": 17,
   "id": "a66c908a",
   "metadata": {},
   "outputs": [],
   "source": [
    "val = data.values"
   ]
  },
  {
   "cell_type": "code",
   "execution_count": 18,
   "id": "2d1dd5a6",
   "metadata": {},
   "outputs": [
    {
     "data": {
      "text/plain": [
       "array([['2021-05-01 00:00:00', 'recoveryofmoney', '370', ..., 'cs(comm)',\n",
       "        '2021-05-01', 466],\n",
       "       ['2021-07-09 00:00:00', 'permanentinjuction', '730', ..., 'csdj',\n",
       "        '2021-07-09', 397],\n",
       "       ['22-9-2021', 'executionact1990', '10', ..., 'ex', '2021-09-22',\n",
       "        322],\n",
       "       ...,\n",
       "       ['16-01-2017', 'industrialdisputesact,1947', '120', ..., 'lir',\n",
       "        '2017-01-16', 2032],\n",
       "       ['20-01-2017', 'industrialdisputesact,1947', '100', ..., 'lir',\n",
       "        '2017-01-20', 2028],\n",
       "       ['29-05-2017', 'industrialdisputesact,1947', '2a', ..., 'lir',\n",
       "        '2017-05-29', 1899]], dtype=object)"
      ]
     },
     "execution_count": 18,
     "metadata": {},
     "output_type": "execute_result"
    }
   ],
   "source": [
    "val"
   ]
  },
  {
   "cell_type": "code",
   "execution_count": 23,
   "id": "d40c4478",
   "metadata": {},
   "outputs": [],
   "source": [
    "ct = ColumnTransformer(transformers=[('encoder', OneHotEncoder(), [0])], remainder='passthrough')"
   ]
  },
  {
   "cell_type": "code",
   "execution_count": 25,
   "id": "71539213",
   "metadata": {},
   "outputs": [
    {
     "data": {
      "text/plain": [
       "numpy.ndarray"
      ]
     },
     "execution_count": 25,
     "metadata": {},
     "output_type": "execute_result"
    }
   ],
   "source": [
    "type(val[1])"
   ]
  },
  {
   "cell_type": "code",
   "execution_count": 36,
   "id": "e8375963",
   "metadata": {},
   "outputs": [
    {
     "ename": "SyntaxError",
     "evalue": "invalid syntax (2086780980.py, line 1)",
     "output_type": "error",
     "traceback": [
      "\u001b[1;36m  File \u001b[1;32m\"C:\\Users\\dheer\\AppData\\Local\\Temp\\ipykernel_19764\\2086780980.py\"\u001b[1;36m, line \u001b[1;32m1\u001b[0m\n\u001b[1;33m    val[][1]\u001b[0m\n\u001b[1;37m        ^\u001b[0m\n\u001b[1;31mSyntaxError\u001b[0m\u001b[1;31m:\u001b[0m invalid syntax\n"
     ]
    }
   ],
   "source": [
    "df['animal_name'] = df['animal_name'].cat.codes.astype('category')"
   ]
  },
  {
   "cell_type": "code",
   "execution_count": 39,
   "id": "19b53ea8",
   "metadata": {},
   "outputs": [],
   "source": [
    "data['KeyWord']= data['KeyWord'].astype('category')"
   ]
  },
  {
   "cell_type": "code",
   "execution_count": 40,
   "id": "b13a8a18",
   "metadata": {},
   "outputs": [
    {
     "data": {
      "text/plain": [
       "0                 recoveryofmoney\n",
       "1              permanentinjuction\n",
       "2                executionact1990\n",
       "3                 recoveryofmoney\n",
       "4                 recoveryofmoney\n",
       "                  ...            \n",
       "219    industrialdisputesact,1947\n",
       "220    industrialdisputesact,1947\n",
       "221    industrialdisputesact,1947\n",
       "222    industrialdisputesact,1947\n",
       "223    industrialdisputesact,1947\n",
       "Name: KeyWord, Length: 224, dtype: category\n",
       "Categories (37, object): ['arbitration&conciliationact,199,civilprocedur..., 'arbitration&conciliationact,1996', 'arbitration&conciliationact,1996,civilprocedu..., 'arbitrationapplicationsu/s9', ..., 'suitsforrecoveryanddamages', 'theindiansuccessionact1925', 'theindiansuccessionact1926', 'trademarkact1999']"
      ]
     },
     "execution_count": 40,
     "metadata": {},
     "output_type": "execute_result"
    }
   ],
   "source": [
    "data['KeyWord']"
   ]
  },
  {
   "cell_type": "code",
   "execution_count": 41,
   "id": "1aa890d9",
   "metadata": {},
   "outputs": [],
   "source": [
    "enc = OneHotEncoder(handle_unknown='ignore')"
   ]
  },
  {
   "cell_type": "code",
   "execution_count": 34,
   "id": "3ded136e",
   "metadata": {},
   "outputs": [
    {
     "data": {
      "text/plain": [
       "array(['2021-07-09 00:00:00', 'permanentinjuction', '730',\n",
       "       'misccases/purpose', 'csdj', '2021-07-09', 397], dtype=object)"
      ]
     },
     "execution_count": 34,
     "metadata": {},
     "output_type": "execute_result"
    }
   ],
   "source": [
    "val[1]"
   ]
  },
  {
   "cell_type": "code",
   "execution_count": 43,
   "id": "183d3865",
   "metadata": {},
   "outputs": [
    {
     "data": {
      "text/html": [
       "<style>#sk-container-id-1 {color: black;background-color: white;}#sk-container-id-1 pre{padding: 0;}#sk-container-id-1 div.sk-toggleable {background-color: white;}#sk-container-id-1 label.sk-toggleable__label {cursor: pointer;display: block;width: 100%;margin-bottom: 0;padding: 0.3em;box-sizing: border-box;text-align: center;}#sk-container-id-1 label.sk-toggleable__label-arrow:before {content: \"▸\";float: left;margin-right: 0.25em;color: #696969;}#sk-container-id-1 label.sk-toggleable__label-arrow:hover:before {color: black;}#sk-container-id-1 div.sk-estimator:hover label.sk-toggleable__label-arrow:before {color: black;}#sk-container-id-1 div.sk-toggleable__content {max-height: 0;max-width: 0;overflow: hidden;text-align: left;background-color: #f0f8ff;}#sk-container-id-1 div.sk-toggleable__content pre {margin: 0.2em;color: black;border-radius: 0.25em;background-color: #f0f8ff;}#sk-container-id-1 input.sk-toggleable__control:checked~div.sk-toggleable__content {max-height: 200px;max-width: 100%;overflow: auto;}#sk-container-id-1 input.sk-toggleable__control:checked~label.sk-toggleable__label-arrow:before {content: \"▾\";}#sk-container-id-1 div.sk-estimator input.sk-toggleable__control:checked~label.sk-toggleable__label {background-color: #d4ebff;}#sk-container-id-1 div.sk-label input.sk-toggleable__control:checked~label.sk-toggleable__label {background-color: #d4ebff;}#sk-container-id-1 input.sk-hidden--visually {border: 0;clip: rect(1px 1px 1px 1px);clip: rect(1px, 1px, 1px, 1px);height: 1px;margin: -1px;overflow: hidden;padding: 0;position: absolute;width: 1px;}#sk-container-id-1 div.sk-estimator {font-family: monospace;background-color: #f0f8ff;border: 1px dotted black;border-radius: 0.25em;box-sizing: border-box;margin-bottom: 0.5em;}#sk-container-id-1 div.sk-estimator:hover {background-color: #d4ebff;}#sk-container-id-1 div.sk-parallel-item::after {content: \"\";width: 100%;border-bottom: 1px solid gray;flex-grow: 1;}#sk-container-id-1 div.sk-label:hover label.sk-toggleable__label {background-color: #d4ebff;}#sk-container-id-1 div.sk-serial::before {content: \"\";position: absolute;border-left: 1px solid gray;box-sizing: border-box;top: 0;bottom: 0;left: 50%;z-index: 0;}#sk-container-id-1 div.sk-serial {display: flex;flex-direction: column;align-items: center;background-color: white;padding-right: 0.2em;padding-left: 0.2em;position: relative;}#sk-container-id-1 div.sk-item {position: relative;z-index: 1;}#sk-container-id-1 div.sk-parallel {display: flex;align-items: stretch;justify-content: center;background-color: white;position: relative;}#sk-container-id-1 div.sk-item::before, #sk-container-id-1 div.sk-parallel-item::before {content: \"\";position: absolute;border-left: 1px solid gray;box-sizing: border-box;top: 0;bottom: 0;left: 50%;z-index: -1;}#sk-container-id-1 div.sk-parallel-item {display: flex;flex-direction: column;z-index: 1;position: relative;background-color: white;}#sk-container-id-1 div.sk-parallel-item:first-child::after {align-self: flex-end;width: 50%;}#sk-container-id-1 div.sk-parallel-item:last-child::after {align-self: flex-start;width: 50%;}#sk-container-id-1 div.sk-parallel-item:only-child::after {width: 0;}#sk-container-id-1 div.sk-dashed-wrapped {border: 1px dashed gray;margin: 0 0.4em 0.5em 0.4em;box-sizing: border-box;padding-bottom: 0.4em;background-color: white;}#sk-container-id-1 div.sk-label label {font-family: monospace;font-weight: bold;display: inline-block;line-height: 1.2em;}#sk-container-id-1 div.sk-label-container {text-align: center;}#sk-container-id-1 div.sk-container {/* jupyter's `normalize.less` sets `[hidden] { display: none; }` but bootstrap.min.css set `[hidden] { display: none !important; }` so we also need the `!important` here to be able to override the default hidden behavior on the sphinx rendered scikit-learn.org. See: https://github.com/scikit-learn/scikit-learn/issues/21755 */display: inline-block !important;position: relative;}#sk-container-id-1 div.sk-text-repr-fallback {display: none;}</style><div id=\"sk-container-id-1\" class=\"sk-top-container\"><div class=\"sk-text-repr-fallback\"><pre>OneHotEncoder(handle_unknown=&#x27;ignore&#x27;)</pre><b>In a Jupyter environment, please rerun this cell to show the HTML representation or trust the notebook. <br />On GitHub, the HTML representation is unable to render, please try loading this page with nbviewer.org.</b></div><div class=\"sk-container\" hidden><div class=\"sk-item\"><div class=\"sk-estimator sk-toggleable\"><input class=\"sk-toggleable__control sk-hidden--visually\" id=\"sk-estimator-id-1\" type=\"checkbox\" checked><label for=\"sk-estimator-id-1\" class=\"sk-toggleable__label sk-toggleable__label-arrow\">OneHotEncoder</label><div class=\"sk-toggleable__content\"><pre>OneHotEncoder(handle_unknown=&#x27;ignore&#x27;)</pre></div></div></div></div></div>"
      ],
      "text/plain": [
       "OneHotEncoder(handle_unknown='ignore')"
      ]
     },
     "execution_count": 43,
     "metadata": {},
     "output_type": "execute_result"
    }
   ],
   "source": [
    "enc.fit([data['KeyWord']])"
   ]
  },
  {
   "cell_type": "code",
   "execution_count": 44,
   "id": "20e4a6b7",
   "metadata": {},
   "outputs": [
    {
     "data": {
      "text/plain": [
       "[array(['recoveryofmoney'], dtype=object),\n",
       " array(['permanentinjuction'], dtype=object),\n",
       " array(['executionact1990'], dtype=object),\n",
       " array(['recoveryofmoney'], dtype=object),\n",
       " array(['recoveryofmoney'], dtype=object),\n",
       " array(['executionact1990'], dtype=object),\n",
       " array(['partition'], dtype=object),\n",
       " array(['recoveryofmoney'], dtype=object),\n",
       " array(['recoveryofmoney'], dtype=object),\n",
       " array(['civilcases'], dtype=object),\n",
       " array(['recoveryofmoney'], dtype=object),\n",
       " array(['recoveryofmoney'], dtype=object),\n",
       " array(['motorvehicleact'], dtype=object),\n",
       " array(['recoveryofmoney'], dtype=object),\n",
       " array(['recoveryofmoney'], dtype=object),\n",
       " array(['recoveryofmoney'], dtype=object),\n",
       " array(['arbitrationapplicationsu/s9'], dtype=object),\n",
       " array(['recoveryofmoney'], dtype=object),\n",
       " array(['possessionandrecoveryofrent/damages/mesneprofit'], dtype=object),\n",
       " array(['arbitration&conciliationact,1996'], dtype=object),\n",
       " array(['civilcases'], dtype=object),\n",
       " array(['recoveryofmoney'], dtype=object),\n",
       " array(['suitfordeclaration'], dtype=object),\n",
       " array(['arbitration&conciliationact,1996'], dtype=object),\n",
       " array(['executionact1990'], dtype=object),\n",
       " array(['motorvehicleact'], dtype=object),\n",
       " array(['motorvehicleact'], dtype=object),\n",
       " array(['companiesact'], dtype=object),\n",
       " array(['ipc'], dtype=object),\n",
       " array(['negotiableinstrumentsact'], dtype=object),\n",
       " array(['ipc'], dtype=object),\n",
       " array(['ipc'], dtype=object),\n",
       " array(['ipc'], dtype=object),\n",
       " array(['motorvehicleact'], dtype=object),\n",
       " array(['motorvehicleact'], dtype=object),\n",
       " array(['companiesact'], dtype=object),\n",
       " array(['negotiableinstrumentsact'], dtype=object),\n",
       " array(['ipc'], dtype=object),\n",
       " array(['ipc'], dtype=object),\n",
       " array(['ipc'], dtype=object),\n",
       " array(['ipc'], dtype=object),\n",
       " array(['ipc'], dtype=object),\n",
       " array(['motorvehicleact'], dtype=object),\n",
       " array(['ipc'], dtype=object),\n",
       " array(['ipc'], dtype=object),\n",
       " array(['negotiableinstrumentsact'], dtype=object),\n",
       " array(['ipc'], dtype=object),\n",
       " array(['negotiableinstrumentsact'], dtype=object),\n",
       " array(['negotiableinstrumentsact'], dtype=object),\n",
       " array(['negotiableinstrumentsact'], dtype=object),\n",
       " array(['crpc'], dtype=object),\n",
       " array(['ipc'], dtype=object),\n",
       " array(['paymentandsettlementact'], dtype=object),\n",
       " array(['paymentandsettlementact'], dtype=object),\n",
       " array(['paymentandsettlementact'], dtype=object),\n",
       " array(['negotiableinstrumentsact'], dtype=object),\n",
       " array(['negotiableinstrumentsact'], dtype=object),\n",
       " array(['ipc'], dtype=object),\n",
       " array(['negotiableinstrumentsact'], dtype=object),\n",
       " array(['ipc'], dtype=object),\n",
       " array(['companiesact'], dtype=object),\n",
       " array(['negotiableinstrumentsact'], dtype=object),\n",
       " array(['indianpenalcode'], dtype=object),\n",
       " array(['indianpenalcode'], dtype=object),\n",
       " array(['narcoticdrugsandpsychotropicsubstancesact1985'], dtype=object),\n",
       " array(['indianelectricityact'], dtype=object),\n",
       " array(['narcoticdrugsandpsychotropicsubstancesact1985'], dtype=object),\n",
       " array(['narcoticdrugsandpsychotropicsubstancesact1985'], dtype=object),\n",
       " array(['indianelectricityact'], dtype=object),\n",
       " array(['narcoticdrugsandpsychotropicsubstancesact1985'], dtype=object),\n",
       " array(['indianpenalcode'], dtype=object),\n",
       " array(['codeofcriminalprocedure'], dtype=object),\n",
       " array(['crpc'], dtype=object),\n",
       " array(['crpc'], dtype=object),\n",
       " array(['crpc'], dtype=object),\n",
       " array(['crpc'], dtype=object),\n",
       " array(['negotiableinstrumentsact'], dtype=object),\n",
       " array(['incometaxact'], dtype=object),\n",
       " array(['negotiableinstrumentsact'], dtype=object),\n",
       " array(['negotiableinstrumentsact'], dtype=object),\n",
       " array(['ipc'], dtype=object),\n",
       " array(['negotiableinstrumentsact'], dtype=object),\n",
       " array(['negotiableinstrumentsact'], dtype=object),\n",
       " array(['ipc'], dtype=object),\n",
       " array(['negotiableinstrumentsact'], dtype=object),\n",
       " array(['negotiableinstrumentsact'], dtype=object),\n",
       " array(['negotiableinstrumentsact'], dtype=object),\n",
       " array(['negotiableinstrumentsact'], dtype=object),\n",
       " array(['ipc'], dtype=object),\n",
       " array(['negotiableinstrumentsact'], dtype=object),\n",
       " array(['negotiableinstrumentsact'], dtype=object),\n",
       " array(['negotiableinstrumentsact'], dtype=object),\n",
       " array(['ipc'], dtype=object),\n",
       " array(['negotiableinstrumentsact'], dtype=object),\n",
       " array(['negotiableinstrumentsact'], dtype=object),\n",
       " array(['negotiableinstrumentsact'], dtype=object),\n",
       " array(['ipc'], dtype=object),\n",
       " array(['negotiableinstrumentsact'], dtype=object),\n",
       " array(['negotiableinstrumentsact'], dtype=object),\n",
       " array(['suitsforrecoveryanddamages'], dtype=object),\n",
       " array(['recoveryofmoney'], dtype=object),\n",
       " array(['civilcases'], dtype=object),\n",
       " array(['executionact1990'], dtype=object),\n",
       " array(['executionact1990'], dtype=object),\n",
       " array(['theindiansuccessionact1925'], dtype=object),\n",
       " array(['recoveryofmoney'], dtype=object),\n",
       " array(['civilprocedurecode'], dtype=object),\n",
       " array(['arbitration&conciliationact,1996'], dtype=object),\n",
       " array(['recoveryofmoney'], dtype=object),\n",
       " array(['possessionandpermanentinjuction'], dtype=object),\n",
       " array(['recoveryofmoney'], dtype=object),\n",
       " array(['recoveryofmoney'], dtype=object),\n",
       " array(['theindiansuccessionact1925'], dtype=object),\n",
       " array(['theindiansuccessionact1926'], dtype=object),\n",
       " array(['motorvehicleact'], dtype=object),\n",
       " array(['executionact1990'], dtype=object),\n",
       " array(['civilprocedurecode'], dtype=object),\n",
       " array(['recoveryofmoney'], dtype=object),\n",
       " array(['suitfordeclaratuon'], dtype=object),\n",
       " array(['civilcases'], dtype=object),\n",
       " array(['recoveryofmoney'], dtype=object),\n",
       " array(['possession&perpetual&mandatoryinjuction'], dtype=object),\n",
       " array(['arbitration&conciliationact,1996'], dtype=object),\n",
       " array(['civilcases'], dtype=object),\n",
       " array(['injuctions-bothpermanentandmandatory'], dtype=object),\n",
       " array(['publicpremisesact1971'], dtype=object),\n",
       " array(['recoveryofmoney'], dtype=object),\n",
       " array(['motorvehicleact'], dtype=object),\n",
       " array(['motorvehicleact'], dtype=object),\n",
       " array(['recoveryofmoney'], dtype=object),\n",
       " array(['arbitration&conciliationact,199,civilprocedurecode1908'],\n",
       "       dtype=object),\n",
       " array(['declarationandmnadatoryinjuction'], dtype=object),\n",
       " array(['arbitration&conciliationact,1996'], dtype=object),\n",
       " array(['civilcases'], dtype=object),\n",
       " array(['recoveryofmoney'], dtype=object),\n",
       " array(['motorvehicleact'], dtype=object),\n",
       " array(['motorvehicleact'], dtype=object),\n",
       " array(['motorvehicleact'], dtype=object),\n",
       " array(['trademarkact1999'], dtype=object),\n",
       " array(['recoveryofmoney'], dtype=object),\n",
       " array(['arbitration&conciliationact,199,civilprocedurecode1908'],\n",
       "       dtype=object),\n",
       " array(['declarationandmandatoryinjuction'], dtype=object),\n",
       " array(['arbitration&conciliationact,1996'], dtype=object),\n",
       " array(['civilcases'], dtype=object),\n",
       " array(['recoveryofmoney'], dtype=object),\n",
       " array(['motorvehicleact'], dtype=object),\n",
       " array(['motorvehicleact'], dtype=object),\n",
       " array(['motorvehicleact'], dtype=object),\n",
       " array(['trademarkact1999'], dtype=object),\n",
       " array(['recoveryofmoney'], dtype=object),\n",
       " array(['arbitration&conciliationact,1996,civilprocedurecode1908'],\n",
       "       dtype=object),\n",
       " array(['declarationandmandatoryinjuction'], dtype=object),\n",
       " array(['arbitration&conciliationact,1996'], dtype=object),\n",
       " array(['civilcases'], dtype=object),\n",
       " array(['recoveryofmoney'], dtype=object),\n",
       " array(['motorvehicleact'], dtype=object),\n",
       " array(['motorvehicleact'], dtype=object),\n",
       " array(['motorvehicleact'], dtype=object),\n",
       " array(['trademarkact1999'], dtype=object),\n",
       " array(['recoveryofmoney'], dtype=object),\n",
       " array(['arbitration&conciliationact,1996,civilprocedurecode1908'],\n",
       "       dtype=object),\n",
       " array(['declarationandmandatoryinjuction'], dtype=object),\n",
       " array(['arbitration&conciliationact,1996'], dtype=object),\n",
       " array(['civilcases'], dtype=object),\n",
       " array(['recoveryofmoney'], dtype=object),\n",
       " array(['motorvehicleact'], dtype=object),\n",
       " array(['motorvehicleact'], dtype=object),\n",
       " array(['motorvehicleact'], dtype=object),\n",
       " array(['trademarkact1999'], dtype=object),\n",
       " array(['motorvehicleact'], dtype=object),\n",
       " array(['motorvehicleact'], dtype=object),\n",
       " array(['arbitration&conciliationact,1996'], dtype=object),\n",
       " array(['motorvehicleact'], dtype=object),\n",
       " array(['arbitrationapplicationsu/s9'], dtype=object),\n",
       " array(['suitfordeclaration'], dtype=object),\n",
       " array(['civilcases'], dtype=object),\n",
       " array(['trademarkact1999'], dtype=object),\n",
       " array(['recoveryofmoney'], dtype=object),\n",
       " array(['recoveryofmoney'], dtype=object),\n",
       " array(['arbitration&conciliationact,1996'], dtype=object),\n",
       " array(['civilcases'], dtype=object),\n",
       " array(['motorvehicleact'], dtype=object),\n",
       " array(['motorvehicleact'], dtype=object),\n",
       " array(['motorvehicleact'], dtype=object),\n",
       " array(['recoveryofmoney'], dtype=object),\n",
       " array(['arbitration&conciliationact,1996'], dtype=object),\n",
       " array(['motorvehicleact'], dtype=object),\n",
       " array(['injuctions-bothpermanentandmandatory'], dtype=object),\n",
       " array(['publicpremisesact1971'], dtype=object),\n",
       " array(['civilcases'], dtype=object),\n",
       " array(['motorvehicleact'], dtype=object),\n",
       " array(['trademarkact1999'], dtype=object),\n",
       " array(['trademarkact1999'], dtype=object),\n",
       " array(['arbitration&conciliationact,1996'], dtype=object),\n",
       " array(['trademarkact1999'], dtype=object),\n",
       " array(['civilcases'], dtype=object),\n",
       " array(['crpc'], dtype=object),\n",
       " array(['trademarkact1999'], dtype=object),\n",
       " array(['civilcases'], dtype=object),\n",
       " array(['recoveryofmoney'], dtype=object),\n",
       " array(['trademarkact1999'], dtype=object),\n",
       " array(['arbitration&conciliationact,1996'], dtype=object),\n",
       " array(['executionact1990'], dtype=object),\n",
       " array(['motorvehicleact'], dtype=object),\n",
       " array(['regularcivilappeal'], dtype=object),\n",
       " array(['civilprocedurecode'], dtype=object),\n",
       " array(['civilprocedurecode'], dtype=object),\n",
       " array(['theindiansuccessionact1925'], dtype=object),\n",
       " array(['recoveryofmoney'], dtype=object),\n",
       " array(['permanentinjuction,renditionsofaccounts'], dtype=object),\n",
       " array(['recoveryofmoney'], dtype=object),\n",
       " array(['industrialdisputesact,1947'], dtype=object),\n",
       " array(['industrialdisputesact,1947'], dtype=object),\n",
       " array(['industrialdisputesact,1947'], dtype=object),\n",
       " array(['industrialdisputesact,1947'], dtype=object),\n",
       " array(['industrialdisputesact,1947'], dtype=object),\n",
       " array(['industrialdisputesact,1947'], dtype=object),\n",
       " array(['industrialdisputesact,1947'], dtype=object),\n",
       " array(['industrialdisputesact,1947'], dtype=object),\n",
       " array(['industrialdisputesact,1947'], dtype=object),\n",
       " array(['industrialdisputesact,1947'], dtype=object),\n",
       " array(['industrialdisputesact,1947'], dtype=object),\n",
       " array(['industrialdisputesact,1947'], dtype=object),\n",
       " array(['industrialdisputesact,1947'], dtype=object)]"
      ]
     },
     "execution_count": 44,
     "metadata": {},
     "output_type": "execute_result"
    }
   ],
   "source": [
    "enc.categories_"
   ]
  },
  {
   "cell_type": "code",
   "execution_count": 35,
   "id": "b5f6bcf1",
   "metadata": {},
   "outputs": [
    {
     "data": {
      "text/plain": [
       "7"
      ]
     },
     "execution_count": 35,
     "metadata": {},
     "output_type": "execute_result"
    }
   ],
   "source": [
    "len(k)"
   ]
  },
  {
   "cell_type": "code",
   "execution_count": 27,
   "id": "3fab7413",
   "metadata": {},
   "outputs": [
    {
     "data": {
      "text/plain": [
       "(7,)"
      ]
     },
     "execution_count": 27,
     "metadata": {},
     "output_type": "execute_result"
    }
   ],
   "source": [
    "k.shape"
   ]
  },
  {
   "cell_type": "code",
   "execution_count": null,
   "id": "d46f0ed1",
   "metadata": {},
   "outputs": [],
   "source": []
  },
  {
   "cell_type": "code",
   "execution_count": null,
   "id": "51fb032e",
   "metadata": {},
   "outputs": [],
   "source": []
  },
  {
   "cell_type": "code",
   "execution_count": 28,
   "id": "9a19f7ca",
   "metadata": {},
   "outputs": [
    {
     "data": {
      "text/plain": [
       "(7,)"
      ]
     },
     "execution_count": 28,
     "metadata": {},
     "output_type": "execute_result"
    }
   ],
   "source": [
    "val[1].shape"
   ]
  },
  {
   "cell_type": "code",
   "execution_count": 29,
   "id": "d0f73ba9",
   "metadata": {},
   "outputs": [
    {
     "ename": "IndexError",
     "evalue": "tuple index out of range",
     "output_type": "error",
     "traceback": [
      "\u001b[1;31m---------------------------------------------------------------------------\u001b[0m",
      "\u001b[1;31mIndexError\u001b[0m                                Traceback (most recent call last)",
      "\u001b[1;32m~\\AppData\\Local\\Temp\\ipykernel_19764\\3888461875.py\u001b[0m in \u001b[0;36m<module>\u001b[1;34m\u001b[0m\n\u001b[1;32m----> 1\u001b[1;33m \u001b[0mct\u001b[0m\u001b[1;33m.\u001b[0m\u001b[0mfit_transform\u001b[0m\u001b[1;33m(\u001b[0m\u001b[0mk\u001b[0m\u001b[1;33m)\u001b[0m\u001b[1;33m\u001b[0m\u001b[1;33m\u001b[0m\u001b[0m\n\u001b[0m",
      "\u001b[1;32m~\\anaconda3\\lib\\site-packages\\sklearn\\compose\\_column_transformer.py\u001b[0m in \u001b[0;36mfit_transform\u001b[1;34m(self, X, y)\u001b[0m\n\u001b[0;32m    668\u001b[0m         \u001b[0mself\u001b[0m\u001b[1;33m.\u001b[0m\u001b[0m_check_n_features\u001b[0m\u001b[1;33m(\u001b[0m\u001b[0mX\u001b[0m\u001b[1;33m,\u001b[0m \u001b[0mreset\u001b[0m\u001b[1;33m=\u001b[0m\u001b[1;32mTrue\u001b[0m\u001b[1;33m)\u001b[0m\u001b[1;33m\u001b[0m\u001b[1;33m\u001b[0m\u001b[0m\n\u001b[0;32m    669\u001b[0m         \u001b[0mself\u001b[0m\u001b[1;33m.\u001b[0m\u001b[0m_validate_transformers\u001b[0m\u001b[1;33m(\u001b[0m\u001b[1;33m)\u001b[0m\u001b[1;33m\u001b[0m\u001b[1;33m\u001b[0m\u001b[0m\n\u001b[1;32m--> 670\u001b[1;33m         \u001b[0mself\u001b[0m\u001b[1;33m.\u001b[0m\u001b[0m_validate_column_callables\u001b[0m\u001b[1;33m(\u001b[0m\u001b[0mX\u001b[0m\u001b[1;33m)\u001b[0m\u001b[1;33m\u001b[0m\u001b[1;33m\u001b[0m\u001b[0m\n\u001b[0m\u001b[0;32m    671\u001b[0m         \u001b[0mself\u001b[0m\u001b[1;33m.\u001b[0m\u001b[0m_validate_remainder\u001b[0m\u001b[1;33m(\u001b[0m\u001b[0mX\u001b[0m\u001b[1;33m)\u001b[0m\u001b[1;33m\u001b[0m\u001b[1;33m\u001b[0m\u001b[0m\n\u001b[0;32m    672\u001b[0m \u001b[1;33m\u001b[0m\u001b[0m\n",
      "\u001b[1;32m~\\anaconda3\\lib\\site-packages\\sklearn\\compose\\_column_transformer.py\u001b[0m in \u001b[0;36m_validate_column_callables\u001b[1;34m(self, X)\u001b[0m\n\u001b[0;32m    355\u001b[0m                 \u001b[0mcolumns\u001b[0m \u001b[1;33m=\u001b[0m \u001b[0mcolumns\u001b[0m\u001b[1;33m(\u001b[0m\u001b[0mX\u001b[0m\u001b[1;33m)\u001b[0m\u001b[1;33m\u001b[0m\u001b[1;33m\u001b[0m\u001b[0m\n\u001b[0;32m    356\u001b[0m             \u001b[0mall_columns\u001b[0m\u001b[1;33m.\u001b[0m\u001b[0mappend\u001b[0m\u001b[1;33m(\u001b[0m\u001b[0mcolumns\u001b[0m\u001b[1;33m)\u001b[0m\u001b[1;33m\u001b[0m\u001b[1;33m\u001b[0m\u001b[0m\n\u001b[1;32m--> 357\u001b[1;33m             \u001b[0mtransformer_to_input_indices\u001b[0m\u001b[1;33m[\u001b[0m\u001b[0mname\u001b[0m\u001b[1;33m]\u001b[0m \u001b[1;33m=\u001b[0m \u001b[0m_get_column_indices\u001b[0m\u001b[1;33m(\u001b[0m\u001b[0mX\u001b[0m\u001b[1;33m,\u001b[0m \u001b[0mcolumns\u001b[0m\u001b[1;33m)\u001b[0m\u001b[1;33m\u001b[0m\u001b[1;33m\u001b[0m\u001b[0m\n\u001b[0m\u001b[0;32m    358\u001b[0m \u001b[1;33m\u001b[0m\u001b[0m\n\u001b[0;32m    359\u001b[0m         \u001b[0mself\u001b[0m\u001b[1;33m.\u001b[0m\u001b[0m_columns\u001b[0m \u001b[1;33m=\u001b[0m \u001b[0mall_columns\u001b[0m\u001b[1;33m\u001b[0m\u001b[1;33m\u001b[0m\u001b[0m\n",
      "\u001b[1;32m~\\anaconda3\\lib\\site-packages\\sklearn\\utils\\__init__.py\u001b[0m in \u001b[0;36m_get_column_indices\u001b[1;34m(X, key)\u001b[0m\n\u001b[0;32m    370\u001b[0m     \u001b[1;33m:\u001b[0m\u001b[0mfunc\u001b[0m\u001b[1;33m:\u001b[0m\u001b[0;31m`\u001b[0m\u001b[0m_safe_indexing_column\u001b[0m\u001b[0;31m`\u001b[0m\u001b[1;33m.\u001b[0m\u001b[1;33m\u001b[0m\u001b[1;33m\u001b[0m\u001b[0m\n\u001b[0;32m    371\u001b[0m     \"\"\"\n\u001b[1;32m--> 372\u001b[1;33m     \u001b[0mn_columns\u001b[0m \u001b[1;33m=\u001b[0m \u001b[0mX\u001b[0m\u001b[1;33m.\u001b[0m\u001b[0mshape\u001b[0m\u001b[1;33m[\u001b[0m\u001b[1;36m1\u001b[0m\u001b[1;33m]\u001b[0m\u001b[1;33m\u001b[0m\u001b[1;33m\u001b[0m\u001b[0m\n\u001b[0m\u001b[0;32m    373\u001b[0m \u001b[1;33m\u001b[0m\u001b[0m\n\u001b[0;32m    374\u001b[0m     \u001b[0mkey_dtype\u001b[0m \u001b[1;33m=\u001b[0m \u001b[0m_determine_key_type\u001b[0m\u001b[1;33m(\u001b[0m\u001b[0mkey\u001b[0m\u001b[1;33m)\u001b[0m\u001b[1;33m\u001b[0m\u001b[1;33m\u001b[0m\u001b[0m\n",
      "\u001b[1;31mIndexError\u001b[0m: tuple index out of range"
     ]
    }
   ],
   "source": [
    "ct.fit_transform(k)"
   ]
  },
  {
   "cell_type": "code",
   "execution_count": 30,
   "id": "8f98a802",
   "metadata": {},
   "outputs": [],
   "source": [
    "k.shape= (len(k), 1)"
   ]
  },
  {
   "cell_type": "code",
   "execution_count": 31,
   "id": "794430e1",
   "metadata": {},
   "outputs": [
    {
     "data": {
      "text/plain": [
       "(7, 1)"
      ]
     },
     "execution_count": 31,
     "metadata": {},
     "output_type": "execute_result"
    }
   ],
   "source": [
    "k.shape"
   ]
  },
  {
   "cell_type": "code",
   "execution_count": 32,
   "id": "6573b6dd",
   "metadata": {},
   "outputs": [
    {
     "ename": "ValueError",
     "evalue": "all features must be in [0, 0] or [-1, 0]",
     "output_type": "error",
     "traceback": [
      "\u001b[1;31m---------------------------------------------------------------------------\u001b[0m",
      "\u001b[1;31mIndexError\u001b[0m                                Traceback (most recent call last)",
      "\u001b[1;32m~\\anaconda3\\lib\\site-packages\\sklearn\\utils\\__init__.py\u001b[0m in \u001b[0;36m_get_column_indices\u001b[1;34m(X, key)\u001b[0m\n\u001b[0;32m    381\u001b[0m         \u001b[1;32mtry\u001b[0m\u001b[1;33m:\u001b[0m\u001b[1;33m\u001b[0m\u001b[1;33m\u001b[0m\u001b[0m\n\u001b[1;32m--> 382\u001b[1;33m             \u001b[0midx\u001b[0m \u001b[1;33m=\u001b[0m \u001b[0m_safe_indexing\u001b[0m\u001b[1;33m(\u001b[0m\u001b[0mnp\u001b[0m\u001b[1;33m.\u001b[0m\u001b[0marange\u001b[0m\u001b[1;33m(\u001b[0m\u001b[0mn_columns\u001b[0m\u001b[1;33m)\u001b[0m\u001b[1;33m,\u001b[0m \u001b[0mkey\u001b[0m\u001b[1;33m)\u001b[0m\u001b[1;33m\u001b[0m\u001b[1;33m\u001b[0m\u001b[0m\n\u001b[0m\u001b[0;32m    383\u001b[0m         \u001b[1;32mexcept\u001b[0m \u001b[0mIndexError\u001b[0m \u001b[1;32mas\u001b[0m \u001b[0me\u001b[0m\u001b[1;33m:\u001b[0m\u001b[1;33m\u001b[0m\u001b[1;33m\u001b[0m\u001b[0m\n",
      "\u001b[1;32m~\\anaconda3\\lib\\site-packages\\sklearn\\utils\\__init__.py\u001b[0m in \u001b[0;36m_safe_indexing\u001b[1;34m(X, indices, axis)\u001b[0m\n\u001b[0;32m    360\u001b[0m     \u001b[1;32melif\u001b[0m \u001b[0mhasattr\u001b[0m\u001b[1;33m(\u001b[0m\u001b[0mX\u001b[0m\u001b[1;33m,\u001b[0m \u001b[1;34m\"shape\"\u001b[0m\u001b[1;33m)\u001b[0m\u001b[1;33m:\u001b[0m\u001b[1;33m\u001b[0m\u001b[1;33m\u001b[0m\u001b[0m\n\u001b[1;32m--> 361\u001b[1;33m         \u001b[1;32mreturn\u001b[0m \u001b[0m_array_indexing\u001b[0m\u001b[1;33m(\u001b[0m\u001b[0mX\u001b[0m\u001b[1;33m,\u001b[0m \u001b[0mindices\u001b[0m\u001b[1;33m,\u001b[0m \u001b[0mindices_dtype\u001b[0m\u001b[1;33m,\u001b[0m \u001b[0maxis\u001b[0m\u001b[1;33m=\u001b[0m\u001b[0maxis\u001b[0m\u001b[1;33m)\u001b[0m\u001b[1;33m\u001b[0m\u001b[1;33m\u001b[0m\u001b[0m\n\u001b[0m\u001b[0;32m    362\u001b[0m     \u001b[1;32melse\u001b[0m\u001b[1;33m:\u001b[0m\u001b[1;33m\u001b[0m\u001b[1;33m\u001b[0m\u001b[0m\n",
      "\u001b[1;32m~\\anaconda3\\lib\\site-packages\\sklearn\\utils\\__init__.py\u001b[0m in \u001b[0;36m_array_indexing\u001b[1;34m(array, key, key_dtype, axis)\u001b[0m\n\u001b[0;32m    184\u001b[0m         \u001b[0mkey\u001b[0m \u001b[1;33m=\u001b[0m \u001b[0mlist\u001b[0m\u001b[1;33m(\u001b[0m\u001b[0mkey\u001b[0m\u001b[1;33m)\u001b[0m\u001b[1;33m\u001b[0m\u001b[1;33m\u001b[0m\u001b[0m\n\u001b[1;32m--> 185\u001b[1;33m     \u001b[1;32mreturn\u001b[0m \u001b[0marray\u001b[0m\u001b[1;33m[\u001b[0m\u001b[0mkey\u001b[0m\u001b[1;33m]\u001b[0m \u001b[1;32mif\u001b[0m \u001b[0maxis\u001b[0m \u001b[1;33m==\u001b[0m \u001b[1;36m0\u001b[0m \u001b[1;32melse\u001b[0m \u001b[0marray\u001b[0m\u001b[1;33m[\u001b[0m\u001b[1;33m:\u001b[0m\u001b[1;33m,\u001b[0m \u001b[0mkey\u001b[0m\u001b[1;33m]\u001b[0m\u001b[1;33m\u001b[0m\u001b[1;33m\u001b[0m\u001b[0m\n\u001b[0m\u001b[0;32m    186\u001b[0m \u001b[1;33m\u001b[0m\u001b[0m\n",
      "\u001b[1;31mIndexError\u001b[0m: index 1 is out of bounds for axis 0 with size 1",
      "\nThe above exception was the direct cause of the following exception:\n",
      "\u001b[1;31mValueError\u001b[0m                                Traceback (most recent call last)",
      "\u001b[1;32m~\\AppData\\Local\\Temp\\ipykernel_19764\\3888461875.py\u001b[0m in \u001b[0;36m<module>\u001b[1;34m\u001b[0m\n\u001b[1;32m----> 1\u001b[1;33m \u001b[0mct\u001b[0m\u001b[1;33m.\u001b[0m\u001b[0mfit_transform\u001b[0m\u001b[1;33m(\u001b[0m\u001b[0mk\u001b[0m\u001b[1;33m)\u001b[0m\u001b[1;33m\u001b[0m\u001b[1;33m\u001b[0m\u001b[0m\n\u001b[0m",
      "\u001b[1;32m~\\anaconda3\\lib\\site-packages\\sklearn\\compose\\_column_transformer.py\u001b[0m in \u001b[0;36mfit_transform\u001b[1;34m(self, X, y)\u001b[0m\n\u001b[0;32m    668\u001b[0m         \u001b[0mself\u001b[0m\u001b[1;33m.\u001b[0m\u001b[0m_check_n_features\u001b[0m\u001b[1;33m(\u001b[0m\u001b[0mX\u001b[0m\u001b[1;33m,\u001b[0m \u001b[0mreset\u001b[0m\u001b[1;33m=\u001b[0m\u001b[1;32mTrue\u001b[0m\u001b[1;33m)\u001b[0m\u001b[1;33m\u001b[0m\u001b[1;33m\u001b[0m\u001b[0m\n\u001b[0;32m    669\u001b[0m         \u001b[0mself\u001b[0m\u001b[1;33m.\u001b[0m\u001b[0m_validate_transformers\u001b[0m\u001b[1;33m(\u001b[0m\u001b[1;33m)\u001b[0m\u001b[1;33m\u001b[0m\u001b[1;33m\u001b[0m\u001b[0m\n\u001b[1;32m--> 670\u001b[1;33m         \u001b[0mself\u001b[0m\u001b[1;33m.\u001b[0m\u001b[0m_validate_column_callables\u001b[0m\u001b[1;33m(\u001b[0m\u001b[0mX\u001b[0m\u001b[1;33m)\u001b[0m\u001b[1;33m\u001b[0m\u001b[1;33m\u001b[0m\u001b[0m\n\u001b[0m\u001b[0;32m    671\u001b[0m         \u001b[0mself\u001b[0m\u001b[1;33m.\u001b[0m\u001b[0m_validate_remainder\u001b[0m\u001b[1;33m(\u001b[0m\u001b[0mX\u001b[0m\u001b[1;33m)\u001b[0m\u001b[1;33m\u001b[0m\u001b[1;33m\u001b[0m\u001b[0m\n\u001b[0;32m    672\u001b[0m \u001b[1;33m\u001b[0m\u001b[0m\n",
      "\u001b[1;32m~\\anaconda3\\lib\\site-packages\\sklearn\\compose\\_column_transformer.py\u001b[0m in \u001b[0;36m_validate_column_callables\u001b[1;34m(self, X)\u001b[0m\n\u001b[0;32m    355\u001b[0m                 \u001b[0mcolumns\u001b[0m \u001b[1;33m=\u001b[0m \u001b[0mcolumns\u001b[0m\u001b[1;33m(\u001b[0m\u001b[0mX\u001b[0m\u001b[1;33m)\u001b[0m\u001b[1;33m\u001b[0m\u001b[1;33m\u001b[0m\u001b[0m\n\u001b[0;32m    356\u001b[0m             \u001b[0mall_columns\u001b[0m\u001b[1;33m.\u001b[0m\u001b[0mappend\u001b[0m\u001b[1;33m(\u001b[0m\u001b[0mcolumns\u001b[0m\u001b[1;33m)\u001b[0m\u001b[1;33m\u001b[0m\u001b[1;33m\u001b[0m\u001b[0m\n\u001b[1;32m--> 357\u001b[1;33m             \u001b[0mtransformer_to_input_indices\u001b[0m\u001b[1;33m[\u001b[0m\u001b[0mname\u001b[0m\u001b[1;33m]\u001b[0m \u001b[1;33m=\u001b[0m \u001b[0m_get_column_indices\u001b[0m\u001b[1;33m(\u001b[0m\u001b[0mX\u001b[0m\u001b[1;33m,\u001b[0m \u001b[0mcolumns\u001b[0m\u001b[1;33m)\u001b[0m\u001b[1;33m\u001b[0m\u001b[1;33m\u001b[0m\u001b[0m\n\u001b[0m\u001b[0;32m    358\u001b[0m \u001b[1;33m\u001b[0m\u001b[0m\n\u001b[0;32m    359\u001b[0m         \u001b[0mself\u001b[0m\u001b[1;33m.\u001b[0m\u001b[0m_columns\u001b[0m \u001b[1;33m=\u001b[0m \u001b[0mall_columns\u001b[0m\u001b[1;33m\u001b[0m\u001b[1;33m\u001b[0m\u001b[0m\n",
      "\u001b[1;32m~\\anaconda3\\lib\\site-packages\\sklearn\\utils\\__init__.py\u001b[0m in \u001b[0;36m_get_column_indices\u001b[1;34m(X, key)\u001b[0m\n\u001b[0;32m    382\u001b[0m             \u001b[0midx\u001b[0m \u001b[1;33m=\u001b[0m \u001b[0m_safe_indexing\u001b[0m\u001b[1;33m(\u001b[0m\u001b[0mnp\u001b[0m\u001b[1;33m.\u001b[0m\u001b[0marange\u001b[0m\u001b[1;33m(\u001b[0m\u001b[0mn_columns\u001b[0m\u001b[1;33m)\u001b[0m\u001b[1;33m,\u001b[0m \u001b[0mkey\u001b[0m\u001b[1;33m)\u001b[0m\u001b[1;33m\u001b[0m\u001b[1;33m\u001b[0m\u001b[0m\n\u001b[0;32m    383\u001b[0m         \u001b[1;32mexcept\u001b[0m \u001b[0mIndexError\u001b[0m \u001b[1;32mas\u001b[0m \u001b[0me\u001b[0m\u001b[1;33m:\u001b[0m\u001b[1;33m\u001b[0m\u001b[1;33m\u001b[0m\u001b[0m\n\u001b[1;32m--> 384\u001b[1;33m             raise ValueError(\n\u001b[0m\u001b[0;32m    385\u001b[0m                 \"all features must be in [0, {}] or [-{}, 0]\".format(\n\u001b[0;32m    386\u001b[0m                     \u001b[0mn_columns\u001b[0m \u001b[1;33m-\u001b[0m \u001b[1;36m1\u001b[0m\u001b[1;33m,\u001b[0m \u001b[0mn_columns\u001b[0m\u001b[1;33m\u001b[0m\u001b[1;33m\u001b[0m\u001b[0m\n",
      "\u001b[1;31mValueError\u001b[0m: all features must be in [0, 0] or [-1, 0]"
     ]
    }
   ],
   "source": [
    "ct.fit_transform(k)"
   ]
  },
  {
   "cell_type": "code",
   "execution_count": 33,
   "id": "c6826e6c",
   "metadata": {},
   "outputs": [
    {
     "data": {
      "text/plain": [
       "array(['2021-07-09 00:00:00'], dtype=object)"
      ]
     },
     "execution_count": 33,
     "metadata": {},
     "output_type": "execute_result"
    }
   ],
   "source": [
    "k[0]"
   ]
  },
  {
   "cell_type": "code",
   "execution_count": 46,
   "id": "de54a637",
   "metadata": {},
   "outputs": [
    {
     "name": "stdout",
     "output_type": "stream",
     "text": [
      "  (0, 0)\t1.0\n",
      "  (0, 1)\t1.0\n",
      "  (0, 2)\t1.0\n",
      "  (0, 3)\t1.0\n",
      "  (0, 4)\t1.0\n",
      "  (0, 5)\t1.0\n",
      "  (0, 6)\t1.0\n",
      "  (0, 7)\t1.0\n",
      "  (0, 8)\t1.0\n",
      "  (0, 9)\t1.0\n",
      "  (0, 10)\t1.0\n",
      "  (0, 11)\t1.0\n",
      "  (0, 12)\t1.0\n",
      "  (0, 13)\t1.0\n",
      "  (0, 14)\t1.0\n",
      "  (0, 15)\t1.0\n",
      "  (0, 16)\t1.0\n",
      "  (0, 17)\t1.0\n",
      "  (0, 18)\t1.0\n",
      "  (0, 19)\t1.0\n",
      "  (0, 20)\t1.0\n",
      "  (0, 21)\t1.0\n",
      "  (0, 22)\t1.0\n",
      "  (0, 23)\t1.0\n",
      "  (0, 24)\t1.0\n",
      "  :\t:\n",
      "  (0, 199)\t1.0\n",
      "  (0, 200)\t1.0\n",
      "  (0, 201)\t1.0\n",
      "  (0, 202)\t1.0\n",
      "  (0, 203)\t1.0\n",
      "  (0, 204)\t1.0\n",
      "  (0, 205)\t1.0\n",
      "  (0, 206)\t1.0\n",
      "  (0, 207)\t1.0\n",
      "  (0, 208)\t1.0\n",
      "  (0, 209)\t1.0\n",
      "  (0, 210)\t1.0\n",
      "  (0, 211)\t1.0\n",
      "  (0, 212)\t1.0\n",
      "  (0, 213)\t1.0\n",
      "  (0, 214)\t1.0\n",
      "  (0, 215)\t1.0\n",
      "  (0, 216)\t1.0\n",
      "  (0, 217)\t1.0\n",
      "  (0, 218)\t1.0\n",
      "  (0, 219)\t1.0\n",
      "  (0, 220)\t1.0\n",
      "  (0, 221)\t1.0\n",
      "  (0, 222)\t1.0\n",
      "  (0, 223)\t1.0\n"
     ]
    }
   ],
   "source": [
    "print(enc.transform([data['KeyWord']]))"
   ]
  },
  {
   "cell_type": "code",
   "execution_count": null,
   "id": "739f5dfc",
   "metadata": {},
   "outputs": [],
   "source": []
  }
 ],
 "metadata": {
  "kernelspec": {
   "display_name": "Python 3 (ipykernel)",
   "language": "python",
   "name": "python3"
  },
  "language_info": {
   "codemirror_mode": {
    "name": "ipython",
    "version": 3
   },
   "file_extension": ".py",
   "mimetype": "text/x-python",
   "name": "python",
   "nbconvert_exporter": "python",
   "pygments_lexer": "ipython3",
   "version": "3.9.7"
  }
 },
 "nbformat": 4,
 "nbformat_minor": 5
}
