{
 "cells": [
  {
   "cell_type": "code",
   "execution_count": 1,
   "id": "581db1cf",
   "metadata": {},
   "outputs": [],
   "source": [
    "import numpy as np\n",
    "import pandas as pd"
   ]
  },
  {
   "cell_type": "code",
   "execution_count": 2,
   "id": "507f69db",
   "metadata": {},
   "outputs": [],
   "source": [
    "data = pd.read_csv('clean_1.csv')"
   ]
  },
  {
   "cell_type": "code",
   "execution_count": 3,
   "id": "a76d38b7",
   "metadata": {},
   "outputs": [
    {
     "data": {
      "text/html": [
       "<div>\n",
       "<style scoped>\n",
       "    .dataframe tbody tr th:only-of-type {\n",
       "        vertical-align: middle;\n",
       "    }\n",
       "\n",
       "    .dataframe tbody tr th {\n",
       "        vertical-align: top;\n",
       "    }\n",
       "\n",
       "    .dataframe thead th {\n",
       "        text-align: right;\n",
       "    }\n",
       "</style>\n",
       "<table border=\"1\" class=\"dataframe\">\n",
       "  <thead>\n",
       "    <tr style=\"text-align: right;\">\n",
       "      <th></th>\n",
       "      <th>Unnamed: 0.1</th>\n",
       "      <th>Unnamed: 0</th>\n",
       "      <th>Date</th>\n",
       "      <th>KeyWord</th>\n",
       "      <th>ActSubCase</th>\n",
       "      <th>Stage</th>\n",
       "      <th>Type</th>\n",
       "      <th>Date_new</th>\n",
       "      <th>days</th>\n",
       "    </tr>\n",
       "  </thead>\n",
       "  <tbody>\n",
       "    <tr>\n",
       "      <th>0</th>\n",
       "      <td>0</td>\n",
       "      <td>0</td>\n",
       "      <td>2021-05-01 00:00:00</td>\n",
       "      <td>recoveryofmoney</td>\n",
       "      <td>370</td>\n",
       "      <td>misccases/purpose</td>\n",
       "      <td>cs(comm)</td>\n",
       "      <td>2021-05-01</td>\n",
       "      <td>466</td>\n",
       "    </tr>\n",
       "    <tr>\n",
       "      <th>1</th>\n",
       "      <td>1</td>\n",
       "      <td>1</td>\n",
       "      <td>2021-07-09 00:00:00</td>\n",
       "      <td>permanentinjuction</td>\n",
       "      <td>730</td>\n",
       "      <td>misccases/purpose</td>\n",
       "      <td>csdj</td>\n",
       "      <td>2021-07-09</td>\n",
       "      <td>397</td>\n",
       "    </tr>\n",
       "    <tr>\n",
       "      <th>2</th>\n",
       "      <td>2</td>\n",
       "      <td>2</td>\n",
       "      <td>22-9-2021</td>\n",
       "      <td>executionact1990</td>\n",
       "      <td>10</td>\n",
       "      <td>misccases/purpose</td>\n",
       "      <td>ex</td>\n",
       "      <td>2021-09-22</td>\n",
       "      <td>322</td>\n",
       "    </tr>\n",
       "    <tr>\n",
       "      <th>3</th>\n",
       "      <td>3</td>\n",
       "      <td>3</td>\n",
       "      <td>23-9-2021</td>\n",
       "      <td>recoveryofmoney</td>\n",
       "      <td>2(1)(c)(i)</td>\n",
       "      <td>plaintiff/petitionerevidence</td>\n",
       "      <td>cs(comm)</td>\n",
       "      <td>2021-09-23</td>\n",
       "      <td>321</td>\n",
       "    </tr>\n",
       "    <tr>\n",
       "      <th>4</th>\n",
       "      <td>4</td>\n",
       "      <td>4</td>\n",
       "      <td>29-9-2021</td>\n",
       "      <td>recoveryofmoney</td>\n",
       "      <td>1510</td>\n",
       "      <td>misccases/purpose</td>\n",
       "      <td>cs(comm)</td>\n",
       "      <td>2021-09-29</td>\n",
       "      <td>315</td>\n",
       "    </tr>\n",
       "  </tbody>\n",
       "</table>\n",
       "</div>"
      ],
      "text/plain": [
       "   Unnamed: 0.1  Unnamed: 0                 Date             KeyWord  \\\n",
       "0             0           0  2021-05-01 00:00:00     recoveryofmoney   \n",
       "1             1           1  2021-07-09 00:00:00  permanentinjuction   \n",
       "2             2           2            22-9-2021    executionact1990   \n",
       "3             3           3            23-9-2021     recoveryofmoney   \n",
       "4             4           4            29-9-2021     recoveryofmoney   \n",
       "\n",
       "   ActSubCase                         Stage      Type    Date_new  days  \n",
       "0         370             misccases/purpose  cs(comm)  2021-05-01   466  \n",
       "1         730             misccases/purpose      csdj  2021-07-09   397  \n",
       "2          10             misccases/purpose        ex  2021-09-22   322  \n",
       "3  2(1)(c)(i)  plaintiff/petitionerevidence  cs(comm)  2021-09-23   321  \n",
       "4        1510             misccases/purpose  cs(comm)  2021-09-29   315  "
      ]
     },
     "execution_count": 3,
     "metadata": {},
     "output_type": "execute_result"
    }
   ],
   "source": [
    "data.head()"
   ]
  },
  {
   "cell_type": "code",
   "execution_count": 4,
   "id": "f47c8d5e",
   "metadata": {},
   "outputs": [
    {
     "ename": "TypeError",
     "evalue": "drop_duplicates() got an unexpected keyword argument 'subset'",
     "output_type": "error",
     "traceback": [
      "\u001b[1;31m---------------------------------------------------------------------------\u001b[0m",
      "\u001b[1;31mTypeError\u001b[0m                                 Traceback (most recent call last)",
      "\u001b[1;32m~\\AppData\\Local\\Temp\\ipykernel_19764\\295789458.py\u001b[0m in \u001b[0;36m<module>\u001b[1;34m\u001b[0m\n\u001b[1;32m----> 1\u001b[1;33m \u001b[0mdata\u001b[0m\u001b[1;33m[\u001b[0m\u001b[1;34m'KeyWord'\u001b[0m\u001b[1;33m]\u001b[0m\u001b[1;33m.\u001b[0m\u001b[0mdrop_duplicates\u001b[0m\u001b[1;33m(\u001b[0m\u001b[0msubset\u001b[0m\u001b[1;33m=\u001b[0m\u001b[1;33m[\u001b[0m\u001b[1;34m'KeyWord'\u001b[0m\u001b[1;33m]\u001b[0m\u001b[1;33m)\u001b[0m\u001b[1;33m\u001b[0m\u001b[1;33m\u001b[0m\u001b[0m\n\u001b[0m",
      "\u001b[1;32m~\\anaconda3\\lib\\site-packages\\pandas\\util\\_decorators.py\u001b[0m in \u001b[0;36mwrapper\u001b[1;34m(*args, **kwargs)\u001b[0m\n\u001b[0;32m    309\u001b[0m                     \u001b[0mstacklevel\u001b[0m\u001b[1;33m=\u001b[0m\u001b[0mstacklevel\u001b[0m\u001b[1;33m,\u001b[0m\u001b[1;33m\u001b[0m\u001b[1;33m\u001b[0m\u001b[0m\n\u001b[0;32m    310\u001b[0m                 )\n\u001b[1;32m--> 311\u001b[1;33m             \u001b[1;32mreturn\u001b[0m \u001b[0mfunc\u001b[0m\u001b[1;33m(\u001b[0m\u001b[1;33m*\u001b[0m\u001b[0margs\u001b[0m\u001b[1;33m,\u001b[0m \u001b[1;33m**\u001b[0m\u001b[0mkwargs\u001b[0m\u001b[1;33m)\u001b[0m\u001b[1;33m\u001b[0m\u001b[1;33m\u001b[0m\u001b[0m\n\u001b[0m\u001b[0;32m    312\u001b[0m \u001b[1;33m\u001b[0m\u001b[0m\n\u001b[0;32m    313\u001b[0m         \u001b[1;32mreturn\u001b[0m \u001b[0mwrapper\u001b[0m\u001b[1;33m\u001b[0m\u001b[1;33m\u001b[0m\u001b[0m\n",
      "\u001b[1;31mTypeError\u001b[0m: drop_duplicates() got an unexpected keyword argument 'subset'"
     ]
    }
   ],
   "source": [
    "data['KeyWord'].drop_duplicates(subset=['KeyWord'])"
   ]
  },
  {
   "cell_type": "code",
   "execution_count": null,
   "id": "f485ffb5",
   "metadata": {},
   "outputs": [],
   "source": []
  }
 ],
 "metadata": {
  "kernelspec": {
   "display_name": "Python 3 (ipykernel)",
   "language": "python",
   "name": "python3"
  },
  "language_info": {
   "codemirror_mode": {
    "name": "ipython",
    "version": 3
   },
   "file_extension": ".py",
   "mimetype": "text/x-python",
   "name": "python",
   "nbconvert_exporter": "python",
   "pygments_lexer": "ipython3",
   "version": "3.9.7"
  }
 },
 "nbformat": 4,
 "nbformat_minor": 5
}
