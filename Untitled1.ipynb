{
 "cells": [
  {
   "cell_type": "code",
   "execution_count": 1,
   "id": "bcbd6294-4408-4ef1-bf9f-039e295b2611",
   "metadata": {},
   "outputs": [],
   "source": [
    "import numpy as np\n",
    "import pandas as pd"
   ]
  },
  {
   "cell_type": "code",
   "execution_count": 3,
   "id": "42be1ce8-5446-46ff-91fb-acd58d28f411",
   "metadata": {},
   "outputs": [],
   "source": [
    "df = pd.read_csv(\"clean_1.csv\")"
   ]
  },
  {
   "cell_type": "code",
   "execution_count": 4,
   "id": "d23fde04-644b-40b7-b630-a07c6b475fb6",
   "metadata": {},
   "outputs": [
    {
     "data": {
      "text/html": [
       "<div>\n",
       "<style scoped>\n",
       "    .dataframe tbody tr th:only-of-type {\n",
       "        vertical-align: middle;\n",
       "    }\n",
       "\n",
       "    .dataframe tbody tr th {\n",
       "        vertical-align: top;\n",
       "    }\n",
       "\n",
       "    .dataframe thead th {\n",
       "        text-align: right;\n",
       "    }\n",
       "</style>\n",
       "<table border=\"1\" class=\"dataframe\">\n",
       "  <thead>\n",
       "    <tr style=\"text-align: right;\">\n",
       "      <th></th>\n",
       "      <th>Unnamed: 0.1</th>\n",
       "      <th>Unnamed: 0</th>\n",
       "      <th>Date</th>\n",
       "      <th>KeyWord</th>\n",
       "      <th>ActSubCase</th>\n",
       "      <th>Stage</th>\n",
       "      <th>Type</th>\n",
       "      <th>Date_new</th>\n",
       "      <th>days</th>\n",
       "    </tr>\n",
       "  </thead>\n",
       "  <tbody>\n",
       "    <tr>\n",
       "      <th>0</th>\n",
       "      <td>0</td>\n",
       "      <td>0</td>\n",
       "      <td>2021-05-01 00:00:00</td>\n",
       "      <td>recoveryofmoney</td>\n",
       "      <td>370</td>\n",
       "      <td>misccases/purpose</td>\n",
       "      <td>cs(comm)</td>\n",
       "      <td>2021-05-01</td>\n",
       "      <td>466</td>\n",
       "    </tr>\n",
       "    <tr>\n",
       "      <th>1</th>\n",
       "      <td>1</td>\n",
       "      <td>1</td>\n",
       "      <td>2021-07-09 00:00:00</td>\n",
       "      <td>permanentinjuction</td>\n",
       "      <td>730</td>\n",
       "      <td>misccases/purpose</td>\n",
       "      <td>csdj</td>\n",
       "      <td>2021-07-09</td>\n",
       "      <td>397</td>\n",
       "    </tr>\n",
       "    <tr>\n",
       "      <th>2</th>\n",
       "      <td>2</td>\n",
       "      <td>2</td>\n",
       "      <td>22-9-2021</td>\n",
       "      <td>executionact1990</td>\n",
       "      <td>10</td>\n",
       "      <td>misccases/purpose</td>\n",
       "      <td>ex</td>\n",
       "      <td>2021-09-22</td>\n",
       "      <td>322</td>\n",
       "    </tr>\n",
       "    <tr>\n",
       "      <th>3</th>\n",
       "      <td>3</td>\n",
       "      <td>3</td>\n",
       "      <td>23-9-2021</td>\n",
       "      <td>recoveryofmoney</td>\n",
       "      <td>2(1)(c)(i)</td>\n",
       "      <td>plaintiff/petitionerevidence</td>\n",
       "      <td>cs(comm)</td>\n",
       "      <td>2021-09-23</td>\n",
       "      <td>321</td>\n",
       "    </tr>\n",
       "    <tr>\n",
       "      <th>4</th>\n",
       "      <td>4</td>\n",
       "      <td>4</td>\n",
       "      <td>29-9-2021</td>\n",
       "      <td>recoveryofmoney</td>\n",
       "      <td>1510</td>\n",
       "      <td>misccases/purpose</td>\n",
       "      <td>cs(comm)</td>\n",
       "      <td>2021-09-29</td>\n",
       "      <td>315</td>\n",
       "    </tr>\n",
       "  </tbody>\n",
       "</table>\n",
       "</div>"
      ],
      "text/plain": [
       "   Unnamed: 0.1  Unnamed: 0                 Date             KeyWord  \\\n",
       "0             0           0  2021-05-01 00:00:00     recoveryofmoney   \n",
       "1             1           1  2021-07-09 00:00:00  permanentinjuction   \n",
       "2             2           2            22-9-2021    executionact1990   \n",
       "3             3           3            23-9-2021     recoveryofmoney   \n",
       "4             4           4            29-9-2021     recoveryofmoney   \n",
       "\n",
       "   ActSubCase                         Stage      Type    Date_new  days  \n",
       "0         370             misccases/purpose  cs(comm)  2021-05-01   466  \n",
       "1         730             misccases/purpose      csdj  2021-07-09   397  \n",
       "2          10             misccases/purpose        ex  2021-09-22   322  \n",
       "3  2(1)(c)(i)  plaintiff/petitionerevidence  cs(comm)  2021-09-23   321  \n",
       "4        1510             misccases/purpose  cs(comm)  2021-09-29   315  "
      ]
     },
     "execution_count": 4,
     "metadata": {},
     "output_type": "execute_result"
    }
   ],
   "source": [
    "df.head()"
   ]
  },
  {
   "cell_type": "code",
   "execution_count": 5,
   "id": "f8058155-a950-4ebb-ba09-36425a080eb6",
   "metadata": {},
   "outputs": [],
   "source": [
    "del df['Unnamed: 0.1']"
   ]
  },
  {
   "cell_type": "code",
   "execution_count": 6,
   "id": "e04b2c5c-89b8-4153-a168-469ab9e612f2",
   "metadata": {},
   "outputs": [],
   "source": [
    "del df['Unnamed: 0']"
   ]
  },
  {
   "cell_type": "code",
   "execution_count": 7,
   "id": "b8b06293-a424-4d1d-b923-fe50376df1a3",
   "metadata": {},
   "outputs": [],
   "source": [
    "df.to_csv('clean_2.csv')"
   ]
  },
  {
   "cell_type": "code",
   "execution_count": 8,
   "id": "89401e50-7682-471e-a032-2623b70ce591",
   "metadata": {},
   "outputs": [],
   "source": [
    "df = pd.read_csv('clean_2.csv')"
   ]
  },
  {
   "cell_type": "code",
   "execution_count": 9,
   "id": "939f01b0-81bc-4123-8881-13d633a22c7c",
   "metadata": {},
   "outputs": [
    {
     "data": {
      "text/html": [
       "<div>\n",
       "<style scoped>\n",
       "    .dataframe tbody tr th:only-of-type {\n",
       "        vertical-align: middle;\n",
       "    }\n",
       "\n",
       "    .dataframe tbody tr th {\n",
       "        vertical-align: top;\n",
       "    }\n",
       "\n",
       "    .dataframe thead th {\n",
       "        text-align: right;\n",
       "    }\n",
       "</style>\n",
       "<table border=\"1\" class=\"dataframe\">\n",
       "  <thead>\n",
       "    <tr style=\"text-align: right;\">\n",
       "      <th></th>\n",
       "      <th>Unnamed: 0</th>\n",
       "      <th>Date</th>\n",
       "      <th>KeyWord</th>\n",
       "      <th>ActSubCase</th>\n",
       "      <th>Stage</th>\n",
       "      <th>Type</th>\n",
       "      <th>Date_new</th>\n",
       "      <th>days</th>\n",
       "    </tr>\n",
       "  </thead>\n",
       "  <tbody>\n",
       "    <tr>\n",
       "      <th>0</th>\n",
       "      <td>0</td>\n",
       "      <td>2021-05-01 00:00:00</td>\n",
       "      <td>recoveryofmoney</td>\n",
       "      <td>370</td>\n",
       "      <td>misccases/purpose</td>\n",
       "      <td>cs(comm)</td>\n",
       "      <td>2021-05-01</td>\n",
       "      <td>466</td>\n",
       "    </tr>\n",
       "    <tr>\n",
       "      <th>1</th>\n",
       "      <td>1</td>\n",
       "      <td>2021-07-09 00:00:00</td>\n",
       "      <td>permanentinjuction</td>\n",
       "      <td>730</td>\n",
       "      <td>misccases/purpose</td>\n",
       "      <td>csdj</td>\n",
       "      <td>2021-07-09</td>\n",
       "      <td>397</td>\n",
       "    </tr>\n",
       "    <tr>\n",
       "      <th>2</th>\n",
       "      <td>2</td>\n",
       "      <td>22-9-2021</td>\n",
       "      <td>executionact1990</td>\n",
       "      <td>10</td>\n",
       "      <td>misccases/purpose</td>\n",
       "      <td>ex</td>\n",
       "      <td>2021-09-22</td>\n",
       "      <td>322</td>\n",
       "    </tr>\n",
       "    <tr>\n",
       "      <th>3</th>\n",
       "      <td>3</td>\n",
       "      <td>23-9-2021</td>\n",
       "      <td>recoveryofmoney</td>\n",
       "      <td>2(1)(c)(i)</td>\n",
       "      <td>plaintiff/petitionerevidence</td>\n",
       "      <td>cs(comm)</td>\n",
       "      <td>2021-09-23</td>\n",
       "      <td>321</td>\n",
       "    </tr>\n",
       "    <tr>\n",
       "      <th>4</th>\n",
       "      <td>4</td>\n",
       "      <td>29-9-2021</td>\n",
       "      <td>recoveryofmoney</td>\n",
       "      <td>1510</td>\n",
       "      <td>misccases/purpose</td>\n",
       "      <td>cs(comm)</td>\n",
       "      <td>2021-09-29</td>\n",
       "      <td>315</td>\n",
       "    </tr>\n",
       "  </tbody>\n",
       "</table>\n",
       "</div>"
      ],
      "text/plain": [
       "   Unnamed: 0                 Date             KeyWord  ActSubCase  \\\n",
       "0           0  2021-05-01 00:00:00     recoveryofmoney         370   \n",
       "1           1  2021-07-09 00:00:00  permanentinjuction         730   \n",
       "2           2            22-9-2021    executionact1990          10   \n",
       "3           3            23-9-2021     recoveryofmoney  2(1)(c)(i)   \n",
       "4           4            29-9-2021     recoveryofmoney        1510   \n",
       "\n",
       "                          Stage      Type    Date_new  days  \n",
       "0             misccases/purpose  cs(comm)  2021-05-01   466  \n",
       "1             misccases/purpose      csdj  2021-07-09   397  \n",
       "2             misccases/purpose        ex  2021-09-22   322  \n",
       "3  plaintiff/petitionerevidence  cs(comm)  2021-09-23   321  \n",
       "4             misccases/purpose  cs(comm)  2021-09-29   315  "
      ]
     },
     "execution_count": 9,
     "metadata": {},
     "output_type": "execute_result"
    }
   ],
   "source": [
    "df.head()"
   ]
  },
  {
   "cell_type": "code",
   "execution_count": 10,
   "id": "bb700c36-1fef-4e50-a2ad-b6af35525be6",
   "metadata": {},
   "outputs": [],
   "source": [
    "del df['Unnamed: 0']"
   ]
  },
  {
   "cell_type": "code",
   "execution_count": 11,
   "id": "26ffe509-3165-469b-b32c-d4b31463019f",
   "metadata": {},
   "outputs": [
    {
     "data": {
      "text/html": [
       "<div>\n",
       "<style scoped>\n",
       "    .dataframe tbody tr th:only-of-type {\n",
       "        vertical-align: middle;\n",
       "    }\n",
       "\n",
       "    .dataframe tbody tr th {\n",
       "        vertical-align: top;\n",
       "    }\n",
       "\n",
       "    .dataframe thead th {\n",
       "        text-align: right;\n",
       "    }\n",
       "</style>\n",
       "<table border=\"1\" class=\"dataframe\">\n",
       "  <thead>\n",
       "    <tr style=\"text-align: right;\">\n",
       "      <th></th>\n",
       "      <th>Date</th>\n",
       "      <th>KeyWord</th>\n",
       "      <th>ActSubCase</th>\n",
       "      <th>Stage</th>\n",
       "      <th>Type</th>\n",
       "      <th>Date_new</th>\n",
       "      <th>days</th>\n",
       "    </tr>\n",
       "  </thead>\n",
       "  <tbody>\n",
       "    <tr>\n",
       "      <th>0</th>\n",
       "      <td>2021-05-01 00:00:00</td>\n",
       "      <td>recoveryofmoney</td>\n",
       "      <td>370</td>\n",
       "      <td>misccases/purpose</td>\n",
       "      <td>cs(comm)</td>\n",
       "      <td>2021-05-01</td>\n",
       "      <td>466</td>\n",
       "    </tr>\n",
       "    <tr>\n",
       "      <th>1</th>\n",
       "      <td>2021-07-09 00:00:00</td>\n",
       "      <td>permanentinjuction</td>\n",
       "      <td>730</td>\n",
       "      <td>misccases/purpose</td>\n",
       "      <td>csdj</td>\n",
       "      <td>2021-07-09</td>\n",
       "      <td>397</td>\n",
       "    </tr>\n",
       "    <tr>\n",
       "      <th>2</th>\n",
       "      <td>22-9-2021</td>\n",
       "      <td>executionact1990</td>\n",
       "      <td>10</td>\n",
       "      <td>misccases/purpose</td>\n",
       "      <td>ex</td>\n",
       "      <td>2021-09-22</td>\n",
       "      <td>322</td>\n",
       "    </tr>\n",
       "    <tr>\n",
       "      <th>3</th>\n",
       "      <td>23-9-2021</td>\n",
       "      <td>recoveryofmoney</td>\n",
       "      <td>2(1)(c)(i)</td>\n",
       "      <td>plaintiff/petitionerevidence</td>\n",
       "      <td>cs(comm)</td>\n",
       "      <td>2021-09-23</td>\n",
       "      <td>321</td>\n",
       "    </tr>\n",
       "    <tr>\n",
       "      <th>4</th>\n",
       "      <td>29-9-2021</td>\n",
       "      <td>recoveryofmoney</td>\n",
       "      <td>1510</td>\n",
       "      <td>misccases/purpose</td>\n",
       "      <td>cs(comm)</td>\n",
       "      <td>2021-09-29</td>\n",
       "      <td>315</td>\n",
       "    </tr>\n",
       "  </tbody>\n",
       "</table>\n",
       "</div>"
      ],
      "text/plain": [
       "                  Date             KeyWord  ActSubCase  \\\n",
       "0  2021-05-01 00:00:00     recoveryofmoney         370   \n",
       "1  2021-07-09 00:00:00  permanentinjuction         730   \n",
       "2            22-9-2021    executionact1990          10   \n",
       "3            23-9-2021     recoveryofmoney  2(1)(c)(i)   \n",
       "4            29-9-2021     recoveryofmoney        1510   \n",
       "\n",
       "                          Stage      Type    Date_new  days  \n",
       "0             misccases/purpose  cs(comm)  2021-05-01   466  \n",
       "1             misccases/purpose      csdj  2021-07-09   397  \n",
       "2             misccases/purpose        ex  2021-09-22   322  \n",
       "3  plaintiff/petitionerevidence  cs(comm)  2021-09-23   321  \n",
       "4             misccases/purpose  cs(comm)  2021-09-29   315  "
      ]
     },
     "execution_count": 11,
     "metadata": {},
     "output_type": "execute_result"
    }
   ],
   "source": [
    "df.head()"
   ]
  },
  {
   "cell_type": "code",
   "execution_count": 12,
   "id": "3382721b-efae-4661-9d9c-cd6aad9e52bb",
   "metadata": {},
   "outputs": [],
   "source": [
    "del df['Date']"
   ]
  },
  {
   "cell_type": "code",
   "execution_count": 13,
   "id": "83fe0554-7eb1-4368-b2dc-858cf0490791",
   "metadata": {},
   "outputs": [
    {
     "data": {
      "text/html": [
       "<div>\n",
       "<style scoped>\n",
       "    .dataframe tbody tr th:only-of-type {\n",
       "        vertical-align: middle;\n",
       "    }\n",
       "\n",
       "    .dataframe tbody tr th {\n",
       "        vertical-align: top;\n",
       "    }\n",
       "\n",
       "    .dataframe thead th {\n",
       "        text-align: right;\n",
       "    }\n",
       "</style>\n",
       "<table border=\"1\" class=\"dataframe\">\n",
       "  <thead>\n",
       "    <tr style=\"text-align: right;\">\n",
       "      <th></th>\n",
       "      <th>KeyWord</th>\n",
       "      <th>ActSubCase</th>\n",
       "      <th>Stage</th>\n",
       "      <th>Type</th>\n",
       "      <th>Date_new</th>\n",
       "      <th>days</th>\n",
       "    </tr>\n",
       "  </thead>\n",
       "  <tbody>\n",
       "    <tr>\n",
       "      <th>0</th>\n",
       "      <td>recoveryofmoney</td>\n",
       "      <td>370</td>\n",
       "      <td>misccases/purpose</td>\n",
       "      <td>cs(comm)</td>\n",
       "      <td>2021-05-01</td>\n",
       "      <td>466</td>\n",
       "    </tr>\n",
       "    <tr>\n",
       "      <th>1</th>\n",
       "      <td>permanentinjuction</td>\n",
       "      <td>730</td>\n",
       "      <td>misccases/purpose</td>\n",
       "      <td>csdj</td>\n",
       "      <td>2021-07-09</td>\n",
       "      <td>397</td>\n",
       "    </tr>\n",
       "    <tr>\n",
       "      <th>2</th>\n",
       "      <td>executionact1990</td>\n",
       "      <td>10</td>\n",
       "      <td>misccases/purpose</td>\n",
       "      <td>ex</td>\n",
       "      <td>2021-09-22</td>\n",
       "      <td>322</td>\n",
       "    </tr>\n",
       "    <tr>\n",
       "      <th>3</th>\n",
       "      <td>recoveryofmoney</td>\n",
       "      <td>2(1)(c)(i)</td>\n",
       "      <td>plaintiff/petitionerevidence</td>\n",
       "      <td>cs(comm)</td>\n",
       "      <td>2021-09-23</td>\n",
       "      <td>321</td>\n",
       "    </tr>\n",
       "    <tr>\n",
       "      <th>4</th>\n",
       "      <td>recoveryofmoney</td>\n",
       "      <td>1510</td>\n",
       "      <td>misccases/purpose</td>\n",
       "      <td>cs(comm)</td>\n",
       "      <td>2021-09-29</td>\n",
       "      <td>315</td>\n",
       "    </tr>\n",
       "  </tbody>\n",
       "</table>\n",
       "</div>"
      ],
      "text/plain": [
       "              KeyWord  ActSubCase                         Stage      Type  \\\n",
       "0     recoveryofmoney         370             misccases/purpose  cs(comm)   \n",
       "1  permanentinjuction         730             misccases/purpose      csdj   \n",
       "2    executionact1990          10             misccases/purpose        ex   \n",
       "3     recoveryofmoney  2(1)(c)(i)  plaintiff/petitionerevidence  cs(comm)   \n",
       "4     recoveryofmoney        1510             misccases/purpose  cs(comm)   \n",
       "\n",
       "     Date_new  days  \n",
       "0  2021-05-01   466  \n",
       "1  2021-07-09   397  \n",
       "2  2021-09-22   322  \n",
       "3  2021-09-23   321  \n",
       "4  2021-09-29   315  "
      ]
     },
     "execution_count": 13,
     "metadata": {},
     "output_type": "execute_result"
    }
   ],
   "source": [
    "df.head()"
   ]
  },
  {
   "cell_type": "code",
   "execution_count": 14,
   "id": "b907f656-6858-4d32-b40e-05d03bdb2ced",
   "metadata": {},
   "outputs": [
    {
     "data": {
      "text/plain": [
       "37"
      ]
     },
     "execution_count": 14,
     "metadata": {},
     "output_type": "execute_result"
    }
   ],
   "source": [
    "len(df['KeyWord'].drop_duplicates())"
   ]
  },
  {
   "cell_type": "code",
   "execution_count": 15,
   "id": "c6cc219e-d7b4-4c6f-a624-b4433fe1f220",
   "metadata": {},
   "outputs": [
    {
     "name": "stdout",
     "output_type": "stream",
     "text": [
      "completed\n"
     ]
    }
   ],
   "source": [
    "for p in df['KeyWord']:\n",
    "    if type(p)!= str:\n",
    "        print('found ya..!!')\n",
    "print('completed')"
   ]
  },
  {
   "cell_type": "code",
   "execution_count": 18,
   "id": "f733611a-c25f-442b-94cb-e0af82497c26",
   "metadata": {},
   "outputs": [],
   "source": [
    "data = df.values"
   ]
  },
  {
   "cell_type": "code",
   "execution_count": 19,
   "id": "87d2323b-fc18-45da-990d-35509be0c446",
   "metadata": {},
   "outputs": [
    {
     "data": {
      "text/plain": [
       "array([['recoveryofmoney', '370', 'misccases/purpose', 'cs(comm)',\n",
       "        '2021-05-01', 466],\n",
       "       ['permanentinjuction', '730', 'misccases/purpose', 'csdj',\n",
       "        '2021-07-09', 397],\n",
       "       ['executionact1990', '10', 'misccases/purpose', 'ex',\n",
       "        '2021-09-22', 322],\n",
       "       ...,\n",
       "       ['industrialdisputesact,1947', '120',\n",
       "        'plaintiff/petitionerevidence', 'lir', '2017-01-16', 2032],\n",
       "       ['industrialdisputesact,1947', '100', 'miscarguments', 'lir',\n",
       "        '2017-01-20', 2028],\n",
       "       ['industrialdisputesact,1947', '2a',\n",
       "        'plaintiff/petitionerevidence', 'lir', '2017-05-29', 1899]],\n",
       "      dtype=object)"
      ]
     },
     "execution_count": 19,
     "metadata": {},
     "output_type": "execute_result"
    }
   ],
   "source": [
    "data"
   ]
  },
  {
   "cell_type": "code",
   "execution_count": 20,
   "id": "d68c373e-94b8-47ff-94c8-773099644ac0",
   "metadata": {},
   "outputs": [
    {
     "data": {
      "text/plain": [
       "(224, 6)"
      ]
     },
     "execution_count": 20,
     "metadata": {},
     "output_type": "execute_result"
    }
   ],
   "source": [
    "data.shape"
   ]
  },
  {
   "cell_type": "code",
   "execution_count": 23,
   "id": "4cdf626d-bdf1-49c8-a959-fdad0a07f400",
   "metadata": {},
   "outputs": [
    {
     "data": {
      "text/plain": [
       "224"
      ]
     },
     "execution_count": 23,
     "metadata": {},
     "output_type": "execute_result"
    }
   ],
   "source": [
    "len(data[:, 0])"
   ]
  },
  {
   "cell_type": "code",
   "execution_count": 24,
   "id": "8c87be7f-cb04-4a98-bd15-b380502f9735",
   "metadata": {},
   "outputs": [],
   "source": [
    "from sklearn.compose import ColumnTransformer\n",
    "from sklearn.preprocessing import OneHotEncoder"
   ]
  },
  {
   "cell_type": "code",
   "execution_count": 28,
   "id": "38151825-ae79-4660-9f6f-2ef32cb820f2",
   "metadata": {},
   "outputs": [],
   "source": [
    "ct = ColumnTransformer(transformers=[('encoder',OneHotEncoder(),[0])], remainder='passthrough')"
   ]
  },
  {
   "cell_type": "code",
   "execution_count": 30,
   "id": "78b15030-9ce2-42b9-ae57-605c2e557c98",
   "metadata": {},
   "outputs": [],
   "source": [
    "y= data[:,0]"
   ]
  },
  {
   "cell_type": "code",
   "execution_count": 32,
   "id": "2eeb23bc-444d-48c4-a663-23656dfc3081",
   "metadata": {},
   "outputs": [],
   "source": [
    "y.shape= (len(y), 1)"
   ]
  },
  {
   "cell_type": "code",
   "execution_count": 33,
   "id": "745415a3-2830-4468-b83d-773f7eace1fb",
   "metadata": {},
   "outputs": [],
   "source": [
    "y=np.array(ct.fit_transform(y))"
   ]
  },
  {
   "cell_type": "code",
   "execution_count": 34,
   "id": "1b38ec8c-f9c7-4f06-a879-8cd7bb0a48c0",
   "metadata": {},
   "outputs": [
    {
     "data": {
      "text/plain": [
       "array(<224x37 sparse matrix of type '<class 'numpy.float64'>'\n",
       "\twith 224 stored elements in Compressed Sparse Row format>, dtype=object)"
      ]
     },
     "execution_count": 34,
     "metadata": {},
     "output_type": "execute_result"
    }
   ],
   "source": [
    "y"
   ]
  },
  {
   "cell_type": "code",
   "execution_count": 35,
   "id": "ed06bea6-1594-41db-a744-7a2444865ab4",
   "metadata": {},
   "outputs": [
    {
     "name": "stdout",
     "output_type": "stream",
     "text": [
      "  (0, 29)\t1.0\n",
      "  (1, 23)\t1.0\n",
      "  (2, 11)\t1.0\n",
      "  (3, 29)\t1.0\n",
      "  (4, 29)\t1.0\n",
      "  (5, 11)\t1.0\n",
      "  (6, 21)\t1.0\n",
      "  (7, 29)\t1.0\n",
      "  (8, 29)\t1.0\n",
      "  (9, 4)\t1.0\n",
      "  (10, 29)\t1.0\n",
      "  (11, 29)\t1.0\n",
      "  (12, 18)\t1.0\n",
      "  (13, 29)\t1.0\n",
      "  (14, 29)\t1.0\n",
      "  (15, 29)\t1.0\n",
      "  (16, 3)\t1.0\n",
      "  (17, 29)\t1.0\n",
      "  (18, 27)\t1.0\n",
      "  (19, 1)\t1.0\n",
      "  (20, 4)\t1.0\n",
      "  (21, 29)\t1.0\n",
      "  (22, 31)\t1.0\n",
      "  (23, 1)\t1.0\n",
      "  (24, 11)\t1.0\n",
      "  :\t:\n",
      "  (199, 29)\t1.0\n",
      "  (200, 36)\t1.0\n",
      "  (201, 1)\t1.0\n",
      "  (202, 11)\t1.0\n",
      "  (203, 18)\t1.0\n",
      "  (204, 30)\t1.0\n",
      "  (205, 5)\t1.0\n",
      "  (206, 5)\t1.0\n",
      "  (207, 34)\t1.0\n",
      "  (208, 29)\t1.0\n",
      "  (209, 24)\t1.0\n",
      "  (210, 29)\t1.0\n",
      "  (211, 15)\t1.0\n",
      "  (212, 15)\t1.0\n",
      "  (213, 15)\t1.0\n",
      "  (214, 15)\t1.0\n",
      "  (215, 15)\t1.0\n",
      "  (216, 15)\t1.0\n",
      "  (217, 15)\t1.0\n",
      "  (218, 15)\t1.0\n",
      "  (219, 15)\t1.0\n",
      "  (220, 15)\t1.0\n",
      "  (221, 15)\t1.0\n",
      "  (222, 15)\t1.0\n",
      "  (223, 15)\t1.0\n"
     ]
    }
   ],
   "source": [
    "print(y)"
   ]
  },
  {
   "cell_type": "code",
   "execution_count": null,
   "id": "c2edcbaa-62b4-4d1a-b8b2-d8e80cb349c6",
   "metadata": {},
   "outputs": [],
   "source": []
  }
 ],
 "metadata": {
  "kernelspec": {
   "display_name": "Python 3 (ipykernel)",
   "language": "python",
   "name": "python3"
  },
  "language_info": {
   "codemirror_mode": {
    "name": "ipython",
    "version": 3
   },
   "file_extension": ".py",
   "mimetype": "text/x-python",
   "name": "python",
   "nbconvert_exporter": "python",
   "pygments_lexer": "ipython3",
   "version": "3.9.7"
  },
  "widgets": {
   "application/vnd.jupyter.widget-state+json": {
    "state": {},
    "version_major": 2,
    "version_minor": 0
   }
  }
 },
 "nbformat": 4,
 "nbformat_minor": 5
}
