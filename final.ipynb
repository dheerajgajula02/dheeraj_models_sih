{
 "cells": [
  {
   "cell_type": "code",
   "execution_count": 1,
   "id": "6b295be1-f24d-49c7-a3a8-26c1f10a1e20",
   "metadata": {},
   "outputs": [],
   "source": [
    "import numpy as np\n",
    "import pandas as pd"
   ]
  },
  {
   "cell_type": "code",
   "execution_count": 2,
   "id": "d6e170f8-8d6d-49d4-94ce-64c4e58f9687",
   "metadata": {},
   "outputs": [],
   "source": [
    "data = pd.read_csv('clean_2.csv')"
   ]
  },
  {
   "cell_type": "code",
   "execution_count": 3,
   "id": "be5b25fb-1dbf-471b-acd9-2daadf55281c",
   "metadata": {},
   "outputs": [
    {
     "data": {
      "text/html": [
       "<div>\n",
       "<style scoped>\n",
       "    .dataframe tbody tr th:only-of-type {\n",
       "        vertical-align: middle;\n",
       "    }\n",
       "\n",
       "    .dataframe tbody tr th {\n",
       "        vertical-align: top;\n",
       "    }\n",
       "\n",
       "    .dataframe thead th {\n",
       "        text-align: right;\n",
       "    }\n",
       "</style>\n",
       "<table border=\"1\" class=\"dataframe\">\n",
       "  <thead>\n",
       "    <tr style=\"text-align: right;\">\n",
       "      <th></th>\n",
       "      <th>Unnamed: 0</th>\n",
       "      <th>Date</th>\n",
       "      <th>KeyWord</th>\n",
       "      <th>ActSubCase</th>\n",
       "      <th>Stage</th>\n",
       "      <th>Type</th>\n",
       "      <th>Date_new</th>\n",
       "      <th>days</th>\n",
       "    </tr>\n",
       "  </thead>\n",
       "  <tbody>\n",
       "    <tr>\n",
       "      <th>0</th>\n",
       "      <td>0</td>\n",
       "      <td>2021-05-01 00:00:00</td>\n",
       "      <td>recoveryofmoney</td>\n",
       "      <td>370</td>\n",
       "      <td>misccases/purpose</td>\n",
       "      <td>cs(comm)</td>\n",
       "      <td>2021-05-01</td>\n",
       "      <td>466</td>\n",
       "    </tr>\n",
       "    <tr>\n",
       "      <th>1</th>\n",
       "      <td>1</td>\n",
       "      <td>2021-07-09 00:00:00</td>\n",
       "      <td>permanentinjuction</td>\n",
       "      <td>730</td>\n",
       "      <td>misccases/purpose</td>\n",
       "      <td>csdj</td>\n",
       "      <td>2021-07-09</td>\n",
       "      <td>397</td>\n",
       "    </tr>\n",
       "    <tr>\n",
       "      <th>2</th>\n",
       "      <td>2</td>\n",
       "      <td>22-9-2021</td>\n",
       "      <td>executionact1990</td>\n",
       "      <td>10</td>\n",
       "      <td>misccases/purpose</td>\n",
       "      <td>ex</td>\n",
       "      <td>2021-09-22</td>\n",
       "      <td>322</td>\n",
       "    </tr>\n",
       "    <tr>\n",
       "      <th>3</th>\n",
       "      <td>3</td>\n",
       "      <td>23-9-2021</td>\n",
       "      <td>recoveryofmoney</td>\n",
       "      <td>2(1)(c)(i)</td>\n",
       "      <td>plaintiff/petitionerevidence</td>\n",
       "      <td>cs(comm)</td>\n",
       "      <td>2021-09-23</td>\n",
       "      <td>321</td>\n",
       "    </tr>\n",
       "    <tr>\n",
       "      <th>4</th>\n",
       "      <td>4</td>\n",
       "      <td>29-9-2021</td>\n",
       "      <td>recoveryofmoney</td>\n",
       "      <td>1510</td>\n",
       "      <td>misccases/purpose</td>\n",
       "      <td>cs(comm)</td>\n",
       "      <td>2021-09-29</td>\n",
       "      <td>315</td>\n",
       "    </tr>\n",
       "  </tbody>\n",
       "</table>\n",
       "</div>"
      ],
      "text/plain": [
       "   Unnamed: 0                 Date             KeyWord  ActSubCase  \\\n",
       "0           0  2021-05-01 00:00:00     recoveryofmoney         370   \n",
       "1           1  2021-07-09 00:00:00  permanentinjuction         730   \n",
       "2           2            22-9-2021    executionact1990          10   \n",
       "3           3            23-9-2021     recoveryofmoney  2(1)(c)(i)   \n",
       "4           4            29-9-2021     recoveryofmoney        1510   \n",
       "\n",
       "                          Stage      Type    Date_new  days  \n",
       "0             misccases/purpose  cs(comm)  2021-05-01   466  \n",
       "1             misccases/purpose      csdj  2021-07-09   397  \n",
       "2             misccases/purpose        ex  2021-09-22   322  \n",
       "3  plaintiff/petitionerevidence  cs(comm)  2021-09-23   321  \n",
       "4             misccases/purpose  cs(comm)  2021-09-29   315  "
      ]
     },
     "execution_count": 3,
     "metadata": {},
     "output_type": "execute_result"
    }
   ],
   "source": [
    "data.head()"
   ]
  },
  {
   "cell_type": "code",
   "execution_count": 4,
   "id": "e22415a0-747b-4008-ae63-6b6106490258",
   "metadata": {},
   "outputs": [],
   "source": [
    "score=[]\n",
    "for i in range(0, len(data)):\n",
    "    if data['Stage'][i]=='misccases/purpose':\n",
    "      score.append(round(np.random.uniform(4,5), 2))\n",
    "    elif data['Stage'][i]=='plaintiff/petitionerevidence':\n",
    "      score.append(round(np.random.uniform(9,10),2))\n",
    "    elif data['Stage'][i]=='misc/appearance':\n",
    "      score.append(round(np.random.uniform(5,6), 2))\n",
    "    elif data['Stage'][i]=='miscarguments':\n",
    "      score.append(round(np.random.uniform(7,8),2))\n",
    "    elif data['Stage'][i]=='trafficchallan':\n",
    "      score.append(round(np.random.uniform(1,2),2))\n",
    "    elif data['Stage'][i]=='trafficchalan':\n",
    "      score.append(round(np.random.uniform(1, 2), 2))\n",
    "    elif data['Stage'][i]=='issues':\n",
    "      score.append(round(np.random.uniform(4,5),2))\n",
    "    elif data['Stage'][i]=='prosecutionevidence':\n",
    "      score.append(round(np.random.uniform(9, 10), 2))\n",
    "    elif data['Stage'][i]=='charge':\n",
    "      score.append(round(np.random.uniform(3,4),2))\n",
    "    elif data['Stage'][i]=='arguments':\n",
    "      score.append(round(np.random.uniform(7,8), 2))\n",
    "    elif data['Stage'][i]=='misccases/appearance':\n",
    "      score.append(round(np.random.uniform(5,6),2))\n",
    "    elif data['Stage'][i]=='miscargument':\n",
    "      score.append(round(np.random.uniform(7,8), 2))\n",
    "    elif data['Stage'][i]=='misccase':\n",
    "      score.append(round(np.random.uniform(6,7),2))\n",
    "    elif data['Stage'][i]=='finalarguments':\n",
    "      score.append(round(np.random.uniform(7,8),2))\n",
    "    elif data['Stage'][i]=='misccases':\n",
    "      score.append(round(np.random.uniform(6, 7), 2))\n",
    "    elif data['Stage'][i]=='miscarguements':\n",
    "      score.append(round(np.random.uniform(7,8),2))\n",
    "    elif data['Stage'][i]=='order':\n",
    "      score.append(round(np.random.uniform(8,9), 2))\n",
    "    elif data['Stage'][i]=='defendant/respondentevidence':\n",
    "      score.append(round(np.random.uniform(9,10), 2))"
   ]
  },
  {
   "cell_type": "code",
   "execution_count": 5,
   "id": "6fd41b11-9f58-4701-af86-0a4b694b2299",
   "metadata": {},
   "outputs": [
    {
     "data": {
      "text/plain": [
       "224"
      ]
     },
     "execution_count": 5,
     "metadata": {},
     "output_type": "execute_result"
    }
   ],
   "source": [
    "len(score)"
   ]
  },
  {
   "cell_type": "code",
   "execution_count": 6,
   "id": "6e4b0e13-9a19-413e-81f9-559465e3d257",
   "metadata": {},
   "outputs": [
    {
     "data": {
      "text/plain": [
       "list"
      ]
     },
     "execution_count": 6,
     "metadata": {},
     "output_type": "execute_result"
    }
   ],
   "source": [
    "type(score)"
   ]
  },
  {
   "cell_type": "code",
   "execution_count": 7,
   "id": "7da3651e-1b34-432d-8768-8a5d3c224b6f",
   "metadata": {},
   "outputs": [],
   "source": [
    "score = np.array(score)"
   ]
  },
  {
   "cell_type": "code",
   "execution_count": 8,
   "id": "d341df30-62e5-4e27-8cab-03fbb7ca2382",
   "metadata": {},
   "outputs": [
    {
     "data": {
      "text/plain": [
       "numpy.ndarray"
      ]
     },
     "execution_count": 8,
     "metadata": {},
     "output_type": "execute_result"
    }
   ],
   "source": [
    "type(score)"
   ]
  },
  {
   "cell_type": "code",
   "execution_count": 9,
   "id": "9f4a8644-bdb8-47a5-b9b8-9e42effc55eb",
   "metadata": {},
   "outputs": [
    {
     "data": {
      "text/plain": [
       "numpy.float64"
      ]
     },
     "execution_count": 9,
     "metadata": {},
     "output_type": "execute_result"
    }
   ],
   "source": [
    "type(score[0])"
   ]
  },
  {
   "cell_type": "code",
   "execution_count": 10,
   "id": "ddd11c08-9ec4-4972-abf7-7ff9ed0c33fd",
   "metadata": {},
   "outputs": [],
   "source": [
    "del data['Unnamed: 0']"
   ]
  },
  {
   "cell_type": "code",
   "execution_count": 11,
   "id": "3074a20b-c000-4b53-91c2-64212dcfb037",
   "metadata": {},
   "outputs": [
    {
     "data": {
      "text/html": [
       "<div>\n",
       "<style scoped>\n",
       "    .dataframe tbody tr th:only-of-type {\n",
       "        vertical-align: middle;\n",
       "    }\n",
       "\n",
       "    .dataframe tbody tr th {\n",
       "        vertical-align: top;\n",
       "    }\n",
       "\n",
       "    .dataframe thead th {\n",
       "        text-align: right;\n",
       "    }\n",
       "</style>\n",
       "<table border=\"1\" class=\"dataframe\">\n",
       "  <thead>\n",
       "    <tr style=\"text-align: right;\">\n",
       "      <th></th>\n",
       "      <th>Date</th>\n",
       "      <th>KeyWord</th>\n",
       "      <th>ActSubCase</th>\n",
       "      <th>Stage</th>\n",
       "      <th>Type</th>\n",
       "      <th>Date_new</th>\n",
       "      <th>days</th>\n",
       "    </tr>\n",
       "  </thead>\n",
       "  <tbody>\n",
       "    <tr>\n",
       "      <th>0</th>\n",
       "      <td>2021-05-01 00:00:00</td>\n",
       "      <td>recoveryofmoney</td>\n",
       "      <td>370</td>\n",
       "      <td>misccases/purpose</td>\n",
       "      <td>cs(comm)</td>\n",
       "      <td>2021-05-01</td>\n",
       "      <td>466</td>\n",
       "    </tr>\n",
       "    <tr>\n",
       "      <th>1</th>\n",
       "      <td>2021-07-09 00:00:00</td>\n",
       "      <td>permanentinjuction</td>\n",
       "      <td>730</td>\n",
       "      <td>misccases/purpose</td>\n",
       "      <td>csdj</td>\n",
       "      <td>2021-07-09</td>\n",
       "      <td>397</td>\n",
       "    </tr>\n",
       "    <tr>\n",
       "      <th>2</th>\n",
       "      <td>22-9-2021</td>\n",
       "      <td>executionact1990</td>\n",
       "      <td>10</td>\n",
       "      <td>misccases/purpose</td>\n",
       "      <td>ex</td>\n",
       "      <td>2021-09-22</td>\n",
       "      <td>322</td>\n",
       "    </tr>\n",
       "    <tr>\n",
       "      <th>3</th>\n",
       "      <td>23-9-2021</td>\n",
       "      <td>recoveryofmoney</td>\n",
       "      <td>2(1)(c)(i)</td>\n",
       "      <td>plaintiff/petitionerevidence</td>\n",
       "      <td>cs(comm)</td>\n",
       "      <td>2021-09-23</td>\n",
       "      <td>321</td>\n",
       "    </tr>\n",
       "    <tr>\n",
       "      <th>4</th>\n",
       "      <td>29-9-2021</td>\n",
       "      <td>recoveryofmoney</td>\n",
       "      <td>1510</td>\n",
       "      <td>misccases/purpose</td>\n",
       "      <td>cs(comm)</td>\n",
       "      <td>2021-09-29</td>\n",
       "      <td>315</td>\n",
       "    </tr>\n",
       "  </tbody>\n",
       "</table>\n",
       "</div>"
      ],
      "text/plain": [
       "                  Date             KeyWord  ActSubCase  \\\n",
       "0  2021-05-01 00:00:00     recoveryofmoney         370   \n",
       "1  2021-07-09 00:00:00  permanentinjuction         730   \n",
       "2            22-9-2021    executionact1990          10   \n",
       "3            23-9-2021     recoveryofmoney  2(1)(c)(i)   \n",
       "4            29-9-2021     recoveryofmoney        1510   \n",
       "\n",
       "                          Stage      Type    Date_new  days  \n",
       "0             misccases/purpose  cs(comm)  2021-05-01   466  \n",
       "1             misccases/purpose      csdj  2021-07-09   397  \n",
       "2             misccases/purpose        ex  2021-09-22   322  \n",
       "3  plaintiff/petitionerevidence  cs(comm)  2021-09-23   321  \n",
       "4             misccases/purpose  cs(comm)  2021-09-29   315  "
      ]
     },
     "execution_count": 11,
     "metadata": {},
     "output_type": "execute_result"
    }
   ],
   "source": [
    "data.head()"
   ]
  },
  {
   "cell_type": "code",
   "execution_count": 12,
   "id": "02eac27a-8eb1-41a2-b7dd-21f7ced80c6c",
   "metadata": {},
   "outputs": [],
   "source": [
    "x=data.values"
   ]
  },
  {
   "cell_type": "code",
   "execution_count": 13,
   "id": "b444c63d-4507-4c7a-9773-030ffaaa257b",
   "metadata": {},
   "outputs": [],
   "source": [
    "from sklearn.compose import ColumnTransformer\n",
    "from sklearn.preprocessing import OneHotEncoder"
   ]
  },
  {
   "cell_type": "code",
   "execution_count": 14,
   "id": "390a0c4c-f0eb-4a3a-a076-7f9b17c56636",
   "metadata": {},
   "outputs": [],
   "source": [
    "ctkw = ColumnTransformer(transformers=[('encoder', OneHotEncoder(),[0])], remainder='passthrough')"
   ]
  },
  {
   "cell_type": "code",
   "execution_count": 15,
   "id": "49b7e6c3-6e12-45b9-b61d-274f6f6b76d0",
   "metadata": {},
   "outputs": [],
   "source": [
    "tempkw = x[:, 1]"
   ]
  },
  {
   "cell_type": "code",
   "execution_count": 16,
   "id": "d17d679c-ec64-459c-ad54-6a2e07d667e4",
   "metadata": {},
   "outputs": [],
   "source": [
    "tempkw.shape= (len(tempkw), 1)"
   ]
  },
  {
   "cell_type": "code",
   "execution_count": 17,
   "id": "cdbe0e54-afd8-4cb3-844e-fd6fd7bd29e6",
   "metadata": {},
   "outputs": [
    {
     "data": {
      "text/plain": [
       "(224, 1)"
      ]
     },
     "execution_count": 17,
     "metadata": {},
     "output_type": "execute_result"
    }
   ],
   "source": [
    "tempkw.shape"
   ]
  },
  {
   "cell_type": "code",
   "execution_count": 18,
   "id": "1e1d8331-c99b-42bc-9b9f-883f6ec4f41e",
   "metadata": {},
   "outputs": [],
   "source": [
    "k1 = ctkw.fit_transform(tempkw)"
   ]
  },
  {
   "cell_type": "code",
   "execution_count": 19,
   "id": "4f107809-c540-4586-88d8-0267967412e2",
   "metadata": {},
   "outputs": [
    {
     "data": {
      "text/plain": [
       "(224, 37)"
      ]
     },
     "execution_count": 19,
     "metadata": {},
     "output_type": "execute_result"
    }
   ],
   "source": [
    "k1.shape"
   ]
  },
  {
   "cell_type": "code",
   "execution_count": 20,
   "id": "08fb7f6a-ced9-4e67-a5aa-80c32a2fd65d",
   "metadata": {},
   "outputs": [],
   "source": [
    "tempacs= x[:, 2]"
   ]
  },
  {
   "cell_type": "code",
   "execution_count": 21,
   "id": "7d014c77-e1a9-4373-9df4-fe2d6ccbfdfb",
   "metadata": {},
   "outputs": [
    {
     "data": {
      "text/plain": [
       "numpy.ndarray"
      ]
     },
     "execution_count": 21,
     "metadata": {},
     "output_type": "execute_result"
    }
   ],
   "source": [
    "type(tempacs)"
   ]
  },
  {
   "cell_type": "code",
   "execution_count": 22,
   "id": "0ebc8098-068d-44eb-a4d4-20c9861e989c",
   "metadata": {},
   "outputs": [
    {
     "data": {
      "text/plain": [
       "(224,)"
      ]
     },
     "execution_count": 22,
     "metadata": {},
     "output_type": "execute_result"
    }
   ],
   "source": [
    "tempacs.shape"
   ]
  },
  {
   "cell_type": "code",
   "execution_count": 23,
   "id": "a9817ffa-c846-457e-a7b3-7e0402035f8c",
   "metadata": {},
   "outputs": [],
   "source": [
    "tempacs.shape=(len(tempacs),1 )"
   ]
  },
  {
   "cell_type": "code",
   "execution_count": 24,
   "id": "e9606c34-647b-4dba-a3e6-2d98f3c72477",
   "metadata": {},
   "outputs": [
    {
     "data": {
      "text/plain": [
       "(224, 1)"
      ]
     },
     "execution_count": 24,
     "metadata": {},
     "output_type": "execute_result"
    }
   ],
   "source": [
    "tempacs.shape"
   ]
  },
  {
   "cell_type": "code",
   "execution_count": 25,
   "id": "ec255e3f-e354-4250-8593-d01a1ac927cf",
   "metadata": {},
   "outputs": [],
   "source": [
    "ctacs = ColumnTransformer(transformers=[('encoder', OneHotEncoder(),[0])], remainder='passthrough')"
   ]
  },
  {
   "cell_type": "code",
   "execution_count": 26,
   "id": "5ebb7af8-8821-48b6-bf3c-aed0023beacd",
   "metadata": {},
   "outputs": [],
   "source": [
    "k2 = ctacs.fit_transform(tempacs)"
   ]
  },
  {
   "cell_type": "code",
   "execution_count": 27,
   "id": "805d6aa8-f90f-4291-b29b-9eef1f7bed18",
   "metadata": {},
   "outputs": [
    {
     "data": {
      "text/plain": [
       "(224, 80)"
      ]
     },
     "execution_count": 27,
     "metadata": {},
     "output_type": "execute_result"
    }
   ],
   "source": [
    "k2.shape"
   ]
  },
  {
   "cell_type": "code",
   "execution_count": 28,
   "id": "f6655c06-9a4c-4ead-be9a-5807d398a360",
   "metadata": {},
   "outputs": [],
   "source": [
    "ctst = ColumnTransformer(transformers=[('encoder', OneHotEncoder(),[0])], remainder='passthrough')"
   ]
  },
  {
   "cell_type": "code",
   "execution_count": 29,
   "id": "a9fd8bb1-7fb9-4097-9e3c-912ff2a091a2",
   "metadata": {},
   "outputs": [],
   "source": [
    "tempst = x[:, 3]"
   ]
  },
  {
   "cell_type": "code",
   "execution_count": 30,
   "id": "02c50b79-f9dc-484c-b18c-5aa86680986e",
   "metadata": {},
   "outputs": [],
   "source": [
    "tempst.shape= (len(tempst), 1)"
   ]
  },
  {
   "cell_type": "code",
   "execution_count": 31,
   "id": "7a292803-1d6a-4c24-8c08-f20024faf919",
   "metadata": {},
   "outputs": [],
   "source": [
    "k3=ctst.fit_transform(tempst)"
   ]
  },
  {
   "cell_type": "code",
   "execution_count": 32,
   "id": "fe72247e-8485-43ea-971d-c5cbc39b2b17",
   "metadata": {},
   "outputs": [
    {
     "data": {
      "text/plain": [
       "(224, 18)"
      ]
     },
     "execution_count": 32,
     "metadata": {},
     "output_type": "execute_result"
    }
   ],
   "source": [
    "k3.shape"
   ]
  },
  {
   "cell_type": "code",
   "execution_count": 33,
   "id": "9af5fa5d-6884-48e4-8911-7a1a588d2827",
   "metadata": {},
   "outputs": [],
   "source": [
    "ctty = ColumnTransformer(transformers=[('encoder', OneHotEncoder(),[0])], remainder='passthrough')"
   ]
  },
  {
   "cell_type": "code",
   "execution_count": 34,
   "id": "588807c7-63b9-4ccf-94ea-130edd3724d7",
   "metadata": {},
   "outputs": [],
   "source": [
    "tempty = x[:, 4]"
   ]
  },
  {
   "cell_type": "code",
   "execution_count": 35,
   "id": "0e546142-f63b-4d9a-8451-db0de95dbe4b",
   "metadata": {},
   "outputs": [
    {
     "data": {
      "text/plain": [
       "(224,)"
      ]
     },
     "execution_count": 35,
     "metadata": {},
     "output_type": "execute_result"
    }
   ],
   "source": [
    "tempty.shape"
   ]
  },
  {
   "cell_type": "code",
   "execution_count": 36,
   "id": "7ec85a51-464a-425b-b8bf-bf5b202e538d",
   "metadata": {},
   "outputs": [],
   "source": [
    "tempty.shape = (len(tempty), 1)"
   ]
  },
  {
   "cell_type": "code",
   "execution_count": 37,
   "id": "dee85463-3996-4c28-bcea-2b7b827d41d6",
   "metadata": {},
   "outputs": [],
   "source": [
    "k4=ctty.fit_transform(tempty)"
   ]
  },
  {
   "cell_type": "code",
   "execution_count": 38,
   "id": "4748dd36-39d4-462f-8d46-0c767e8cd5bd",
   "metadata": {},
   "outputs": [
    {
     "data": {
      "text/plain": [
       "(224, 30)"
      ]
     },
     "execution_count": 38,
     "metadata": {},
     "output_type": "execute_result"
    }
   ],
   "source": [
    "k4.shape"
   ]
  },
  {
   "cell_type": "code",
   "execution_count": 39,
   "id": "eb33ab73-df3f-49fb-b5b6-7df779c94087",
   "metadata": {},
   "outputs": [],
   "source": [
    "from scipy.sparse import hstack"
   ]
  },
  {
   "cell_type": "code",
   "execution_count": 105,
   "id": "c14fde4b-f936-4699-b40e-fb0dcdedae32",
   "metadata": {},
   "outputs": [],
   "source": [
    "final = hstack((k1,k2))"
   ]
  },
  {
   "cell_type": "code",
   "execution_count": 106,
   "id": "586a8291-4561-46da-a41e-9ec6f53eeb17",
   "metadata": {},
   "outputs": [],
   "source": [
    "final = hstack((final, k3))"
   ]
  },
  {
   "cell_type": "code",
   "execution_count": 107,
   "id": "6b6b47f4-5553-4534-a5b0-9127246df87e",
   "metadata": {},
   "outputs": [],
   "source": [
    "final = hstack((final, k4))"
   ]
  },
  {
   "cell_type": "code",
   "execution_count": 108,
   "id": "c033b1c6-9ccf-4d28-a43a-035a7b7ad923",
   "metadata": {},
   "outputs": [
    {
     "data": {
      "text/plain": [
       "(224, 165)"
      ]
     },
     "execution_count": 108,
     "metadata": {},
     "output_type": "execute_result"
    }
   ],
   "source": [
    "final.shape"
   ]
  },
  {
   "cell_type": "code",
   "execution_count": 109,
   "id": "b839b5f5-70c8-460b-9388-c53d8bd0f106",
   "metadata": {},
   "outputs": [],
   "source": [
    "score.shape= (len(score), 1)"
   ]
  },
  {
   "cell_type": "code",
   "execution_count": 110,
   "id": "bfc69945-a5d0-4588-b2d1-d9f2f9183e3b",
   "metadata": {},
   "outputs": [
    {
     "data": {
      "text/plain": [
       "(224, 1)"
      ]
     },
     "execution_count": 110,
     "metadata": {},
     "output_type": "execute_result"
    }
   ],
   "source": [
    "score.shape"
   ]
  },
  {
   "cell_type": "code",
   "execution_count": 111,
   "id": "4d506255-2c38-47fd-9635-05d1d02debd1",
   "metadata": {},
   "outputs": [],
   "source": [
    "final = final.toarray()"
   ]
  },
  {
   "cell_type": "code",
   "execution_count": 112,
   "id": "a68666bf-3144-4edf-b657-74aa9932fdfd",
   "metadata": {},
   "outputs": [
    {
     "data": {
      "text/plain": [
       "(224, 165)"
      ]
     },
     "execution_count": 112,
     "metadata": {},
     "output_type": "execute_result"
    }
   ],
   "source": [
    "final.shape"
   ]
  },
  {
   "cell_type": "code",
   "execution_count": 113,
   "id": "a0134c73-02ed-4249-8eff-3a1cf29d6113",
   "metadata": {},
   "outputs": [],
   "source": [
    "dys = data['days']"
   ]
  },
  {
   "cell_type": "code",
   "execution_count": 114,
   "id": "42331054-c8b5-42b5-8d60-4d94f6cf36e4",
   "metadata": {},
   "outputs": [
    {
     "data": {
      "text/plain": [
       "pandas.core.series.Series"
      ]
     },
     "execution_count": 114,
     "metadata": {},
     "output_type": "execute_result"
    }
   ],
   "source": [
    "type(dys)"
   ]
  },
  {
   "cell_type": "code",
   "execution_count": 115,
   "id": "9ab7efae-047e-4b7b-be7d-096dc1147c79",
   "metadata": {},
   "outputs": [],
   "source": [
    "dys =np.array(dys)"
   ]
  },
  {
   "cell_type": "code",
   "execution_count": 116,
   "id": "34785288-e7ab-4719-8e98-4bd9dca29078",
   "metadata": {},
   "outputs": [],
   "source": [
    "dys.shape= (len(dys), 1)"
   ]
  },
  {
   "cell_type": "code",
   "execution_count": 117,
   "id": "e271e4f9-02b3-406a-975b-1bd952e02107",
   "metadata": {},
   "outputs": [
    {
     "data": {
      "text/plain": [
       "(224, 1)"
      ]
     },
     "execution_count": 117,
     "metadata": {},
     "output_type": "execute_result"
    }
   ],
   "source": [
    "dys.shape"
   ]
  },
  {
   "cell_type": "code",
   "execution_count": 100,
   "id": "a154667e-ad1f-4a5c-b1f4-fc9bf560aa46",
   "metadata": {},
   "outputs": [
    {
     "data": {
      "text/plain": [
       "numpy.int64"
      ]
     },
     "execution_count": 118,
     "metadata": {},
     "output_type": "execute_result"
    }
   ],
   "source": [
    "type(dys[0][0])"
   ]
  },
  {
   "cell_type": "code",
   "execution_count": 85,
   "id": "4f5b9540-0450-49c8-9225-c4de9ebe09b5",
   "metadata": {},
   "outputs": [
    {
     "data": {
      "text/plain": [
       "numpy.ndarray"
      ]
     },
     "execution_count": 119,
     "metadata": {},
     "output_type": "execute_result"
    }
   ],
   "source": [
    "type(dys[0])"
   ]
  },
  {
   "cell_type": "code",
   "execution_count": 101,
   "id": "766846ac-144e-4cef-8cdd-979914471695",
   "metadata": {},
   "outputs": [
    {
     "data": {
      "text/plain": [
       "dtype('int64')"
      ]
     },
     "execution_count": 120,
     "metadata": {},
     "output_type": "execute_result"
    }
   ],
   "source": [
    "dys.dtype"
   ]
  },
  {
   "cell_type": "code",
   "execution_count": 102,
   "id": "dbdec098-e98f-43d7-b13e-b21f61160c98",
   "metadata": {},
   "outputs": [],
   "source": [
    "dys = dys.astype(np.float64)"
   ]
  },
  {
   "cell_type": "code",
   "execution_count": 104,
   "id": "2ee07cdb-1b3b-4592-b116-59c278dd80c5",
   "metadata": {},
   "outputs": [
    {
     "data": {
      "text/plain": [
       "numpy.float64"
      ]
     },
     "execution_count": 122,
     "metadata": {},
     "output_type": "execute_result"
    }
   ],
   "source": [
    "type(dys[0][0])"
   ]
  },
  {
   "cell_type": "code",
   "execution_count": 124,
   "id": "a02c0912-f673-46e1-b32c-87d1dee018b5",
   "metadata": {},
   "outputs": [],
   "source": [
    "final=np.column_stack((final, dys))"
   ]
  },
  {
   "cell_type": "code",
   "execution_count": 125,
   "id": "67ae6380-f2d8-4ae0-af62-4d985ba16360",
   "metadata": {},
   "outputs": [
    {
     "data": {
      "text/plain": [
       "array([[   0.,    0.,    0., ...,    0.,    0.,  466.],\n",
       "       [   0.,    0.,    0., ...,    0.,    0.,  397.],\n",
       "       [   0.,    0.,    0., ...,    0.,    0.,  322.],\n",
       "       ...,\n",
       "       [   0.,    0.,    0., ...,    0.,    0., 2032.],\n",
       "       [   0.,    0.,    0., ...,    0.,    0., 2028.],\n",
       "       [   0.,    0.,    0., ...,    0.,    0., 1899.]])"
      ]
     },
     "execution_count": 125,
     "metadata": {},
     "output_type": "execute_result"
    }
   ],
   "source": [
    "final"
   ]
  },
  {
   "cell_type": "code",
   "execution_count": 98,
   "id": "7e27c848-a83a-45c9-9b87-fcb920dbad9d",
   "metadata": {},
   "outputs": [],
   "source": []
  },
  {
   "cell_type": "code",
   "execution_count": null,
   "id": "7187669f-c1a9-430e-b2af-afc6d92df46a",
   "metadata": {},
   "outputs": [],
   "source": []
  },
  {
   "cell_type": "code",
   "execution_count": null,
   "id": "f4f6ce53-d482-4c3d-b9a3-13ebe76ee0cd",
   "metadata": {},
   "outputs": [],
   "source": []
  },
  {
   "cell_type": "code",
   "execution_count": null,
   "id": "7a16de48-182b-41eb-b98b-f76278175e9c",
   "metadata": {},
   "outputs": [],
   "source": []
  },
  {
   "cell_type": "code",
   "execution_count": 126,
   "id": "da2121e0-9a14-4b0c-bc3c-975f91726f4c",
   "metadata": {},
   "outputs": [],
   "source": [
    "import tensorflow as tf"
   ]
  },
  {
   "cell_type": "code",
   "execution_count": 127,
   "id": "92778ce2-aad3-4772-9956-e639e0b1fdd1",
   "metadata": {},
   "outputs": [],
   "source": [
    "ann = tf.keras.Sequential()"
   ]
  },
  {
   "cell_type": "code",
   "execution_count": 128,
   "id": "e3937ad4-97e0-4d89-bc64-be5d9f323454",
   "metadata": {},
   "outputs": [],
   "source": [
    "ann.add(tf.keras.layers.Dense(units=100, activation='relu'))"
   ]
  },
  {
   "cell_type": "code",
   "execution_count": 129,
   "id": "52d0acb0-68aa-469e-a93f-07432c9873fc",
   "metadata": {},
   "outputs": [],
   "source": [
    "ann.add(tf.keras.layers.Dense(units=100, activation='relu'))"
   ]
  },
  {
   "cell_type": "code",
   "execution_count": 130,
   "id": "66aeea8e-9ccd-4b1a-9fef-42fe2dec91f7",
   "metadata": {},
   "outputs": [],
   "source": [
    "ann.add(tf.keras.layers.Dense(units=100, activation='relu'))\n"
   ]
  },
  {
   "cell_type": "code",
   "execution_count": 131,
   "id": "203d6384-3119-4766-8dbd-f02099b83d78",
   "metadata": {},
   "outputs": [],
   "source": [
    "for i in range(0, 20):\n",
    "    ann.add(tf.keras.layers.Dense(units=100, activation='relu'))"
   ]
  },
  {
   "cell_type": "code",
   "execution_count": 132,
   "id": "81158eec-5693-4202-9048-a63c59fa368e",
   "metadata": {},
   "outputs": [],
   "source": [
    "ann.compile(optimizer= 'adam' , loss='mean_squared_error' )"
   ]
  },
  {
   "cell_type": "code",
   "execution_count": 133,
   "id": "dc9ecf7b-9fad-4ee1-99c1-9abae3b3440a",
   "metadata": {},
   "outputs": [],
   "source": [
    "ann.add(tf.keras.layers.Dense(units=1))"
   ]
  },
  {
   "cell_type": "code",
   "execution_count": 134,
   "id": "7611f977-b9bf-4362-a728-2347871053a4",
   "metadata": {},
   "outputs": [
    {
     "name": "stdout",
     "output_type": "stream",
     "text": [
      "Epoch 1/100\n",
      "7/7 [==============================] - 3s 13ms/step - loss: 32.1571\n",
      "Epoch 2/100\n",
      "7/7 [==============================] - 0s 7ms/step - loss: 14.0463\n",
      "Epoch 3/100\n",
      "7/7 [==============================] - 0s 7ms/step - loss: 9.5792\n",
      "Epoch 4/100\n",
      "7/7 [==============================] - 0s 7ms/step - loss: 8.9046\n",
      "Epoch 5/100\n",
      "7/7 [==============================] - 0s 7ms/step - loss: 8.2840\n",
      "Epoch 6/100\n",
      "7/7 [==============================] - 0s 7ms/step - loss: 8.1133\n",
      "Epoch 7/100\n",
      "7/7 [==============================] - 0s 8ms/step - loss: 7.4604\n",
      "Epoch 8/100\n",
      "7/7 [==============================] - 0s 8ms/step - loss: 7.1474\n",
      "Epoch 9/100\n",
      "7/7 [==============================] - 0s 7ms/step - loss: 6.6579\n",
      "Epoch 10/100\n",
      "7/7 [==============================] - 0s 8ms/step - loss: 5.9027\n",
      "Epoch 11/100\n",
      "7/7 [==============================] - 0s 8ms/step - loss: 5.3127\n",
      "Epoch 12/100\n",
      "7/7 [==============================] - 0s 8ms/step - loss: 4.6981\n",
      "Epoch 13/100\n",
      "7/7 [==============================] - 0s 6ms/step - loss: 4.4297\n",
      "Epoch 14/100\n",
      "7/7 [==============================] - 0s 7ms/step - loss: 3.5477\n",
      "Epoch 15/100\n",
      "7/7 [==============================] - 0s 8ms/step - loss: 3.0280\n",
      "Epoch 16/100\n",
      "7/7 [==============================] - 0s 7ms/step - loss: 2.7136\n",
      "Epoch 17/100\n",
      "7/7 [==============================] - 0s 7ms/step - loss: 2.8596\n",
      "Epoch 18/100\n",
      "7/7 [==============================] - 0s 8ms/step - loss: 2.8366\n",
      "Epoch 19/100\n",
      "7/7 [==============================] - 0s 7ms/step - loss: 2.8619\n",
      "Epoch 20/100\n",
      "7/7 [==============================] - 0s 6ms/step - loss: 2.7088\n",
      "Epoch 21/100\n",
      "7/7 [==============================] - 0s 11ms/step - loss: 2.6570\n",
      "Epoch 22/100\n",
      "7/7 [==============================] - 0s 8ms/step - loss: 2.7581\n",
      "Epoch 23/100\n",
      "7/7 [==============================] - 0s 8ms/step - loss: 2.6772\n",
      "Epoch 24/100\n",
      "7/7 [==============================] - 0s 7ms/step - loss: 2.7034\n",
      "Epoch 25/100\n",
      "7/7 [==============================] - 0s 8ms/step - loss: 2.7643\n",
      "Epoch 26/100\n",
      "7/7 [==============================] - 0s 8ms/step - loss: 2.7048\n",
      "Epoch 27/100\n",
      "7/7 [==============================] - 0s 7ms/step - loss: 2.7171\n",
      "Epoch 28/100\n",
      "7/7 [==============================] - 0s 6ms/step - loss: 2.6328\n",
      "Epoch 29/100\n",
      "7/7 [==============================] - 0s 8ms/step - loss: 2.6728\n",
      "Epoch 30/100\n",
      "7/7 [==============================] - 0s 8ms/step - loss: 2.7109\n",
      "Epoch 31/100\n",
      "7/7 [==============================] - 0s 6ms/step - loss: 2.6636\n",
      "Epoch 32/100\n",
      "7/7 [==============================] - 0s 8ms/step - loss: 2.8975\n",
      "Epoch 33/100\n",
      "7/7 [==============================] - 0s 8ms/step - loss: 2.6482\n",
      "Epoch 34/100\n",
      "7/7 [==============================] - 0s 8ms/step - loss: 2.6056\n",
      "Epoch 35/100\n",
      "7/7 [==============================] - 0s 6ms/step - loss: 2.6323\n",
      "Epoch 36/100\n",
      "7/7 [==============================] - 0s 8ms/step - loss: 2.6603\n",
      "Epoch 37/100\n",
      "7/7 [==============================] - 0s 8ms/step - loss: 2.6453\n",
      "Epoch 38/100\n",
      "7/7 [==============================] - 0s 7ms/step - loss: 2.6155\n",
      "Epoch 39/100\n",
      "7/7 [==============================] - 0s 8ms/step - loss: 2.6596\n",
      "Epoch 40/100\n",
      "7/7 [==============================] - 0s 6ms/step - loss: 2.6576\n",
      "Epoch 41/100\n",
      "7/7 [==============================] - 0s 6ms/step - loss: 2.6262\n",
      "Epoch 42/100\n",
      "7/7 [==============================] - 0s 7ms/step - loss: 2.6336\n",
      "Epoch 43/100\n",
      "7/7 [==============================] - 0s 8ms/step - loss: 2.6521\n",
      "Epoch 44/100\n",
      "7/7 [==============================] - 0s 7ms/step - loss: 2.9185\n",
      "Epoch 45/100\n",
      "7/7 [==============================] - 0s 8ms/step - loss: 2.7527\n",
      "Epoch 46/100\n",
      "7/7 [==============================] - 0s 7ms/step - loss: 2.7455\n",
      "Epoch 47/100\n",
      "7/7 [==============================] - 0s 8ms/step - loss: 2.6462\n",
      "Epoch 48/100\n",
      "7/7 [==============================] - 0s 8ms/step - loss: 2.6099\n",
      "Epoch 49/100\n",
      "7/7 [==============================] - 0s 6ms/step - loss: 2.6305\n",
      "Epoch 50/100\n",
      "7/7 [==============================] - 0s 8ms/step - loss: 2.5819\n",
      "Epoch 51/100\n",
      "7/7 [==============================] - 0s 13ms/step - loss: 2.6104\n",
      "Epoch 52/100\n",
      "7/7 [==============================] - 0s 8ms/step - loss: 2.8748\n",
      "Epoch 53/100\n",
      "7/7 [==============================] - 0s 7ms/step - loss: 2.7009\n",
      "Epoch 54/100\n",
      "7/7 [==============================] - 0s 7ms/step - loss: 2.7025\n",
      "Epoch 55/100\n",
      "7/7 [==============================] - 0s 8ms/step - loss: 2.6147\n",
      "Epoch 56/100\n",
      "7/7 [==============================] - 0s 7ms/step - loss: 2.6316\n",
      "Epoch 57/100\n",
      "7/7 [==============================] - 0s 8ms/step - loss: 2.5746\n",
      "Epoch 58/100\n",
      "7/7 [==============================] - 0s 7ms/step - loss: 2.7208\n",
      "Epoch 59/100\n",
      "7/7 [==============================] - 0s 7ms/step - loss: 2.5702\n",
      "Epoch 60/100\n",
      "7/7 [==============================] - 0s 7ms/step - loss: 2.5740\n",
      "Epoch 61/100\n",
      "7/7 [==============================] - 0s 6ms/step - loss: 2.6009\n",
      "Epoch 62/100\n",
      "7/7 [==============================] - 0s 7ms/step - loss: 2.6582\n",
      "Epoch 63/100\n",
      "7/7 [==============================] - 0s 7ms/step - loss: 2.5637\n",
      "Epoch 64/100\n",
      "7/7 [==============================] - 0s 8ms/step - loss: 2.6172\n",
      "Epoch 65/100\n",
      "7/7 [==============================] - 0s 8ms/step - loss: 2.5736\n",
      "Epoch 66/100\n",
      "7/7 [==============================] - 0s 7ms/step - loss: 2.6772\n",
      "Epoch 67/100\n",
      "7/7 [==============================] - 0s 5ms/step - loss: 2.8008\n",
      "Epoch 68/100\n",
      "7/7 [==============================] - 0s 7ms/step - loss: 2.6794\n",
      "Epoch 69/100\n",
      "7/7 [==============================] - 0s 7ms/step - loss: 2.6153\n",
      "Epoch 70/100\n",
      "7/7 [==============================] - 0s 8ms/step - loss: 2.6038\n",
      "Epoch 71/100\n",
      "7/7 [==============================] - 0s 7ms/step - loss: 2.8121\n",
      "Epoch 72/100\n",
      "7/7 [==============================] - 0s 7ms/step - loss: 2.5718\n",
      "Epoch 73/100\n",
      "7/7 [==============================] - 0s 7ms/step - loss: 2.5209\n",
      "Epoch 74/100\n",
      "7/7 [==============================] - 0s 7ms/step - loss: 2.6340\n",
      "Epoch 75/100\n",
      "7/7 [==============================] - 0s 6ms/step - loss: 2.6502\n",
      "Epoch 76/100\n",
      "7/7 [==============================] - 0s 7ms/step - loss: 2.5678\n",
      "Epoch 77/100\n",
      "7/7 [==============================] - 0s 7ms/step - loss: 2.5630\n",
      "Epoch 78/100\n",
      "7/7 [==============================] - 0s 8ms/step - loss: 2.6590\n",
      "Epoch 79/100\n",
      "7/7 [==============================] - 0s 8ms/step - loss: 2.5014\n",
      "Epoch 80/100\n",
      "7/7 [==============================] - 0s 7ms/step - loss: 2.7463\n",
      "Epoch 81/100\n",
      "7/7 [==============================] - 0s 7ms/step - loss: 2.4275\n",
      "Epoch 82/100\n",
      "7/7 [==============================] - 0s 7ms/step - loss: 2.6805\n",
      "Epoch 83/100\n",
      "7/7 [==============================] - 0s 7ms/step - loss: 3.0910\n",
      "Epoch 84/100\n",
      "7/7 [==============================] - 0s 7ms/step - loss: 3.0852\n",
      "Epoch 85/100\n",
      "7/7 [==============================] - 0s 7ms/step - loss: 2.7101\n",
      "Epoch 86/100\n",
      "7/7 [==============================] - 0s 8ms/step - loss: 2.6767\n",
      "Epoch 87/100\n",
      "7/7 [==============================] - 0s 8ms/step - loss: 2.5690\n",
      "Epoch 88/100\n",
      "7/7 [==============================] - 0s 8ms/step - loss: 2.4403\n",
      "Epoch 89/100\n",
      "7/7 [==============================] - 0s 8ms/step - loss: 2.3841\n",
      "Epoch 90/100\n",
      "7/7 [==============================] - 0s 6ms/step - loss: 2.3323\n",
      "Epoch 91/100\n",
      "7/7 [==============================] - 0s 7ms/step - loss: 2.3098\n",
      "Epoch 92/100\n",
      "7/7 [==============================] - 0s 7ms/step - loss: 2.9207\n",
      "Epoch 93/100\n",
      "7/7 [==============================] - 0s 7ms/step - loss: 2.7299\n",
      "Epoch 94/100\n",
      "7/7 [==============================] - 0s 8ms/step - loss: 2.6242\n",
      "Epoch 95/100\n",
      "7/7 [==============================] - 0s 7ms/step - loss: 2.3364\n",
      "Epoch 96/100\n",
      "7/7 [==============================] - 0s 6ms/step - loss: 2.2426\n",
      "Epoch 97/100\n",
      "7/7 [==============================] - 0s 7ms/step - loss: 1.6868\n",
      "Epoch 98/100\n",
      "7/7 [==============================] - 0s 6ms/step - loss: 3.0860\n",
      "Epoch 99/100\n",
      "7/7 [==============================] - 0s 8ms/step - loss: 2.7357\n",
      "Epoch 100/100\n",
      "7/7 [==============================] - 0s 6ms/step - loss: 2.6302\n"
     ]
    },
    {
     "data": {
      "text/plain": [
       "<keras.callbacks.History at 0x26e993cc9a0>"
      ]
     },
     "execution_count": 134,
     "metadata": {},
     "output_type": "execute_result"
    }
   ],
   "source": [
    "ann.fit(final, score, batch_size=32, epochs=100)\n"
   ]
  },
  {
   "cell_type": "code",
   "execution_count": 143,
   "id": "508f851a-428f-479d-8464-99e6963f73bb",
   "metadata": {},
   "outputs": [
    {
     "data": {
      "text/plain": [
       "(224, 166)"
      ]
     },
     "execution_count": 143,
     "metadata": {},
     "output_type": "execute_result"
    }
   ],
   "source": [
    "final.shape"
   ]
  },
  {
   "cell_type": "code",
   "execution_count": 144,
   "id": "442baebe-96f6-4518-b81a-2318a5b57c1b",
   "metadata": {},
   "outputs": [],
   "source": [
    "kw = 'recoveryofmoney'"
   ]
  },
  {
   "cell_type": "code",
   "execution_count": 145,
   "id": "2979eedf-9036-4001-99d1-84f351455576",
   "metadata": {},
   "outputs": [],
   "source": [
    "p1=ctkw.transform([[kw]])"
   ]
  },
  {
   "cell_type": "code",
   "execution_count": 146,
   "id": "62313e14-a5dd-407e-9f6e-640522767589",
   "metadata": {},
   "outputs": [],
   "source": [
    "acs= '370'"
   ]
  },
  {
   "cell_type": "code",
   "execution_count": 147,
   "id": "3db9a740-5c63-4872-9fcb-7a74386eabee",
   "metadata": {},
   "outputs": [],
   "source": [
    "p2= ctacs.transform([[acs]])"
   ]
  },
  {
   "cell_type": "code",
   "execution_count": 148,
   "id": "045b88bd-daa5-4948-983c-8d3647e5c876",
   "metadata": {},
   "outputs": [
    {
     "data": {
      "text/plain": [
       "(1, 80)"
      ]
     },
     "execution_count": 148,
     "metadata": {},
     "output_type": "execute_result"
    }
   ],
   "source": [
    "p2.shape"
   ]
  },
  {
   "cell_type": "code",
   "execution_count": 149,
   "id": "7e436ed5-000b-46a3-80fa-52dd940e4813",
   "metadata": {},
   "outputs": [],
   "source": [
    "st = 'misccases/purpose'"
   ]
  },
  {
   "cell_type": "code",
   "execution_count": 150,
   "id": "ab75e949-83af-4f3a-b9e8-7d7fb7ba6211",
   "metadata": {},
   "outputs": [],
   "source": [
    "p3=ctst.transform([[st]])"
   ]
  },
  {
   "cell_type": "code",
   "execution_count": 151,
   "id": "dbef7bdf-114b-4bb9-9408-aba8595e0ce6",
   "metadata": {},
   "outputs": [],
   "source": [
    "cs = 'csdj'"
   ]
  },
  {
   "cell_type": "code",
   "execution_count": 152,
   "id": "47c37f12-78a3-455a-9c18-7fceb87250e2",
   "metadata": {},
   "outputs": [],
   "source": [
    "p4=ctty.transform([[cs]])"
   ]
  },
  {
   "cell_type": "code",
   "execution_count": 153,
   "id": "192ccef3-9eab-46b4-8ea0-602ab76e56a4",
   "metadata": {},
   "outputs": [],
   "source": [
    "from scipy.sparse import hstack"
   ]
  },
  {
   "cell_type": "code",
   "execution_count": 154,
   "id": "fee8636b-fbc3-4782-b06f-9cf2da0d68c8",
   "metadata": {},
   "outputs": [],
   "source": [
    "pre = hstack((p1,p2))"
   ]
  },
  {
   "cell_type": "code",
   "execution_count": 155,
   "id": "c530590a-32dd-49a0-a1d6-4f6eed037d1b",
   "metadata": {},
   "outputs": [],
   "source": [
    "pre= hstack((pre, p3))"
   ]
  },
  {
   "cell_type": "code",
   "execution_count": 156,
   "id": "24bc202c-e86c-4abd-923e-2601a4893ce2",
   "metadata": {},
   "outputs": [],
   "source": [
    "pre = hstack((pre, p4))"
   ]
  },
  {
   "cell_type": "code",
   "execution_count": 157,
   "id": "47201e86-3cce-4bd2-80f3-ff9ef10ffb29",
   "metadata": {},
   "outputs": [],
   "source": [
    "pre = hstack((pre, [[500]]))"
   ]
  },
  {
   "cell_type": "code",
   "execution_count": 158,
   "id": "ce3dbd63-6932-46d7-bfc4-0c6cfe9e3912",
   "metadata": {},
   "outputs": [
    {
     "data": {
      "text/plain": [
       "(1, 166)"
      ]
     },
     "execution_count": 158,
     "metadata": {},
     "output_type": "execute_result"
    }
   ],
   "source": [
    "pre.shape"
   ]
  },
  {
   "cell_type": "code",
   "execution_count": 159,
   "id": "602f2754-7d63-466b-b8fe-52e217245b0a",
   "metadata": {},
   "outputs": [],
   "source": [
    "pre = pre.toarray()"
   ]
  },
  {
   "cell_type": "code",
   "execution_count": 160,
   "id": "ff818b72-5826-4f76-8760-778d795505e7",
   "metadata": {},
   "outputs": [
    {
     "data": {
      "text/plain": [
       "(1, 166)"
      ]
     },
     "execution_count": 160,
     "metadata": {},
     "output_type": "execute_result"
    }
   ],
   "source": [
    "pre.shape"
   ]
  },
  {
   "cell_type": "code",
   "execution_count": 161,
   "id": "33c07f37-ec60-4f94-bedd-401bd40fffc6",
   "metadata": {},
   "outputs": [
    {
     "name": "stdout",
     "output_type": "stream",
     "text": [
      "WARNING:tensorflow:Layers in a Sequential model should only have a single input tensor. Received: inputs=(<tf.Tensor 'IteratorGetNext:0' shape=(None, 166) dtype=float32>,). Consider rewriting this model with the Functional API.\n",
      "1/1 [==============================] - 0s 455ms/step\n"
     ]
    },
    {
     "data": {
      "text/plain": [
       "array([[5.725671]], dtype=float32)"
      ]
     },
     "execution_count": 161,
     "metadata": {},
     "output_type": "execute_result"
    }
   ],
   "source": [
    "ann.predict([pre])"
   ]
  },
  {
   "cell_type": "code",
   "execution_count": 162,
   "id": "7d45e5c0-4d6c-4bf8-83e6-22d2cabf424f",
   "metadata": {},
   "outputs": [],
   "source": [
    "import pickle"
   ]
  },
  {
   "cell_type": "code",
   "execution_count": null,
   "id": "fff7be81-42b2-4098-bb69-2c008c83af56",
   "metadata": {},
   "outputs": [],
   "source": []
  },
  {
   "cell_type": "code",
   "execution_count": 163,
   "id": "d2b04ba2-dcf5-4875-97f2-cc5e97597b77",
   "metadata": {},
   "outputs": [],
   "source": [
    "pickle_out=open('ann.pkl', 'wb')"
   ]
  },
  {
   "cell_type": "code",
   "execution_count": 164,
   "id": "9a435d8f-228f-49fb-9e50-64c171672072",
   "metadata": {},
   "outputs": [
    {
     "name": "stdout",
     "output_type": "stream",
     "text": [
      "INFO:tensorflow:Assets written to: ram://73731441-5a93-4d2c-9198-0990f93f231e/assets\n"
     ]
    }
   ],
   "source": [
    "pickle.dump(ann, pickle_out)"
   ]
  },
  {
   "cell_type": "code",
   "execution_count": 165,
   "id": "167eb113-badc-4aca-b629-a1c2cf8bad71",
   "metadata": {},
   "outputs": [],
   "source": [
    "pickle_out.close()"
   ]
  },
  {
   "cell_type": "code",
   "execution_count": 166,
   "id": "22eaf896-493b-4749-822d-57175666d235",
   "metadata": {},
   "outputs": [],
   "source": [
    "pickle_out=open('key_word.pkl', 'wb')"
   ]
  },
  {
   "cell_type": "code",
   "execution_count": 167,
   "id": "b58f97bf-fa7c-4ac8-9f54-8203fd077a7e",
   "metadata": {},
   "outputs": [],
   "source": [
    "pickle.dump(ctkw, pickle_out)"
   ]
  },
  {
   "cell_type": "code",
   "execution_count": 168,
   "id": "03aea8c4-9a36-4350-8a32-ca0bf4ef5cec",
   "metadata": {},
   "outputs": [],
   "source": [
    "pickle_out=open('sub_case.pkl', 'wb')\n",
    "pickle.dump(ctacs, pickle_out)"
   ]
  },
  {
   "cell_type": "code",
   "execution_count": 169,
   "id": "51168358-1bd4-4e38-aca3-a8d4eb8f02f6",
   "metadata": {},
   "outputs": [],
   "source": [
    "pickle_out=open('stage.pkl', 'wb')\n",
    "pickle.dump(ctacs, pickle_out)"
   ]
  },
  {
   "cell_type": "code",
   "execution_count": 171,
   "id": "3759ad61-9bf6-4846-b2ba-75664342c205",
   "metadata": {},
   "outputs": [],
   "source": [
    "pickle_out=open('type.pkl', 'wb')\n",
    "pickle.dump(ctacs, pickle_out)"
   ]
  },
  {
   "cell_type": "code",
   "execution_count": 170,
   "id": "df15b574-1ccf-4181-b583-9c7c577c1f76",
   "metadata": {},
   "outputs": [
    {
     "data": {
      "text/html": [
       "<div>\n",
       "<style scoped>\n",
       "    .dataframe tbody tr th:only-of-type {\n",
       "        vertical-align: middle;\n",
       "    }\n",
       "\n",
       "    .dataframe tbody tr th {\n",
       "        vertical-align: top;\n",
       "    }\n",
       "\n",
       "    .dataframe thead th {\n",
       "        text-align: right;\n",
       "    }\n",
       "</style>\n",
       "<table border=\"1\" class=\"dataframe\">\n",
       "  <thead>\n",
       "    <tr style=\"text-align: right;\">\n",
       "      <th></th>\n",
       "      <th>Date</th>\n",
       "      <th>KeyWord</th>\n",
       "      <th>ActSubCase</th>\n",
       "      <th>Stage</th>\n",
       "      <th>Type</th>\n",
       "      <th>Date_new</th>\n",
       "      <th>days</th>\n",
       "    </tr>\n",
       "  </thead>\n",
       "  <tbody>\n",
       "    <tr>\n",
       "      <th>0</th>\n",
       "      <td>2021-05-01 00:00:00</td>\n",
       "      <td>recoveryofmoney</td>\n",
       "      <td>370</td>\n",
       "      <td>misccases/purpose</td>\n",
       "      <td>cs(comm)</td>\n",
       "      <td>2021-05-01</td>\n",
       "      <td>466</td>\n",
       "    </tr>\n",
       "    <tr>\n",
       "      <th>1</th>\n",
       "      <td>2021-07-09 00:00:00</td>\n",
       "      <td>permanentinjuction</td>\n",
       "      <td>730</td>\n",
       "      <td>misccases/purpose</td>\n",
       "      <td>csdj</td>\n",
       "      <td>2021-07-09</td>\n",
       "      <td>397</td>\n",
       "    </tr>\n",
       "    <tr>\n",
       "      <th>2</th>\n",
       "      <td>22-9-2021</td>\n",
       "      <td>executionact1990</td>\n",
       "      <td>10</td>\n",
       "      <td>misccases/purpose</td>\n",
       "      <td>ex</td>\n",
       "      <td>2021-09-22</td>\n",
       "      <td>322</td>\n",
       "    </tr>\n",
       "    <tr>\n",
       "      <th>3</th>\n",
       "      <td>23-9-2021</td>\n",
       "      <td>recoveryofmoney</td>\n",
       "      <td>2(1)(c)(i)</td>\n",
       "      <td>plaintiff/petitionerevidence</td>\n",
       "      <td>cs(comm)</td>\n",
       "      <td>2021-09-23</td>\n",
       "      <td>321</td>\n",
       "    </tr>\n",
       "    <tr>\n",
       "      <th>4</th>\n",
       "      <td>29-9-2021</td>\n",
       "      <td>recoveryofmoney</td>\n",
       "      <td>1510</td>\n",
       "      <td>misccases/purpose</td>\n",
       "      <td>cs(comm)</td>\n",
       "      <td>2021-09-29</td>\n",
       "      <td>315</td>\n",
       "    </tr>\n",
       "  </tbody>\n",
       "</table>\n",
       "</div>"
      ],
      "text/plain": [
       "                  Date             KeyWord  ActSubCase  \\\n",
       "0  2021-05-01 00:00:00     recoveryofmoney         370   \n",
       "1  2021-07-09 00:00:00  permanentinjuction         730   \n",
       "2            22-9-2021    executionact1990          10   \n",
       "3            23-9-2021     recoveryofmoney  2(1)(c)(i)   \n",
       "4            29-9-2021     recoveryofmoney        1510   \n",
       "\n",
       "                          Stage      Type    Date_new  days  \n",
       "0             misccases/purpose  cs(comm)  2021-05-01   466  \n",
       "1             misccases/purpose      csdj  2021-07-09   397  \n",
       "2             misccases/purpose        ex  2021-09-22   322  \n",
       "3  plaintiff/petitionerevidence  cs(comm)  2021-09-23   321  \n",
       "4             misccases/purpose  cs(comm)  2021-09-29   315  "
      ]
     },
     "execution_count": 170,
     "metadata": {},
     "output_type": "execute_result"
    }
   ],
   "source": [
    "data.head()"
   ]
  },
  {
   "cell_type": "code",
   "execution_count": null,
   "id": "a2ea2390-fc8d-4985-8db0-cc2da8a75d2c",
   "metadata": {},
   "outputs": [],
   "source": []
  },
  {
   "cell_type": "code",
   "execution_count": null,
   "id": "e78a350b-affe-4cb9-817c-f58a2418dc88",
   "metadata": {},
   "outputs": [],
   "source": []
  },
  {
   "cell_type": "code",
   "execution_count": null,
   "id": "5a81f089-ef04-409c-9385-06885b9a56ca",
   "metadata": {},
   "outputs": [],
   "source": []
  },
  {
   "cell_type": "code",
   "execution_count": null,
   "id": "a7faa792-4f61-46ee-8a8e-ab94cd51b0e8",
   "metadata": {},
   "outputs": [],
   "source": []
  },
  {
   "cell_type": "code",
   "execution_count": null,
   "id": "73b7424c-b947-4109-bd41-22f171e23e91",
   "metadata": {},
   "outputs": [],
   "source": []
  },
  {
   "cell_type": "code",
   "execution_count": null,
   "id": "7d98c49b-6e82-4bf5-8247-9282c95c4c34",
   "metadata": {},
   "outputs": [],
   "source": []
  },
  {
   "cell_type": "code",
   "execution_count": null,
   "id": "208798ed-3c54-4615-8f64-3f0f3b4c16fe",
   "metadata": {},
   "outputs": [],
   "source": []
  },
  {
   "cell_type": "code",
   "execution_count": null,
   "id": "f574f1a7-1225-4873-8fe7-be6a923aaa24",
   "metadata": {},
   "outputs": [],
   "source": []
  },
  {
   "cell_type": "code",
   "execution_count": null,
   "id": "6a114f65-984f-4f61-9697-6952fb666d20",
   "metadata": {},
   "outputs": [],
   "source": []
  },
  {
   "cell_type": "code",
   "execution_count": null,
   "id": "c1d211ee-bfb7-43af-8615-091d4cba5cee",
   "metadata": {},
   "outputs": [],
   "source": []
  },
  {
   "cell_type": "code",
   "execution_count": null,
   "id": "679e3245-8fc1-49f2-ab1b-4e427cb03acc",
   "metadata": {},
   "outputs": [],
   "source": []
  },
  {
   "cell_type": "code",
   "execution_count": null,
   "id": "955c4b58-b587-4b20-8794-28d4f20243bf",
   "metadata": {},
   "outputs": [],
   "source": []
  },
  {
   "cell_type": "code",
   "execution_count": null,
   "id": "4157fa1c-3564-429d-999d-73bb79940424",
   "metadata": {},
   "outputs": [],
   "source": []
  },
  {
   "cell_type": "code",
   "execution_count": null,
   "id": "fab80af7-e665-49a9-a0ea-f27446a1de5e",
   "metadata": {},
   "outputs": [],
   "source": []
  },
  {
   "cell_type": "code",
   "execution_count": null,
   "id": "47cc30f7-d85a-4ae5-beba-c1dda0d8b1c5",
   "metadata": {},
   "outputs": [],
   "source": []
  },
  {
   "cell_type": "code",
   "execution_count": null,
   "id": "3790ad6d-7715-4025-afe1-6b72023bd3be",
   "metadata": {},
   "outputs": [],
   "source": []
  },
  {
   "cell_type": "code",
   "execution_count": null,
   "id": "d43201e2-dd04-492e-9119-f75661e2ea28",
   "metadata": {},
   "outputs": [],
   "source": []
  },
  {
   "cell_type": "code",
   "execution_count": null,
   "id": "c25f44cd-15cb-42ca-988b-8d8b24fa8a7e",
   "metadata": {},
   "outputs": [],
   "source": []
  },
  {
   "cell_type": "code",
   "execution_count": null,
   "id": "0ddd8068-26b0-4349-be48-3178e66f5571",
   "metadata": {},
   "outputs": [],
   "source": []
  },
  {
   "cell_type": "code",
   "execution_count": null,
   "id": "61ecfb15-8af4-487e-b055-864eb7104025",
   "metadata": {},
   "outputs": [],
   "source": []
  },
  {
   "cell_type": "code",
   "execution_count": null,
   "id": "4c8049cb-e218-41e8-acb0-49d1a88fb5dc",
   "metadata": {},
   "outputs": [],
   "source": []
  },
  {
   "cell_type": "code",
   "execution_count": null,
   "id": "d62a9b5f-89ae-48de-9afe-049fb0ebbfd2",
   "metadata": {},
   "outputs": [],
   "source": []
  },
  {
   "cell_type": "code",
   "execution_count": null,
   "id": "d7bc9959-eed3-4a47-b41f-368c03995b36",
   "metadata": {},
   "outputs": [],
   "source": []
  },
  {
   "cell_type": "code",
   "execution_count": null,
   "id": "5bbd4c89-7928-47a2-a3ea-3b764ca31fff",
   "metadata": {},
   "outputs": [],
   "source": []
  },
  {
   "cell_type": "code",
   "execution_count": null,
   "id": "73a3b6a2-49a7-4820-b415-35b003852a36",
   "metadata": {},
   "outputs": [],
   "source": []
  },
  {
   "cell_type": "code",
   "execution_count": null,
   "id": "01d5435d-54b9-4f1e-8766-242d350b779a",
   "metadata": {},
   "outputs": [],
   "source": []
  },
  {
   "cell_type": "code",
   "execution_count": null,
   "id": "dad5491f-c046-4f3a-b1ba-6d3c1b600ab8",
   "metadata": {},
   "outputs": [],
   "source": []
  },
  {
   "cell_type": "code",
   "execution_count": null,
   "id": "6aca30f9-bd42-4380-bd89-6c9888e82cf0",
   "metadata": {},
   "outputs": [],
   "source": []
  },
  {
   "cell_type": "code",
   "execution_count": null,
   "id": "4cf902e0-6a26-49ef-b44e-782fd083b05e",
   "metadata": {},
   "outputs": [],
   "source": []
  },
  {
   "cell_type": "code",
   "execution_count": null,
   "id": "f1643b14-ec74-4d8e-b48d-e7aaf4aaf8bc",
   "metadata": {},
   "outputs": [],
   "source": []
  },
  {
   "cell_type": "code",
   "execution_count": null,
   "id": "0c233ac4-b432-4925-a75e-74ba76f0dc53",
   "metadata": {},
   "outputs": [],
   "source": []
  },
  {
   "cell_type": "code",
   "execution_count": null,
   "id": "3b84739c-5637-4cfc-b784-9fadf239926c",
   "metadata": {},
   "outputs": [],
   "source": []
  },
  {
   "cell_type": "code",
   "execution_count": null,
   "id": "df72456f-350a-4d17-be35-827a7a4dcee4",
   "metadata": {},
   "outputs": [],
   "source": []
  },
  {
   "cell_type": "code",
   "execution_count": null,
   "id": "5d5fd3e8-1f9e-4213-95d0-73c853005707",
   "metadata": {},
   "outputs": [],
   "source": []
  },
  {
   "cell_type": "code",
   "execution_count": null,
   "id": "b98b4222-117e-4469-b8d0-1f14625f86f9",
   "metadata": {},
   "outputs": [],
   "source": []
  },
  {
   "cell_type": "code",
   "execution_count": null,
   "id": "127db28a-5c51-4e3b-abf2-4deace50a591",
   "metadata": {},
   "outputs": [],
   "source": []
  },
  {
   "cell_type": "code",
   "execution_count": null,
   "id": "f7b3f5fa-38fa-443d-a5ab-6f3d1b280f0e",
   "metadata": {},
   "outputs": [],
   "source": []
  }
 ],
 "metadata": {
  "kernelspec": {
   "display_name": "Python 3 (ipykernel)",
   "language": "python",
   "name": "python3"
  },
  "language_info": {
   "codemirror_mode": {
    "name": "ipython",
    "version": 3
   },
   "file_extension": ".py",
   "mimetype": "text/x-python",
   "name": "python",
   "nbconvert_exporter": "python",
   "pygments_lexer": "ipython3",
   "version": "3.9.7"
  },
  "widgets": {
   "application/vnd.jupyter.widget-state+json": {
    "state": {},
    "version_major": 2,
    "version_minor": 0
   }
  }
 },
 "nbformat": 4,
 "nbformat_minor": 5
}
